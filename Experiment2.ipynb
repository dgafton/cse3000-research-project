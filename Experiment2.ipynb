{
 "cells": [
  {
   "cell_type": "code",
   "execution_count": 1,
   "outputs": [],
   "source": [
    "import pandas as pd\n",
    "import numpy as np\n",
    "import matplotlib.pyplot as plt\n",
    "import lcdb\n",
    "from tqdm import tqdm\n",
    "from sklearn.exceptions import ConvergenceWarning\n",
    "from sklearn.utils._testing import ignore_warnings"
   ],
   "metadata": {
    "collapsed": false,
    "ExecuteTime": {
     "end_time": "2024-01-27T08:44:45.963584Z",
     "start_time": "2024-01-27T08:44:31.365585500Z"
    }
   }
  },
  {
   "cell_type": "code",
   "execution_count": 2,
   "outputs": [],
   "source": [
    "def evaluate_nonmonotonicity(interval, threshold):\n",
    "    return threshold <= interval"
   ],
   "metadata": {
    "collapsed": false,
    "ExecuteTime": {
     "end_time": "2024-01-27T08:44:45.971837900Z",
     "start_time": "2024-01-27T08:44:45.963584Z"
    }
   }
  },
  {
   "cell_type": "code",
   "execution_count": 3,
   "outputs": [],
   "source": [
    "@ignore_warnings(category=ConvergenceWarning)\n",
    "@ignore_warnings(category=UserWarning)\n",
    "@ignore_warnings(category=RuntimeWarning)\n",
    "def evaluate_learningcurve(learning_curve, limit):\n",
    "    threshold = 0\n",
    "\n",
    "    Y_distances = []\n",
    "    min = np.min(learning_curve)\n",
    "    max = np.max(learning_curve)\n",
    "    learning_curve = np.array(learning_curve)\n",
    "\n",
    "    for i in range(1, len(learning_curve)):\n",
    "        Y_distances.append(learning_curve[i] - learning_curve[i-1])\n",
    "        threshold += np.abs(learning_curve[i] - learning_curve[i-1])\n",
    "\n",
    "    threshold = limit * threshold / len(learning_curve)\n",
    "    increasing = True\n",
    "\n",
    "    current_interval = 0\n",
    "    occurances = 0\n",
    "    significances = []\n",
    "\n",
    "    if Y_distances[0] < 0:\n",
    "        increasing = False\n",
    "        current_interval += np.abs(Y_distances[0])\n",
    "\n",
    "    non_monotone = False\n",
    "\n",
    "\n",
    "    for i in range(1, len(Y_distances)):\n",
    "        if increasing == (Y_distances[i] < 0):\n",
    "            increasing = not increasing\n",
    "            if evaluate_nonmonotonicity(current_interval, threshold) and increasing and Y_distances[i-1] < 0:\n",
    "                occurances += 1\n",
    "                significances.append(current_interval/(max - min))\n",
    "                non_monotone = True\n",
    "            current_interval = np.abs(Y_distances[i])\n",
    "        elif i == len(Y_distances) - 1 and evaluate_nonmonotonicity(current_interval, threshold) and Y_distances[i] < 0:\n",
    "            count_end = True\n",
    "            occurances += 1\n",
    "            significances.append(current_interval/(max - min))\n",
    "            non_monotone = True\n",
    "        else:\n",
    "            current_interval += np.abs(Y_distances[i])\n",
    "\n",
    "    significance = 0\n",
    "\n",
    "    if len(significances) > 0:\n",
    "        significance = np.max(significances)\n",
    "\n",
    "\n",
    "    return non_monotone, occurances, significance"
   ],
   "metadata": {
    "collapsed": false,
    "ExecuteTime": {
     "end_time": "2024-01-27T08:53:57.595085Z",
     "start_time": "2024-01-27T08:53:57.514162Z"
    }
   }
  },
  {
   "cell_type": "code",
   "execution_count": 4,
   "outputs": [],
   "source": [
    "def plot_learningcurve(anchors, scores, starting_point, ending_point, flag):\n",
    "    plt.figure(figsize=(10, 4))\n",
    "    plt.plot(anchors, scores)\n",
    "    if flag:\n",
    "        plt.scatter(anchors[starting_point], scores[starting_point],  color=\"red\")\n",
    "        plt.scatter(anchors[ending_point], scores[ending_point],  color=\"green\")\n",
    "        plt.plot(anchors[starting_point:ending_point+1], scores[starting_point:ending_point+1])\n",
    "    plt.title(\"Plot of learning curve\")\n",
    "    plt.xlabel(\"Number of training instances\")\n",
    "    plt.ylabel(\"Accuracy\")\n",
    "    plt.show()"
   ],
   "metadata": {
    "collapsed": false,
    "ExecuteTime": {
     "end_time": "2024-01-27T08:54:02.930473400Z",
     "start_time": "2024-01-27T08:54:02.903577400Z"
    }
   }
  },
  {
   "cell_type": "code",
   "execution_count": 5,
   "outputs": [],
   "source": [
    "def compute_data_occurences(occurances):\n",
    "    occ1, occ2, occ3, occ4 = 0, 0, 0, 0\n",
    "\n",
    "    for occurence in occurances:\n",
    "        if occurence <= 2:\n",
    "            occ1 += 1\n",
    "        elif occurence <= 4:\n",
    "            occ2 += 1\n",
    "        elif occurence <= 6:\n",
    "            occ3 += 1\n",
    "        else:\n",
    "            occ4 += 1\n",
    "\n",
    "    return occ1, occ2, occ3, occ4\n",
    "\n",
    "def compute_data_significances(significances):\n",
    "    sign1, sign2, sign3, sign4 = 0, 0, 0, 0\n",
    "\n",
    "    for significance in significances:\n",
    "        if significance <= 0.25:\n",
    "            sign1 += 1\n",
    "        elif significance <= 0.5:\n",
    "            sign2 += 1\n",
    "        elif significance <= 0.75:\n",
    "            sign3 += 1\n",
    "        else:\n",
    "            sign4 += 1\n",
    "\n",
    "    return sign1, sign2, sign3, sign4\n",
    "\n"
   ],
   "metadata": {
    "collapsed": false,
    "ExecuteTime": {
     "end_time": "2024-01-27T08:54:05.265318900Z",
     "start_time": "2024-01-27T08:54:05.183246200Z"
    }
   }
  },
  {
   "cell_type": "code",
   "execution_count": 6,
   "outputs": [
    {
     "name": "stderr",
     "output_type": "stream",
     "text": [
      "1it [00:03,  3.75s/it]"
     ]
    },
    {
     "name": "stdout",
     "output_type": "stream",
     "text": [
      "sklearn.discriminant_analysis.LinearDiscriminantAnalysis on 6 is non-monotonic: False, size: 20\n"
     ]
    },
    {
     "name": "stderr",
     "output_type": "stream",
     "text": [
      "2it [00:05,  2.80s/it]"
     ]
    },
    {
     "name": "stdout",
     "output_type": "stream",
     "text": [
      "sklearn.discriminant_analysis.LinearDiscriminantAnalysis on 11 is non-monotonic: False, size: 10\n"
     ]
    },
    {
     "name": "stderr",
     "output_type": "stream",
     "text": [
      "3it [00:07,  2.48s/it]"
     ]
    },
    {
     "name": "stdout",
     "output_type": "stream",
     "text": [
      "sklearn.discriminant_analysis.LinearDiscriminantAnalysis on 12;non-monotonic: True\n"
     ]
    },
    {
     "name": "stderr",
     "output_type": "stream",
     "text": [
      "4it [00:10,  2.32s/it]"
     ]
    },
    {
     "name": "stdout",
     "output_type": "stream",
     "text": [
      "sklearn.discriminant_analysis.LinearDiscriminantAnalysis on 14;non-monotonic: True\n"
     ]
    },
    {
     "name": "stderr",
     "output_type": "stream",
     "text": [
      "5it [00:12,  2.23s/it]"
     ]
    },
    {
     "name": "stdout",
     "output_type": "stream",
     "text": [
      "sklearn.discriminant_analysis.LinearDiscriminantAnalysis on 16 is non-monotonic: False, size: 14\n"
     ]
    },
    {
     "name": "stderr",
     "output_type": "stream",
     "text": [
      "6it [00:14,  2.18s/it]"
     ]
    },
    {
     "name": "stdout",
     "output_type": "stream",
     "text": [
      "sklearn.discriminant_analysis.LinearDiscriminantAnalysis on 18;non-monotonic: True\n"
     ]
    },
    {
     "name": "stderr",
     "output_type": "stream",
     "text": [
      "7it [00:16,  2.16s/it]"
     ]
    },
    {
     "name": "stdout",
     "output_type": "stream",
     "text": [
      "sklearn.discriminant_analysis.LinearDiscriminantAnalysis on 21 is non-monotonic: False, size: 14\n"
     ]
    },
    {
     "name": "stderr",
     "output_type": "stream",
     "text": [
      "8it [00:18,  2.14s/it]"
     ]
    },
    {
     "name": "stdout",
     "output_type": "stream",
     "text": [
      "sklearn.discriminant_analysis.LinearDiscriminantAnalysis on 22;non-monotonic: True\n"
     ]
    },
    {
     "name": "stderr",
     "output_type": "stream",
     "text": [
      "9it [00:20,  2.11s/it]"
     ]
    },
    {
     "name": "stdout",
     "output_type": "stream",
     "text": [
      "sklearn.discriminant_analysis.LinearDiscriminantAnalysis on 23;non-monotonic: True\n"
     ]
    },
    {
     "name": "stderr",
     "output_type": "stream",
     "text": [
      "10it [00:22,  2.12s/it]"
     ]
    },
    {
     "name": "stdout",
     "output_type": "stream",
     "text": [
      "sklearn.discriminant_analysis.LinearDiscriminantAnalysis on 26 is non-monotonic: False, size: 20\n"
     ]
    },
    {
     "name": "stderr",
     "output_type": "stream",
     "text": [
      "11it [00:24,  2.10s/it]"
     ]
    },
    {
     "name": "stdout",
     "output_type": "stream",
     "text": [
      "sklearn.discriminant_analysis.LinearDiscriminantAnalysis on 28;non-monotonic: True\n"
     ]
    },
    {
     "name": "stderr",
     "output_type": "stream",
     "text": [
      "12it [00:26,  2.10s/it]"
     ]
    },
    {
     "name": "stdout",
     "output_type": "stream",
     "text": [
      "sklearn.discriminant_analysis.LinearDiscriminantAnalysis on 30;non-monotonic: True\n"
     ]
    },
    {
     "name": "stderr",
     "output_type": "stream",
     "text": [
      "13it [00:28,  2.10s/it]"
     ]
    },
    {
     "name": "stdout",
     "output_type": "stream",
     "text": [
      "sklearn.discriminant_analysis.LinearDiscriminantAnalysis on 32 is non-monotonic: False, size: 20\n"
     ]
    },
    {
     "name": "stderr",
     "output_type": "stream",
     "text": [
      "14it [00:30,  2.08s/it]"
     ]
    },
    {
     "name": "stdout",
     "output_type": "stream",
     "text": [
      "sklearn.discriminant_analysis.LinearDiscriminantAnalysis on 36 is non-monotonic: False, size: 14\n"
     ]
    },
    {
     "name": "stderr",
     "output_type": "stream",
     "text": [
      "15it [00:33,  2.12s/it]"
     ]
    },
    {
     "name": "stdout",
     "output_type": "stream",
     "text": [
      "sklearn.discriminant_analysis.LinearDiscriminantAnalysis on 44;non-monotonic: True\n"
     ]
    },
    {
     "name": "stderr",
     "output_type": "stream",
     "text": [
      "16it [00:35,  2.12s/it]"
     ]
    },
    {
     "name": "stdout",
     "output_type": "stream",
     "text": [
      "sklearn.discriminant_analysis.LinearDiscriminantAnalysis on 54;non-monotonic: True\n"
     ]
    },
    {
     "name": "stderr",
     "output_type": "stream",
     "text": [
      "17it [00:37,  2.11s/it]"
     ]
    },
    {
     "name": "stdout",
     "output_type": "stream",
     "text": [
      "sklearn.discriminant_analysis.LinearDiscriminantAnalysis on 55;non-monotonic: True\n"
     ]
    },
    {
     "name": "stderr",
     "output_type": "stream",
     "text": [
      "18it [00:39,  2.10s/it]"
     ]
    },
    {
     "name": "stdout",
     "output_type": "stream",
     "text": [
      "sklearn.discriminant_analysis.LinearDiscriminantAnalysis on 60;non-monotonic: True\n"
     ]
    },
    {
     "name": "stderr",
     "output_type": "stream",
     "text": [
      "19it [00:41,  2.13s/it]"
     ]
    },
    {
     "name": "stdout",
     "output_type": "stream",
     "text": [
      "sklearn.discriminant_analysis.LinearDiscriminantAnalysis on 61 is non-monotonic: False, size: 6\n"
     ]
    },
    {
     "name": "stderr",
     "output_type": "stream",
     "text": [
      "20it [00:43,  2.12s/it]"
     ]
    },
    {
     "name": "stdout",
     "output_type": "stream",
     "text": [
      "sklearn.discriminant_analysis.LinearDiscriminantAnalysis on 181;non-monotonic: True\n"
     ]
    },
    {
     "name": "stderr",
     "output_type": "stream",
     "text": [
      "21it [00:45,  2.11s/it]"
     ]
    },
    {
     "name": "stdout",
     "output_type": "stream",
     "text": [
      "sklearn.discriminant_analysis.LinearDiscriminantAnalysis on 182;non-monotonic: True\n"
     ]
    },
    {
     "name": "stderr",
     "output_type": "stream",
     "text": [
      "22it [00:47,  2.10s/it]"
     ]
    },
    {
     "name": "stdout",
     "output_type": "stream",
     "text": [
      "sklearn.discriminant_analysis.LinearDiscriminantAnalysis on 185;non-monotonic: True\n"
     ]
    },
    {
     "name": "stderr",
     "output_type": "stream",
     "text": [
      "23it [00:49,  2.09s/it]"
     ]
    },
    {
     "name": "stdout",
     "output_type": "stream",
     "text": [
      "sklearn.discriminant_analysis.LinearDiscriminantAnalysis on 201;non-monotonic: True\n"
     ]
    },
    {
     "name": "stderr",
     "output_type": "stream",
     "text": [
      "24it [00:52,  2.09s/it]"
     ]
    },
    {
     "name": "stdout",
     "output_type": "stream",
     "text": [
      "sklearn.discriminant_analysis.LinearDiscriminantAnalysis on 273;non-monotonic: True\n"
     ]
    },
    {
     "name": "stderr",
     "output_type": "stream",
     "text": [
      "25it [00:54,  2.08s/it]"
     ]
    },
    {
     "name": "stdout",
     "output_type": "stream",
     "text": [
      "sklearn.discriminant_analysis.LinearDiscriminantAnalysis on 293;non-monotonic: True\n"
     ]
    },
    {
     "name": "stderr",
     "output_type": "stream",
     "text": [
      "26it [00:56,  2.08s/it]"
     ]
    },
    {
     "name": "stdout",
     "output_type": "stream",
     "text": [
      "sklearn.discriminant_analysis.LinearDiscriminantAnalysis on 299;non-monotonic: True\n"
     ]
    },
    {
     "name": "stderr",
     "output_type": "stream",
     "text": [
      "27it [00:58,  2.07s/it]"
     ]
    },
    {
     "name": "stdout",
     "output_type": "stream",
     "text": [
      "sklearn.discriminant_analysis.LinearDiscriminantAnalysis on 300;non-monotonic: True\n"
     ]
    },
    {
     "name": "stderr",
     "output_type": "stream",
     "text": [
      "28it [01:00,  2.06s/it]"
     ]
    },
    {
     "name": "stdout",
     "output_type": "stream",
     "text": [
      "sklearn.discriminant_analysis.LinearDiscriminantAnalysis on 346;non-monotonic: True\n"
     ]
    },
    {
     "name": "stderr",
     "output_type": "stream",
     "text": [
      "29it [01:02,  2.06s/it]"
     ]
    },
    {
     "name": "stdout",
     "output_type": "stream",
     "text": [
      "sklearn.discriminant_analysis.LinearDiscriminantAnalysis on 351;non-monotonic: True\n"
     ]
    },
    {
     "name": "stderr",
     "output_type": "stream",
     "text": [
      "30it [01:04,  2.05s/it]"
     ]
    },
    {
     "name": "stdout",
     "output_type": "stream",
     "text": [
      "sklearn.discriminant_analysis.LinearDiscriminantAnalysis on 354;non-monotonic: True\n"
     ]
    },
    {
     "name": "stderr",
     "output_type": "stream",
     "text": [
      "31it [01:06,  2.06s/it]"
     ]
    },
    {
     "name": "stdout",
     "output_type": "stream",
     "text": [
      "sklearn.discriminant_analysis.LinearDiscriminantAnalysis on 357;non-monotonic: True\n"
     ]
    },
    {
     "name": "stderr",
     "output_type": "stream",
     "text": [
      "32it [01:08,  2.05s/it]"
     ]
    },
    {
     "name": "stdout",
     "output_type": "stream",
     "text": [
      "sklearn.discriminant_analysis.LinearDiscriminantAnalysis on 380 is non-monotonic: False, size: 4\n"
     ]
    },
    {
     "name": "stderr",
     "output_type": "stream",
     "text": [
      "33it [01:11,  2.26s/it]"
     ]
    },
    {
     "name": "stdout",
     "output_type": "stream",
     "text": [
      "sklearn.discriminant_analysis.LinearDiscriminantAnalysis on 389;non-monotonic: True\n"
     ]
    },
    {
     "name": "stderr",
     "output_type": "stream",
     "text": [
      "34it [01:14,  2.55s/it]"
     ]
    },
    {
     "name": "stdout",
     "output_type": "stream",
     "text": [
      "sklearn.discriminant_analysis.LinearDiscriminantAnalysis on 390;non-monotonic: True\n"
     ]
    },
    {
     "name": "stderr",
     "output_type": "stream",
     "text": [
      "35it [01:16,  2.49s/it]"
     ]
    },
    {
     "name": "stdout",
     "output_type": "stream",
     "text": [
      "sklearn.discriminant_analysis.LinearDiscriminantAnalysis on 391;non-monotonic: True\n"
     ]
    },
    {
     "name": "stderr",
     "output_type": "stream",
     "text": [
      "36it [01:19,  2.47s/it]"
     ]
    },
    {
     "name": "stdout",
     "output_type": "stream",
     "text": [
      "sklearn.discriminant_analysis.LinearDiscriminantAnalysis on 392 is non-monotonic: False, size: 12\n"
     ]
    },
    {
     "name": "stderr",
     "output_type": "stream",
     "text": [
      "37it [01:21,  2.37s/it]"
     ]
    },
    {
     "name": "stdout",
     "output_type": "stream",
     "text": [
      "sklearn.discriminant_analysis.LinearDiscriminantAnalysis on 393;non-monotonic: True\n"
     ]
    },
    {
     "name": "stderr",
     "output_type": "stream",
     "text": [
      "38it [01:23,  2.27s/it]"
     ]
    },
    {
     "name": "stdout",
     "output_type": "stream",
     "text": [
      "sklearn.discriminant_analysis.LinearDiscriminantAnalysis on 395;non-monotonic: True\n"
     ]
    },
    {
     "name": "stderr",
     "output_type": "stream",
     "text": [
      "39it [01:25,  2.25s/it]"
     ]
    },
    {
     "name": "stdout",
     "output_type": "stream",
     "text": [
      "sklearn.discriminant_analysis.LinearDiscriminantAnalysis on 396;non-monotonic: True\n"
     ]
    },
    {
     "name": "stderr",
     "output_type": "stream",
     "text": [
      "40it [01:27,  2.20s/it]"
     ]
    },
    {
     "name": "stdout",
     "output_type": "stream",
     "text": [
      "sklearn.discriminant_analysis.LinearDiscriminantAnalysis on 398;non-monotonic: True\n"
     ]
    },
    {
     "name": "stderr",
     "output_type": "stream",
     "text": [
      "41it [01:29,  2.16s/it]"
     ]
    },
    {
     "name": "stdout",
     "output_type": "stream",
     "text": [
      "sklearn.discriminant_analysis.LinearDiscriminantAnalysis on 399;non-monotonic: True\n"
     ]
    },
    {
     "name": "stderr",
     "output_type": "stream",
     "text": [
      "42it [01:31,  2.14s/it]"
     ]
    },
    {
     "name": "stdout",
     "output_type": "stream",
     "text": [
      "sklearn.discriminant_analysis.LinearDiscriminantAnalysis on 401 is non-monotonic: False, size: 12\n"
     ]
    },
    {
     "name": "stderr",
     "output_type": "stream",
     "text": [
      "43it [01:33,  2.14s/it]"
     ]
    },
    {
     "name": "stdout",
     "output_type": "stream",
     "text": [
      "sklearn.discriminant_analysis.LinearDiscriminantAnalysis on 446 is non-monotonic: False, size: 8\n"
     ]
    },
    {
     "name": "stderr",
     "output_type": "stream",
     "text": [
      "44it [01:36,  2.13s/it]"
     ]
    },
    {
     "name": "stdout",
     "output_type": "stream",
     "text": [
      "sklearn.discriminant_analysis.LinearDiscriminantAnalysis on 554;non-monotonic: True\n"
     ]
    },
    {
     "name": "stderr",
     "output_type": "stream",
     "text": [
      "45it [01:38,  2.12s/it]"
     ]
    },
    {
     "name": "stdout",
     "output_type": "stream",
     "text": [
      "sklearn.discriminant_analysis.LinearDiscriminantAnalysis on 679;non-monotonic: True\n"
     ]
    },
    {
     "name": "stderr",
     "output_type": "stream",
     "text": [
      "46it [01:40,  2.10s/it]"
     ]
    },
    {
     "name": "stdout",
     "output_type": "stream",
     "text": [
      "sklearn.discriminant_analysis.LinearDiscriminantAnalysis on 715;non-monotonic: True\n"
     ]
    },
    {
     "name": "stderr",
     "output_type": "stream",
     "text": [
      "47it [01:42,  2.10s/it]"
     ]
    },
    {
     "name": "stdout",
     "output_type": "stream",
     "text": [
      "sklearn.discriminant_analysis.LinearDiscriminantAnalysis on 718;non-monotonic: True\n"
     ]
    },
    {
     "name": "stderr",
     "output_type": "stream",
     "text": [
      "48it [01:44,  2.08s/it]"
     ]
    },
    {
     "name": "stdout",
     "output_type": "stream",
     "text": [
      "sklearn.discriminant_analysis.LinearDiscriminantAnalysis on 720;non-monotonic: True\n"
     ]
    },
    {
     "name": "stderr",
     "output_type": "stream",
     "text": [
      "49it [01:46,  2.19s/it]"
     ]
    },
    {
     "name": "stdout",
     "output_type": "stream",
     "text": [
      "sklearn.discriminant_analysis.LinearDiscriminantAnalysis on 722 is non-monotonic: False, size: 20\n"
     ]
    },
    {
     "name": "stderr",
     "output_type": "stream",
     "text": [
      "50it [01:48,  2.15s/it]"
     ]
    },
    {
     "name": "stdout",
     "output_type": "stream",
     "text": [
      "sklearn.discriminant_analysis.LinearDiscriminantAnalysis on 723;non-monotonic: True\n"
     ]
    },
    {
     "name": "stderr",
     "output_type": "stream",
     "text": [
      "51it [01:50,  2.15s/it]"
     ]
    },
    {
     "name": "stdout",
     "output_type": "stream",
     "text": [
      "sklearn.discriminant_analysis.LinearDiscriminantAnalysis on 727;non-monotonic: True\n"
     ]
    },
    {
     "name": "stderr",
     "output_type": "stream",
     "text": [
      "52it [01:53,  2.15s/it]"
     ]
    },
    {
     "name": "stdout",
     "output_type": "stream",
     "text": [
      "sklearn.discriminant_analysis.LinearDiscriminantAnalysis on 728;non-monotonic: True\n"
     ]
    },
    {
     "name": "stderr",
     "output_type": "stream",
     "text": [
      "53it [01:55,  2.18s/it]"
     ]
    },
    {
     "name": "stdout",
     "output_type": "stream",
     "text": [
      "sklearn.discriminant_analysis.LinearDiscriminantAnalysis on 734;non-monotonic: True\n"
     ]
    },
    {
     "name": "stderr",
     "output_type": "stream",
     "text": [
      "54it [01:57,  2.17s/it]"
     ]
    },
    {
     "name": "stdout",
     "output_type": "stream",
     "text": [
      "sklearn.discriminant_analysis.LinearDiscriminantAnalysis on 735;non-monotonic: True\n"
     ]
    },
    {
     "name": "stderr",
     "output_type": "stream",
     "text": [
      "55it [01:59,  2.14s/it]"
     ]
    },
    {
     "name": "stdout",
     "output_type": "stream",
     "text": [
      "sklearn.discriminant_analysis.LinearDiscriminantAnalysis on 737;non-monotonic: True\n"
     ]
    },
    {
     "name": "stderr",
     "output_type": "stream",
     "text": [
      "56it [02:01,  2.12s/it]"
     ]
    },
    {
     "name": "stdout",
     "output_type": "stream",
     "text": [
      "sklearn.discriminant_analysis.LinearDiscriminantAnalysis on 740;non-monotonic: True\n"
     ]
    },
    {
     "name": "stderr",
     "output_type": "stream",
     "text": [
      "57it [02:03,  2.13s/it]"
     ]
    },
    {
     "name": "stdout",
     "output_type": "stream",
     "text": [
      "sklearn.discriminant_analysis.LinearDiscriminantAnalysis on 741;non-monotonic: True\n"
     ]
    },
    {
     "name": "stderr",
     "output_type": "stream",
     "text": [
      "58it [02:05,  2.14s/it]"
     ]
    },
    {
     "name": "stdout",
     "output_type": "stream",
     "text": [
      "sklearn.discriminant_analysis.LinearDiscriminantAnalysis on 743;non-monotonic: True\n"
     ]
    },
    {
     "name": "stderr",
     "output_type": "stream",
     "text": [
      "59it [02:08,  2.15s/it]"
     ]
    },
    {
     "name": "stdout",
     "output_type": "stream",
     "text": [
      "sklearn.discriminant_analysis.LinearDiscriminantAnalysis on 751;non-monotonic: True\n"
     ]
    },
    {
     "name": "stderr",
     "output_type": "stream",
     "text": [
      "60it [02:10,  2.16s/it]"
     ]
    },
    {
     "name": "stdout",
     "output_type": "stream",
     "text": [
      "sklearn.discriminant_analysis.LinearDiscriminantAnalysis on 752;non-monotonic: True\n"
     ]
    },
    {
     "name": "stderr",
     "output_type": "stream",
     "text": [
      "61it [02:12,  2.31s/it]"
     ]
    },
    {
     "name": "stdout",
     "output_type": "stream",
     "text": [
      "sklearn.discriminant_analysis.LinearDiscriminantAnalysis on 761;non-monotonic: True\n"
     ]
    },
    {
     "name": "stderr",
     "output_type": "stream",
     "text": [
      "62it [02:15,  2.30s/it]"
     ]
    },
    {
     "name": "stdout",
     "output_type": "stream",
     "text": [
      "sklearn.discriminant_analysis.LinearDiscriminantAnalysis on 772;non-monotonic: True\n"
     ]
    },
    {
     "name": "stderr",
     "output_type": "stream",
     "text": [
      "63it [02:17,  2.25s/it]"
     ]
    },
    {
     "name": "stdout",
     "output_type": "stream",
     "text": [
      "sklearn.discriminant_analysis.LinearDiscriminantAnalysis on 797;non-monotonic: True\n"
     ]
    },
    {
     "name": "stderr",
     "output_type": "stream",
     "text": [
      "64it [02:19,  2.22s/it]"
     ]
    },
    {
     "name": "stdout",
     "output_type": "stream",
     "text": [
      "sklearn.discriminant_analysis.LinearDiscriminantAnalysis on 799;non-monotonic: True\n"
     ]
    },
    {
     "name": "stderr",
     "output_type": "stream",
     "text": [
      "65it [02:21,  2.18s/it]"
     ]
    },
    {
     "name": "stdout",
     "output_type": "stream",
     "text": [
      "sklearn.discriminant_analysis.LinearDiscriminantAnalysis on 803;non-monotonic: True\n"
     ]
    },
    {
     "name": "stderr",
     "output_type": "stream",
     "text": [
      "66it [02:24,  2.34s/it]"
     ]
    },
    {
     "name": "stdout",
     "output_type": "stream",
     "text": [
      "sklearn.discriminant_analysis.LinearDiscriminantAnalysis on 806;non-monotonic: True\n"
     ]
    },
    {
     "name": "stderr",
     "output_type": "stream",
     "text": [
      "67it [02:26,  2.27s/it]"
     ]
    },
    {
     "name": "stdout",
     "output_type": "stream",
     "text": [
      "sklearn.discriminant_analysis.LinearDiscriminantAnalysis on 807;non-monotonic: True\n"
     ]
    },
    {
     "name": "stderr",
     "output_type": "stream",
     "text": [
      "68it [02:28,  2.23s/it]"
     ]
    },
    {
     "name": "stdout",
     "output_type": "stream",
     "text": [
      "sklearn.discriminant_analysis.LinearDiscriminantAnalysis on 813;non-monotonic: True\n"
     ]
    },
    {
     "name": "stderr",
     "output_type": "stream",
     "text": [
      "69it [02:30,  2.20s/it]"
     ]
    },
    {
     "name": "stdout",
     "output_type": "stream",
     "text": [
      "sklearn.discriminant_analysis.LinearDiscriminantAnalysis on 816;non-monotonic: True\n"
     ]
    },
    {
     "name": "stderr",
     "output_type": "stream",
     "text": [
      "70it [02:33,  2.46s/it]"
     ]
    },
    {
     "name": "stdout",
     "output_type": "stream",
     "text": [
      "sklearn.discriminant_analysis.LinearDiscriminantAnalysis on 819 is non-monotonic: False, size: 18\n"
     ]
    },
    {
     "name": "stderr",
     "output_type": "stream",
     "text": [
      "71it [02:37,  2.96s/it]"
     ]
    },
    {
     "name": "stdout",
     "output_type": "stream",
     "text": [
      "sklearn.discriminant_analysis.LinearDiscriminantAnalysis on 821;non-monotonic: True\n"
     ]
    },
    {
     "name": "stderr",
     "output_type": "stream",
     "text": [
      "72it [02:40,  3.00s/it]"
     ]
    },
    {
     "name": "stdout",
     "output_type": "stream",
     "text": [
      "sklearn.discriminant_analysis.LinearDiscriminantAnalysis on 822;non-monotonic: True\n"
     ]
    },
    {
     "name": "stderr",
     "output_type": "stream",
     "text": [
      "73it [02:44,  3.04s/it]"
     ]
    },
    {
     "name": "stdout",
     "output_type": "stream",
     "text": [
      "sklearn.discriminant_analysis.LinearDiscriminantAnalysis on 823 is non-monotonic: False, size: 22\n"
     ]
    },
    {
     "name": "stderr",
     "output_type": "stream",
     "text": [
      "74it [02:48,  3.39s/it]"
     ]
    },
    {
     "name": "stdout",
     "output_type": "stream",
     "text": [
      "sklearn.discriminant_analysis.LinearDiscriminantAnalysis on 833;non-monotonic: True\n"
     ]
    },
    {
     "name": "stderr",
     "output_type": "stream",
     "text": [
      "75it [02:52,  3.53s/it]"
     ]
    },
    {
     "name": "stdout",
     "output_type": "stream",
     "text": [
      "sklearn.discriminant_analysis.LinearDiscriminantAnalysis on 837;non-monotonic: True\n"
     ]
    },
    {
     "name": "stderr",
     "output_type": "stream",
     "text": [
      "76it [02:55,  3.48s/it]"
     ]
    },
    {
     "name": "stdout",
     "output_type": "stream",
     "text": [
      "sklearn.discriminant_analysis.LinearDiscriminantAnalysis on 843;non-monotonic: True\n"
     ]
    },
    {
     "name": "stderr",
     "output_type": "stream",
     "text": [
      "77it [02:58,  3.40s/it]"
     ]
    },
    {
     "name": "stdout",
     "output_type": "stream",
     "text": [
      "sklearn.discriminant_analysis.LinearDiscriminantAnalysis on 845;non-monotonic: True\n"
     ]
    },
    {
     "name": "stderr",
     "output_type": "stream",
     "text": [
      "78it [03:01,  3.24s/it]"
     ]
    },
    {
     "name": "stdout",
     "output_type": "stream",
     "text": [
      "sklearn.discriminant_analysis.LinearDiscriminantAnalysis on 846;non-monotonic: True\n"
     ]
    },
    {
     "name": "stderr",
     "output_type": "stream",
     "text": [
      "79it [03:04,  3.18s/it]"
     ]
    },
    {
     "name": "stdout",
     "output_type": "stream",
     "text": [
      "sklearn.discriminant_analysis.LinearDiscriminantAnalysis on 847 is non-monotonic: False, size: 18\n"
     ]
    },
    {
     "name": "stderr",
     "output_type": "stream",
     "text": [
      "80it [03:08,  3.26s/it]"
     ]
    },
    {
     "name": "stdout",
     "output_type": "stream",
     "text": [
      "sklearn.discriminant_analysis.LinearDiscriminantAnalysis on 849;non-monotonic: True\n"
     ]
    },
    {
     "name": "stderr",
     "output_type": "stream",
     "text": [
      "81it [03:10,  3.05s/it]"
     ]
    },
    {
     "name": "stdout",
     "output_type": "stream",
     "text": [
      "sklearn.discriminant_analysis.LinearDiscriminantAnalysis on 866;non-monotonic: True\n"
     ]
    },
    {
     "name": "stderr",
     "output_type": "stream",
     "text": [
      "82it [03:13,  3.02s/it]"
     ]
    },
    {
     "name": "stdout",
     "output_type": "stream",
     "text": [
      "sklearn.discriminant_analysis.LinearDiscriminantAnalysis on 871;non-monotonic: True\n"
     ]
    },
    {
     "name": "stderr",
     "output_type": "stream",
     "text": [
      "83it [03:16,  2.90s/it]"
     ]
    },
    {
     "name": "stdout",
     "output_type": "stream",
     "text": [
      "sklearn.discriminant_analysis.LinearDiscriminantAnalysis on 881;non-monotonic: True\n"
     ]
    },
    {
     "name": "stderr",
     "output_type": "stream",
     "text": [
      "84it [03:18,  2.69s/it]"
     ]
    },
    {
     "name": "stdout",
     "output_type": "stream",
     "text": [
      "sklearn.discriminant_analysis.LinearDiscriminantAnalysis on 897;non-monotonic: True\n"
     ]
    },
    {
     "name": "stderr",
     "output_type": "stream",
     "text": [
      "85it [03:20,  2.52s/it]"
     ]
    },
    {
     "name": "stdout",
     "output_type": "stream",
     "text": [
      "sklearn.discriminant_analysis.LinearDiscriminantAnalysis on 901;non-monotonic: True\n"
     ]
    },
    {
     "name": "stderr",
     "output_type": "stream",
     "text": [
      "86it [03:22,  2.41s/it]"
     ]
    },
    {
     "name": "stdout",
     "output_type": "stream",
     "text": [
      "sklearn.discriminant_analysis.LinearDiscriminantAnalysis on 903;non-monotonic: True\n"
     ]
    },
    {
     "name": "stderr",
     "output_type": "stream",
     "text": [
      "87it [03:24,  2.34s/it]"
     ]
    },
    {
     "name": "stdout",
     "output_type": "stream",
     "text": [
      "sklearn.discriminant_analysis.LinearDiscriminantAnalysis on 904;non-monotonic: True\n"
     ]
    },
    {
     "name": "stderr",
     "output_type": "stream",
     "text": [
      "88it [03:27,  2.28s/it]"
     ]
    },
    {
     "name": "stdout",
     "output_type": "stream",
     "text": [
      "sklearn.discriminant_analysis.LinearDiscriminantAnalysis on 910;non-monotonic: True\n"
     ]
    },
    {
     "name": "stderr",
     "output_type": "stream",
     "text": [
      "89it [03:29,  2.22s/it]"
     ]
    },
    {
     "name": "stdout",
     "output_type": "stream",
     "text": [
      "sklearn.discriminant_analysis.LinearDiscriminantAnalysis on 912;non-monotonic: True\n"
     ]
    },
    {
     "name": "stderr",
     "output_type": "stream",
     "text": [
      "90it [03:31,  2.27s/it]"
     ]
    },
    {
     "name": "stdout",
     "output_type": "stream",
     "text": [
      "sklearn.discriminant_analysis.LinearDiscriminantAnalysis on 913;non-monotonic: True\n"
     ]
    },
    {
     "name": "stderr",
     "output_type": "stream",
     "text": [
      "91it [03:33,  2.24s/it]"
     ]
    },
    {
     "name": "stdout",
     "output_type": "stream",
     "text": [
      "sklearn.discriminant_analysis.LinearDiscriminantAnalysis on 914;non-monotonic: True\n"
     ]
    },
    {
     "name": "stderr",
     "output_type": "stream",
     "text": [
      "92it [03:35,  2.20s/it]"
     ]
    },
    {
     "name": "stdout",
     "output_type": "stream",
     "text": [
      "sklearn.discriminant_analysis.LinearDiscriminantAnalysis on 917;non-monotonic: True\n"
     ]
    },
    {
     "name": "stderr",
     "output_type": "stream",
     "text": [
      "93it [03:37,  2.16s/it]"
     ]
    },
    {
     "name": "stdout",
     "output_type": "stream",
     "text": [
      "sklearn.discriminant_analysis.LinearDiscriminantAnalysis on 923;non-monotonic: True\n"
     ]
    },
    {
     "name": "stderr",
     "output_type": "stream",
     "text": [
      "94it [03:39,  2.14s/it]"
     ]
    },
    {
     "name": "stdout",
     "output_type": "stream",
     "text": [
      "sklearn.discriminant_analysis.LinearDiscriminantAnalysis on 930;non-monotonic: True\n"
     ]
    },
    {
     "name": "stderr",
     "output_type": "stream",
     "text": [
      "95it [03:42,  2.15s/it]"
     ]
    },
    {
     "name": "stdout",
     "output_type": "stream",
     "text": [
      "sklearn.discriminant_analysis.LinearDiscriminantAnalysis on 934;non-monotonic: True\n"
     ]
    },
    {
     "name": "stderr",
     "output_type": "stream",
     "text": [
      "96it [03:44,  2.12s/it]"
     ]
    },
    {
     "name": "stdout",
     "output_type": "stream",
     "text": [
      "sklearn.discriminant_analysis.LinearDiscriminantAnalysis on 958 is non-monotonic: False, size: 14\n"
     ]
    },
    {
     "name": "stderr",
     "output_type": "stream",
     "text": [
      "97it [03:46,  2.13s/it]"
     ]
    },
    {
     "name": "stdout",
     "output_type": "stream",
     "text": [
      "sklearn.discriminant_analysis.LinearDiscriminantAnalysis on 959;non-monotonic: True\n"
     ]
    },
    {
     "name": "stderr",
     "output_type": "stream",
     "text": [
      "98it [03:48,  2.22s/it]"
     ]
    },
    {
     "name": "stdout",
     "output_type": "stream",
     "text": [
      "sklearn.discriminant_analysis.LinearDiscriminantAnalysis on 966;non-monotonic: True\n"
     ]
    },
    {
     "name": "stderr",
     "output_type": "stream",
     "text": [
      "99it [03:50,  2.18s/it]"
     ]
    },
    {
     "name": "stdout",
     "output_type": "stream",
     "text": [
      "sklearn.discriminant_analysis.LinearDiscriminantAnalysis on 976 is non-monotonic: False, size: 18\n"
     ]
    },
    {
     "name": "stderr",
     "output_type": "stream",
     "text": [
      "100it [03:52,  2.16s/it]"
     ]
    },
    {
     "name": "stdout",
     "output_type": "stream",
     "text": [
      "sklearn.discriminant_analysis.LinearDiscriminantAnalysis on 979;non-monotonic: True\n"
     ]
    },
    {
     "name": "stderr",
     "output_type": "stream",
     "text": [
      "101it [03:55,  2.15s/it]"
     ]
    },
    {
     "name": "stdout",
     "output_type": "stream",
     "text": [
      "sklearn.discriminant_analysis.LinearDiscriminantAnalysis on 980;non-monotonic: True\n"
     ]
    },
    {
     "name": "stderr",
     "output_type": "stream",
     "text": [
      "102it [03:57,  2.13s/it]"
     ]
    },
    {
     "name": "stdout",
     "output_type": "stream",
     "text": [
      "sklearn.discriminant_analysis.LinearDiscriminantAnalysis on 991;non-monotonic: True\n"
     ]
    },
    {
     "name": "stderr",
     "output_type": "stream",
     "text": [
      "103it [03:59,  2.11s/it]"
     ]
    },
    {
     "name": "stdout",
     "output_type": "stream",
     "text": [
      "sklearn.discriminant_analysis.LinearDiscriminantAnalysis on 1041;non-monotonic: True\n"
     ]
    },
    {
     "name": "stderr",
     "output_type": "stream",
     "text": [
      "104it [04:01,  2.10s/it]"
     ]
    },
    {
     "name": "stdout",
     "output_type": "stream",
     "text": [
      "sklearn.discriminant_analysis.LinearDiscriminantAnalysis on 1042;non-monotonic: True\n"
     ]
    },
    {
     "name": "stderr",
     "output_type": "stream",
     "text": [
      "105it [04:03,  2.08s/it]"
     ]
    },
    {
     "name": "stdout",
     "output_type": "stream",
     "text": [
      "sklearn.discriminant_analysis.LinearDiscriminantAnalysis on 1053;non-monotonic: True\n"
     ]
    },
    {
     "name": "stderr",
     "output_type": "stream",
     "text": [
      "106it [04:05,  2.08s/it]"
     ]
    },
    {
     "name": "stdout",
     "output_type": "stream",
     "text": [
      "sklearn.discriminant_analysis.LinearDiscriminantAnalysis on 1067;non-monotonic: True\n"
     ]
    },
    {
     "name": "stderr",
     "output_type": "stream",
     "text": [
      "107it [04:07,  2.17s/it]"
     ]
    },
    {
     "name": "stdout",
     "output_type": "stream",
     "text": [
      "sklearn.discriminant_analysis.LinearDiscriminantAnalysis on 1083 is non-monotonic: False, size: 8\n"
     ]
    },
    {
     "name": "stderr",
     "output_type": "stream",
     "text": [
      "108it [04:09,  2.15s/it]"
     ]
    },
    {
     "name": "stdout",
     "output_type": "stream",
     "text": [
      "sklearn.discriminant_analysis.LinearDiscriminantAnalysis on 1084 is non-monotonic: False, size: 8\n"
     ]
    },
    {
     "name": "stderr",
     "output_type": "stream",
     "text": [
      "109it [04:12,  2.15s/it]"
     ]
    },
    {
     "name": "stdout",
     "output_type": "stream",
     "text": [
      "sklearn.discriminant_analysis.LinearDiscriminantAnalysis on 1085;non-monotonic: True\n"
     ]
    },
    {
     "name": "stderr",
     "output_type": "stream",
     "text": [
      "110it [04:14,  2.12s/it]"
     ]
    },
    {
     "name": "stdout",
     "output_type": "stream",
     "text": [
      "sklearn.discriminant_analysis.LinearDiscriminantAnalysis on 1086 is non-monotonic: False, size: 8\n"
     ]
    },
    {
     "name": "stderr",
     "output_type": "stream",
     "text": [
      "111it [04:16,  2.11s/it]"
     ]
    },
    {
     "name": "stdout",
     "output_type": "stream",
     "text": [
      "sklearn.discriminant_analysis.LinearDiscriminantAnalysis on 1087 is non-monotonic: False, size: 8\n"
     ]
    },
    {
     "name": "stderr",
     "output_type": "stream",
     "text": [
      "112it [04:18,  2.10s/it]"
     ]
    },
    {
     "name": "stdout",
     "output_type": "stream",
     "text": [
      "sklearn.discriminant_analysis.LinearDiscriminantAnalysis on 1088 is non-monotonic: False, size: 10\n"
     ]
    },
    {
     "name": "stderr",
     "output_type": "stream",
     "text": [
      "113it [04:20,  2.12s/it]"
     ]
    },
    {
     "name": "stdout",
     "output_type": "stream",
     "text": [
      "sklearn.discriminant_analysis.LinearDiscriminantAnalysis on 1120;non-monotonic: True\n"
     ]
    },
    {
     "name": "stderr",
     "output_type": "stream",
     "text": [
      "114it [04:22,  2.21s/it]"
     ]
    },
    {
     "name": "stdout",
     "output_type": "stream",
     "text": [
      "sklearn.discriminant_analysis.LinearDiscriminantAnalysis on 1128;non-monotonic: True\n"
     ]
    },
    {
     "name": "stderr",
     "output_type": "stream",
     "text": [
      "115it [04:24,  2.15s/it]"
     ]
    },
    {
     "name": "stdout",
     "output_type": "stream",
     "text": [
      "sklearn.discriminant_analysis.LinearDiscriminantAnalysis on 1130;non-monotonic: True\n"
     ]
    },
    {
     "name": "stderr",
     "output_type": "stream",
     "text": [
      "116it [04:26,  2.13s/it]"
     ]
    },
    {
     "name": "stdout",
     "output_type": "stream",
     "text": [
      "sklearn.discriminant_analysis.LinearDiscriminantAnalysis on 1134;non-monotonic: True\n"
     ]
    },
    {
     "name": "stderr",
     "output_type": "stream",
     "text": [
      "117it [04:29,  2.12s/it]"
     ]
    },
    {
     "name": "stdout",
     "output_type": "stream",
     "text": [
      "sklearn.discriminant_analysis.LinearDiscriminantAnalysis on 1161;non-monotonic: True\n"
     ]
    },
    {
     "name": "stderr",
     "output_type": "stream",
     "text": [
      "118it [04:31,  2.09s/it]"
     ]
    },
    {
     "name": "stdout",
     "output_type": "stream",
     "text": [
      "sklearn.discriminant_analysis.LinearDiscriminantAnalysis on 1233;non-monotonic: True\n"
     ]
    },
    {
     "name": "stderr",
     "output_type": "stream",
     "text": [
      "119it [04:33,  2.09s/it]"
     ]
    },
    {
     "name": "stdout",
     "output_type": "stream",
     "text": [
      "sklearn.discriminant_analysis.LinearDiscriminantAnalysis on 1235;non-monotonic: True\n"
     ]
    },
    {
     "name": "stderr",
     "output_type": "stream",
     "text": [
      "120it [04:35,  2.09s/it]"
     ]
    },
    {
     "name": "stdout",
     "output_type": "stream",
     "text": [
      "sklearn.discriminant_analysis.LinearDiscriminantAnalysis on 1236 is non-monotonic: False, size: 32\n"
     ]
    },
    {
     "name": "stderr",
     "output_type": "stream",
     "text": [
      "121it [04:37,  2.22s/it]"
     ]
    },
    {
     "name": "stdout",
     "output_type": "stream",
     "text": [
      "sklearn.discriminant_analysis.LinearDiscriminantAnalysis on 1448;non-monotonic: True\n"
     ]
    },
    {
     "name": "stderr",
     "output_type": "stream",
     "text": [
      "122it [04:39,  2.17s/it]"
     ]
    },
    {
     "name": "stdout",
     "output_type": "stream",
     "text": [
      "sklearn.discriminant_analysis.LinearDiscriminantAnalysis on 1450;non-monotonic: True\n"
     ]
    },
    {
     "name": "stderr",
     "output_type": "stream",
     "text": [
      "123it [04:41,  2.12s/it]"
     ]
    },
    {
     "name": "stdout",
     "output_type": "stream",
     "text": [
      "sklearn.discriminant_analysis.LinearDiscriminantAnalysis on 1457;non-monotonic: True\n"
     ]
    },
    {
     "name": "stderr",
     "output_type": "stream",
     "text": [
      "124it [04:43,  2.11s/it]"
     ]
    },
    {
     "name": "stdout",
     "output_type": "stream",
     "text": [
      "sklearn.discriminant_analysis.LinearDiscriminantAnalysis on 1465 is non-monotonic: False, size: 6\n"
     ]
    },
    {
     "name": "stderr",
     "output_type": "stream",
     "text": [
      "125it [04:46,  2.12s/it]"
     ]
    },
    {
     "name": "stdout",
     "output_type": "stream",
     "text": [
      "sklearn.discriminant_analysis.LinearDiscriminantAnalysis on 1468;non-monotonic: True\n"
     ]
    },
    {
     "name": "stderr",
     "output_type": "stream",
     "text": [
      "126it [04:48,  2.11s/it]"
     ]
    },
    {
     "name": "stdout",
     "output_type": "stream",
     "text": [
      "sklearn.discriminant_analysis.LinearDiscriminantAnalysis on 1475;non-monotonic: True\n"
     ]
    },
    {
     "name": "stderr",
     "output_type": "stream",
     "text": [
      "127it [04:50,  2.11s/it]"
     ]
    },
    {
     "name": "stdout",
     "output_type": "stream",
     "text": [
      "sklearn.discriminant_analysis.LinearDiscriminantAnalysis on 1477;non-monotonic: True\n"
     ]
    },
    {
     "name": "stderr",
     "output_type": "stream",
     "text": [
      "128it [04:52,  2.18s/it]"
     ]
    },
    {
     "name": "stdout",
     "output_type": "stream",
     "text": [
      "sklearn.discriminant_analysis.LinearDiscriminantAnalysis on 1479;non-monotonic: True\n"
     ]
    },
    {
     "name": "stderr",
     "output_type": "stream",
     "text": [
      "129it [04:54,  2.13s/it]"
     ]
    },
    {
     "name": "stdout",
     "output_type": "stream",
     "text": [
      "sklearn.discriminant_analysis.LinearDiscriminantAnalysis on 1483;non-monotonic: True\n"
     ]
    },
    {
     "name": "stderr",
     "output_type": "stream",
     "text": [
      "130it [04:56,  2.11s/it]"
     ]
    },
    {
     "name": "stdout",
     "output_type": "stream",
     "text": [
      "sklearn.discriminant_analysis.LinearDiscriminantAnalysis on 1485;non-monotonic: True\n"
     ]
    },
    {
     "name": "stderr",
     "output_type": "stream",
     "text": [
      "131it [04:58,  2.11s/it]"
     ]
    },
    {
     "name": "stdout",
     "output_type": "stream",
     "text": [
      "sklearn.discriminant_analysis.LinearDiscriminantAnalysis on 1488;non-monotonic: True\n"
     ]
    },
    {
     "name": "stderr",
     "output_type": "stream",
     "text": [
      "132it [05:01,  2.20s/it]"
     ]
    },
    {
     "name": "stdout",
     "output_type": "stream",
     "text": [
      "sklearn.discriminant_analysis.LinearDiscriminantAnalysis on 1489;non-monotonic: True\n"
     ]
    },
    {
     "name": "stderr",
     "output_type": "stream",
     "text": [
      "133it [05:03,  2.17s/it]"
     ]
    },
    {
     "name": "stdout",
     "output_type": "stream",
     "text": [
      "sklearn.discriminant_analysis.LinearDiscriminantAnalysis on 1494;non-monotonic: True\n"
     ]
    },
    {
     "name": "stderr",
     "output_type": "stream",
     "text": [
      "134it [05:05,  2.15s/it]"
     ]
    },
    {
     "name": "stdout",
     "output_type": "stream",
     "text": [
      "sklearn.discriminant_analysis.LinearDiscriminantAnalysis on 1499 is non-monotonic: False, size: 8\n"
     ]
    },
    {
     "name": "stderr",
     "output_type": "stream",
     "text": [
      "135it [05:07,  2.23s/it]"
     ]
    },
    {
     "name": "stdout",
     "output_type": "stream",
     "text": [
      "sklearn.discriminant_analysis.LinearDiscriminantAnalysis on 1503;non-monotonic: True\n"
     ]
    },
    {
     "name": "stderr",
     "output_type": "stream",
     "text": [
      "136it [05:09,  2.19s/it]"
     ]
    },
    {
     "name": "stdout",
     "output_type": "stream",
     "text": [
      "sklearn.discriminant_analysis.LinearDiscriminantAnalysis on 1509;non-monotonic: True\n"
     ]
    },
    {
     "name": "stderr",
     "output_type": "stream",
     "text": [
      "137it [05:11,  2.14s/it]"
     ]
    },
    {
     "name": "stdout",
     "output_type": "stream",
     "text": [
      "sklearn.discriminant_analysis.LinearDiscriminantAnalysis on 1515 is non-monotonic: False, size: 10\n"
     ]
    },
    {
     "name": "stderr",
     "output_type": "stream",
     "text": [
      "138it [05:13,  2.11s/it]"
     ]
    },
    {
     "name": "stdout",
     "output_type": "stream",
     "text": [
      "sklearn.discriminant_analysis.LinearDiscriminantAnalysis on 1566;non-monotonic: True\n"
     ]
    },
    {
     "name": "stderr",
     "output_type": "stream",
     "text": [
      "139it [05:16,  2.10s/it]"
     ]
    },
    {
     "name": "stdout",
     "output_type": "stream",
     "text": [
      "sklearn.discriminant_analysis.LinearDiscriminantAnalysis on 1567;non-monotonic: True\n"
     ]
    },
    {
     "name": "stderr",
     "output_type": "stream",
     "text": [
      "140it [05:18,  2.11s/it]"
     ]
    },
    {
     "name": "stdout",
     "output_type": "stream",
     "text": [
      "sklearn.discriminant_analysis.LinearDiscriminantAnalysis on 4134;non-monotonic: True\n"
     ]
    },
    {
     "name": "stderr",
     "output_type": "stream",
     "text": [
      "141it [05:20,  2.20s/it]"
     ]
    },
    {
     "name": "stdout",
     "output_type": "stream",
     "text": [
      "sklearn.discriminant_analysis.LinearDiscriminantAnalysis on 4538;non-monotonic: True\n"
     ]
    },
    {
     "name": "stderr",
     "output_type": "stream",
     "text": [
      "142it [05:22,  2.18s/it]"
     ]
    },
    {
     "name": "stdout",
     "output_type": "stream",
     "text": [
      "sklearn.discriminant_analysis.LinearDiscriminantAnalysis on 23512;non-monotonic: True\n"
     ]
    },
    {
     "name": "stderr",
     "output_type": "stream",
     "text": [
      "143it [05:24,  2.15s/it]"
     ]
    },
    {
     "name": "stdout",
     "output_type": "stream",
     "text": [
      "sklearn.discriminant_analysis.LinearDiscriminantAnalysis on 23517;non-monotonic: True\n"
     ]
    },
    {
     "name": "stderr",
     "output_type": "stream",
     "text": [
      "144it [05:26,  2.12s/it]"
     ]
    },
    {
     "name": "stdout",
     "output_type": "stream",
     "text": [
      "sklearn.discriminant_analysis.LinearDiscriminantAnalysis on 40498;non-monotonic: True\n"
     ]
    },
    {
     "name": "stderr",
     "output_type": "stream",
     "text": [
      "145it [05:29,  2.21s/it]"
     ]
    },
    {
     "name": "stdout",
     "output_type": "stream",
     "text": [
      "sklearn.discriminant_analysis.LinearDiscriminantAnalysis on 40685;non-monotonic: True\n"
     ]
    },
    {
     "name": "stderr",
     "output_type": "stream",
     "text": [
      "146it [05:31,  2.17s/it]"
     ]
    },
    {
     "name": "stdout",
     "output_type": "stream",
     "text": [
      "sklearn.discriminant_analysis.LinearDiscriminantAnalysis on 40971;non-monotonic: True\n"
     ]
    },
    {
     "name": "stderr",
     "output_type": "stream",
     "text": [
      "147it [05:33,  2.18s/it]"
     ]
    },
    {
     "name": "stdout",
     "output_type": "stream",
     "text": [
      "sklearn.discriminant_analysis.LinearDiscriminantAnalysis on 40975 is non-monotonic: False, size: 14\n"
     ]
    },
    {
     "name": "stderr",
     "output_type": "stream",
     "text": [
      "148it [05:35,  2.15s/it]"
     ]
    },
    {
     "name": "stdout",
     "output_type": "stream",
     "text": [
      "sklearn.discriminant_analysis.LinearDiscriminantAnalysis on 40981 is non-monotonic: False, size: 12\n"
     ]
    },
    {
     "name": "stderr",
     "output_type": "stream",
     "text": [
      "149it [05:37,  2.14s/it]"
     ]
    },
    {
     "name": "stdout",
     "output_type": "stream",
     "text": [
      "sklearn.discriminant_analysis.LinearDiscriminantAnalysis on 40982;non-monotonic: True\n"
     ]
    },
    {
     "name": "stderr",
     "output_type": "stream",
     "text": [
      "150it [05:40,  2.40s/it]"
     ]
    },
    {
     "name": "stdout",
     "output_type": "stream",
     "text": [
      "sklearn.discriminant_analysis.LinearDiscriminantAnalysis on 40984;non-monotonic: True\n"
     ]
    },
    {
     "name": "stderr",
     "output_type": "stream",
     "text": [
      "151it [05:43,  2.36s/it]"
     ]
    },
    {
     "name": "stdout",
     "output_type": "stream",
     "text": [
      "sklearn.discriminant_analysis.LinearDiscriminantAnalysis on 40996;non-monotonic: True\n"
     ]
    },
    {
     "name": "stderr",
     "output_type": "stream",
     "text": [
      "152it [05:47,  3.02s/it]"
     ]
    },
    {
     "name": "stdout",
     "output_type": "stream",
     "text": [
      "sklearn.discriminant_analysis.LinearDiscriminantAnalysis on 41027;non-monotonic: True\n"
     ]
    },
    {
     "name": "stderr",
     "output_type": "stream",
     "text": [
      "153it [05:52,  3.56s/it]"
     ]
    },
    {
     "name": "stdout",
     "output_type": "stream",
     "text": [
      "sklearn.discriminant_analysis.LinearDiscriminantAnalysis on 41142;non-monotonic: True\n"
     ]
    },
    {
     "name": "stderr",
     "output_type": "stream",
     "text": [
      "154it [05:57,  4.06s/it]"
     ]
    },
    {
     "name": "stdout",
     "output_type": "stream",
     "text": [
      "sklearn.discriminant_analysis.LinearDiscriminantAnalysis on 41144;non-monotonic: True\n"
     ]
    },
    {
     "name": "stderr",
     "output_type": "stream",
     "text": [
      "155it [06:00,  3.68s/it]"
     ]
    },
    {
     "name": "stdout",
     "output_type": "stream",
     "text": [
      "sklearn.discriminant_analysis.LinearDiscriminantAnalysis on 41145;non-monotonic: True\n"
     ]
    },
    {
     "name": "stderr",
     "output_type": "stream",
     "text": [
      "156it [06:02,  3.29s/it]"
     ]
    },
    {
     "name": "stdout",
     "output_type": "stream",
     "text": [
      "sklearn.discriminant_analysis.LinearDiscriminantAnalysis on 41146;non-monotonic: True\n"
     ]
    },
    {
     "name": "stderr",
     "output_type": "stream",
     "text": [
      "157it [06:05,  2.98s/it]"
     ]
    },
    {
     "name": "stdout",
     "output_type": "stream",
     "text": [
      "sklearn.discriminant_analysis.LinearDiscriminantAnalysis on 41150;non-monotonic: True\n"
     ]
    },
    {
     "name": "stderr",
     "output_type": "stream",
     "text": [
      "158it [06:07,  2.71s/it]"
     ]
    },
    {
     "name": "stdout",
     "output_type": "stream",
     "text": [
      "sklearn.discriminant_analysis.LinearDiscriminantAnalysis on 41156;non-monotonic: True\n"
     ]
    },
    {
     "name": "stderr",
     "output_type": "stream",
     "text": [
      "159it [06:09,  2.65s/it]"
     ]
    },
    {
     "name": "stdout",
     "output_type": "stream",
     "text": [
      "sklearn.discriminant_analysis.LinearDiscriminantAnalysis on 41157;non-monotonic: True\n"
     ]
    },
    {
     "name": "stderr",
     "output_type": "stream",
     "text": [
      "160it [06:12,  2.59s/it]"
     ]
    },
    {
     "name": "stdout",
     "output_type": "stream",
     "text": [
      "sklearn.discriminant_analysis.LinearDiscriminantAnalysis on 41158;non-monotonic: True\n"
     ]
    },
    {
     "name": "stderr",
     "output_type": "stream",
     "text": [
      "161it [06:14,  2.50s/it]"
     ]
    },
    {
     "name": "stdout",
     "output_type": "stream",
     "text": [
      "sklearn.discriminant_analysis.LinearDiscriminantAnalysis on 41159;non-monotonic: True\n"
     ]
    },
    {
     "name": "stderr",
     "output_type": "stream",
     "text": [
      "162it [06:17,  2.58s/it]"
     ]
    },
    {
     "name": "stdout",
     "output_type": "stream",
     "text": [
      "sklearn.discriminant_analysis.LinearDiscriminantAnalysis on 41161;non-monotonic: True\n"
     ]
    },
    {
     "name": "stderr",
     "output_type": "stream",
     "text": [
      "163it [06:19,  2.58s/it]"
     ]
    },
    {
     "name": "stdout",
     "output_type": "stream",
     "text": [
      "sklearn.discriminant_analysis.LinearDiscriminantAnalysis on 41163;non-monotonic: True\n"
     ]
    },
    {
     "name": "stderr",
     "output_type": "stream",
     "text": [
      "164it [06:23,  3.00s/it]"
     ]
    },
    {
     "name": "stdout",
     "output_type": "stream",
     "text": [
      "sklearn.discriminant_analysis.LinearDiscriminantAnalysis on 41164;non-monotonic: True\n"
     ]
    },
    {
     "name": "stderr",
     "output_type": "stream",
     "text": [
      "165it [06:28,  3.53s/it]"
     ]
    },
    {
     "name": "stdout",
     "output_type": "stream",
     "text": [
      "sklearn.discriminant_analysis.LinearDiscriminantAnalysis on 41165;non-monotonic: True\n"
     ]
    },
    {
     "name": "stderr",
     "output_type": "stream",
     "text": [
      "166it [06:31,  3.31s/it]"
     ]
    },
    {
     "name": "stdout",
     "output_type": "stream",
     "text": [
      "sklearn.discriminant_analysis.LinearDiscriminantAnalysis on 41166;non-monotonic: True\n"
     ]
    },
    {
     "name": "stderr",
     "output_type": "stream",
     "text": [
      "167it [06:33,  3.05s/it]"
     ]
    },
    {
     "name": "stdout",
     "output_type": "stream",
     "text": [
      "sklearn.discriminant_analysis.LinearDiscriminantAnalysis on 41168;non-monotonic: True\n"
     ]
    },
    {
     "name": "stderr",
     "output_type": "stream",
     "text": [
      "168it [06:36,  2.98s/it]"
     ]
    },
    {
     "name": "stdout",
     "output_type": "stream",
     "text": [
      "sklearn.discriminant_analysis.LinearDiscriminantAnalysis on 41228;non-monotonic: True\n"
     ]
    },
    {
     "name": "stderr",
     "output_type": "stream",
     "text": [
      "169it [06:39,  2.88s/it]"
     ]
    },
    {
     "name": "stdout",
     "output_type": "stream",
     "text": [
      "sklearn.discriminant_analysis.LinearDiscriminantAnalysis on 41972;non-monotonic: True\n"
     ]
    },
    {
     "name": "stderr",
     "output_type": "stream",
     "text": [
      "170it [06:41,  2.68s/it]"
     ]
    },
    {
     "name": "stdout",
     "output_type": "stream",
     "text": [
      "sklearn.discriminant_analysis.LinearDiscriminantAnalysis on 42769;non-monotonic: True\n"
     ]
    },
    {
     "name": "stderr",
     "output_type": "stream",
     "text": [
      "171it [06:43,  2.49s/it]"
     ]
    },
    {
     "name": "stdout",
     "output_type": "stream",
     "text": [
      "sklearn.discriminant_analysis.LinearDiscriminantAnalysis on 42809;non-monotonic: True\n"
     ]
    },
    {
     "name": "stderr",
     "output_type": "stream",
     "text": [
      "172it [06:46,  2.36s/it]\n"
     ]
    },
    {
     "name": "stdout",
     "output_type": "stream",
     "text": [
      "sklearn.discriminant_analysis.LinearDiscriminantAnalysis on 42810;non-monotonic: True\n"
     ]
    },
    {
     "name": "stderr",
     "output_type": "stream",
     "text": [
      "1it [00:02,  2.57s/it]"
     ]
    },
    {
     "name": "stdout",
     "output_type": "stream",
     "text": [
      "sklearn.discriminant_analysis.QuadraticDiscriminantAnalysis on 6 is non-monotonic: False, size: 15\n"
     ]
    },
    {
     "name": "stderr",
     "output_type": "stream",
     "text": [
      "2it [00:05,  2.65s/it]"
     ]
    },
    {
     "name": "stdout",
     "output_type": "stream",
     "text": [
      "sklearn.discriminant_analysis.QuadraticDiscriminantAnalysis on 11 is non-monotonic: False, size: 10\n"
     ]
    },
    {
     "name": "stderr",
     "output_type": "stream",
     "text": [
      "3it [00:07,  2.48s/it]"
     ]
    },
    {
     "name": "stdout",
     "output_type": "stream",
     "text": [
      "sklearn.discriminant_analysis.QuadraticDiscriminantAnalysis on 12;non-monotonic: True\n"
     ]
    },
    {
     "name": "stderr",
     "output_type": "stream",
     "text": [
      "4it [00:09,  2.37s/it]"
     ]
    },
    {
     "name": "stdout",
     "output_type": "stream",
     "text": [
      "sklearn.discriminant_analysis.QuadraticDiscriminantAnalysis on 14;non-monotonic: True\n"
     ]
    },
    {
     "name": "stderr",
     "output_type": "stream",
     "text": [
      "5it [00:12,  2.45s/it]"
     ]
    },
    {
     "name": "stdout",
     "output_type": "stream",
     "text": [
      "sklearn.discriminant_analysis.QuadraticDiscriminantAnalysis on 16;non-monotonic: True\n"
     ]
    },
    {
     "name": "stderr",
     "output_type": "stream",
     "text": [
      "6it [00:14,  2.44s/it]"
     ]
    },
    {
     "name": "stdout",
     "output_type": "stream",
     "text": [
      "sklearn.discriminant_analysis.QuadraticDiscriminantAnalysis on 18;non-monotonic: True\n"
     ]
    },
    {
     "name": "stderr",
     "output_type": "stream",
     "text": [
      "7it [00:17,  2.48s/it]"
     ]
    },
    {
     "name": "stdout",
     "output_type": "stream",
     "text": [
      "sklearn.discriminant_analysis.QuadraticDiscriminantAnalysis on 21;non-monotonic: True\n"
     ]
    },
    {
     "name": "stderr",
     "output_type": "stream",
     "text": [
      "8it [00:20,  2.56s/it]"
     ]
    },
    {
     "name": "stdout",
     "output_type": "stream",
     "text": [
      "sklearn.discriminant_analysis.QuadraticDiscriminantAnalysis on 22;non-monotonic: True\n"
     ]
    },
    {
     "name": "stderr",
     "output_type": "stream",
     "text": [
      "9it [00:25,  3.37s/it]"
     ]
    },
    {
     "name": "stdout",
     "output_type": "stream",
     "text": [
      "sklearn.discriminant_analysis.QuadraticDiscriminantAnalysis on 23;non-monotonic: True\n"
     ]
    },
    {
     "name": "stderr",
     "output_type": "stream",
     "text": [
      "10it [00:29,  3.65s/it]"
     ]
    },
    {
     "name": "stdout",
     "output_type": "stream",
     "text": [
      "sklearn.discriminant_analysis.QuadraticDiscriminantAnalysis on 26;non-monotonic: True\n"
     ]
    },
    {
     "name": "stderr",
     "output_type": "stream",
     "text": [
      "11it [00:33,  3.74s/it]"
     ]
    },
    {
     "name": "stdout",
     "output_type": "stream",
     "text": [
      "sklearn.discriminant_analysis.QuadraticDiscriminantAnalysis on 28;non-monotonic: True\n"
     ]
    },
    {
     "name": "stderr",
     "output_type": "stream",
     "text": [
      "12it [00:35,  3.26s/it]"
     ]
    },
    {
     "name": "stdout",
     "output_type": "stream",
     "text": [
      "sklearn.discriminant_analysis.QuadraticDiscriminantAnalysis on 30;non-monotonic: True\n"
     ]
    },
    {
     "name": "stderr",
     "output_type": "stream",
     "text": [
      "13it [00:37,  2.93s/it]"
     ]
    },
    {
     "name": "stdout",
     "output_type": "stream",
     "text": [
      "sklearn.discriminant_analysis.QuadraticDiscriminantAnalysis on 32;non-monotonic: True\n"
     ]
    },
    {
     "name": "stderr",
     "output_type": "stream",
     "text": [
      "14it [00:39,  2.68s/it]"
     ]
    },
    {
     "name": "stdout",
     "output_type": "stream",
     "text": [
      "sklearn.discriminant_analysis.QuadraticDiscriminantAnalysis on 36;non-monotonic: True\n"
     ]
    },
    {
     "name": "stderr",
     "output_type": "stream",
     "text": [
      "15it [00:42,  2.63s/it]"
     ]
    },
    {
     "name": "stdout",
     "output_type": "stream",
     "text": [
      "sklearn.discriminant_analysis.QuadraticDiscriminantAnalysis on 44;non-monotonic: True\n"
     ]
    },
    {
     "name": "stderr",
     "output_type": "stream",
     "text": [
      "16it [00:44,  2.46s/it]"
     ]
    },
    {
     "name": "stdout",
     "output_type": "stream",
     "text": [
      "sklearn.discriminant_analysis.QuadraticDiscriminantAnalysis on 54;non-monotonic: True\n"
     ]
    },
    {
     "name": "stderr",
     "output_type": "stream",
     "text": [
      "17it [00:46,  2.36s/it]"
     ]
    },
    {
     "name": "stdout",
     "output_type": "stream",
     "text": [
      "sklearn.discriminant_analysis.QuadraticDiscriminantAnalysis on 55 is non-monotonic: False, size: 6\n"
     ]
    },
    {
     "name": "stderr",
     "output_type": "stream",
     "text": [
      "18it [00:48,  2.30s/it]"
     ]
    },
    {
     "name": "stdout",
     "output_type": "stream",
     "text": [
      "sklearn.discriminant_analysis.QuadraticDiscriminantAnalysis on 60;non-monotonic: True\n"
     ]
    },
    {
     "name": "stderr",
     "output_type": "stream",
     "text": [
      "19it [00:51,  2.34s/it]"
     ]
    },
    {
     "name": "stdout",
     "output_type": "stream",
     "text": [
      "sklearn.discriminant_analysis.QuadraticDiscriminantAnalysis on 61 is non-monotonic: False, size: 6\n"
     ]
    },
    {
     "name": "stderr",
     "output_type": "stream",
     "text": [
      "20it [00:53,  2.28s/it]"
     ]
    },
    {
     "name": "stdout",
     "output_type": "stream",
     "text": [
      "sklearn.discriminant_analysis.QuadraticDiscriminantAnalysis on 181;non-monotonic: True\n"
     ]
    },
    {
     "name": "stderr",
     "output_type": "stream",
     "text": [
      "21it [00:55,  2.23s/it]"
     ]
    },
    {
     "name": "stdout",
     "output_type": "stream",
     "text": [
      "sklearn.discriminant_analysis.QuadraticDiscriminantAnalysis on 182;non-monotonic: True\n"
     ]
    },
    {
     "name": "stderr",
     "output_type": "stream",
     "text": [
      "22it [00:57,  2.19s/it]"
     ]
    },
    {
     "name": "stdout",
     "output_type": "stream",
     "text": [
      "sklearn.discriminant_analysis.QuadraticDiscriminantAnalysis on 185;non-monotonic: True\n"
     ]
    },
    {
     "name": "stderr",
     "output_type": "stream",
     "text": [
      "23it [00:59,  2.17s/it]"
     ]
    },
    {
     "name": "stdout",
     "output_type": "stream",
     "text": [
      "sklearn.discriminant_analysis.QuadraticDiscriminantAnalysis on 201;non-monotonic: True\n"
     ]
    },
    {
     "name": "stderr",
     "output_type": "stream",
     "text": [
      "24it [01:01,  2.16s/it]"
     ]
    },
    {
     "name": "stdout",
     "output_type": "stream",
     "text": [
      "sklearn.discriminant_analysis.QuadraticDiscriminantAnalysis on 273;non-monotonic: True\n"
     ]
    },
    {
     "name": "stderr",
     "output_type": "stream",
     "text": [
      "25it [01:03,  2.14s/it]"
     ]
    },
    {
     "name": "stdout",
     "output_type": "stream",
     "text": [
      "sklearn.discriminant_analysis.QuadraticDiscriminantAnalysis on 293;non-monotonic: True\n"
     ]
    },
    {
     "name": "stderr",
     "output_type": "stream",
     "text": [
      "26it [01:06,  2.23s/it]"
     ]
    },
    {
     "name": "stdout",
     "output_type": "stream",
     "text": [
      "sklearn.discriminant_analysis.QuadraticDiscriminantAnalysis on 299;non-monotonic: True\n"
     ]
    },
    {
     "name": "stderr",
     "output_type": "stream",
     "text": [
      "27it [01:08,  2.22s/it]"
     ]
    },
    {
     "name": "stdout",
     "output_type": "stream",
     "text": [
      "sklearn.discriminant_analysis.QuadraticDiscriminantAnalysis on 300;non-monotonic: True\n"
     ]
    },
    {
     "name": "stderr",
     "output_type": "stream",
     "text": [
      "28it [01:10,  2.22s/it]"
     ]
    },
    {
     "name": "stdout",
     "output_type": "stream",
     "text": [
      "sklearn.discriminant_analysis.QuadraticDiscriminantAnalysis on 346 is non-monotonic: False, size: 4\n"
     ]
    },
    {
     "name": "stderr",
     "output_type": "stream",
     "text": [
      "29it [01:12,  2.20s/it]"
     ]
    },
    {
     "name": "stdout",
     "output_type": "stream",
     "text": [
      "sklearn.discriminant_analysis.QuadraticDiscriminantAnalysis on 351 is non-monotonic: False, size: 30\n"
     ]
    },
    {
     "name": "stderr",
     "output_type": "stream",
     "text": [
      "30it [01:15,  2.18s/it]"
     ]
    },
    {
     "name": "stdout",
     "output_type": "stream",
     "text": [
      "sklearn.discriminant_analysis.QuadraticDiscriminantAnalysis on 354;non-monotonic: True\n"
     ]
    },
    {
     "name": "stderr",
     "output_type": "stream",
     "text": [
      "31it [01:17,  2.26s/it]"
     ]
    },
    {
     "name": "stdout",
     "output_type": "stream",
     "text": [
      "sklearn.discriminant_analysis.QuadraticDiscriminantAnalysis on 357;non-monotonic: True\n"
     ]
    },
    {
     "name": "stderr",
     "output_type": "stream",
     "text": [
      "32it [01:19,  2.19s/it]"
     ]
    },
    {
     "name": "stdout",
     "output_type": "stream",
     "text": [
      "sklearn.discriminant_analysis.QuadraticDiscriminantAnalysis on 380;non-monotonic: True\n"
     ]
    },
    {
     "name": "stderr",
     "output_type": "stream",
     "text": [
      "33it [01:21,  2.18s/it]"
     ]
    },
    {
     "name": "stdout",
     "output_type": "stream",
     "text": [
      "sklearn.discriminant_analysis.QuadraticDiscriminantAnalysis on 389;non-monotonic: True\n"
     ]
    },
    {
     "name": "stderr",
     "output_type": "stream",
     "text": [
      "34it [01:23,  2.15s/it]"
     ]
    },
    {
     "name": "stdout",
     "output_type": "stream",
     "text": [
      "sklearn.discriminant_analysis.QuadraticDiscriminantAnalysis on 390;non-monotonic: True\n"
     ]
    },
    {
     "name": "stderr",
     "output_type": "stream",
     "text": [
      "35it [01:25,  2.15s/it]"
     ]
    },
    {
     "name": "stdout",
     "output_type": "stream",
     "text": [
      "sklearn.discriminant_analysis.QuadraticDiscriminantAnalysis on 391;non-monotonic: True\n"
     ]
    },
    {
     "name": "stderr",
     "output_type": "stream",
     "text": [
      "36it [01:28,  2.14s/it]"
     ]
    },
    {
     "name": "stdout",
     "output_type": "stream",
     "text": [
      "sklearn.discriminant_analysis.QuadraticDiscriminantAnalysis on 392;non-monotonic: True\n"
     ]
    },
    {
     "name": "stderr",
     "output_type": "stream",
     "text": [
      "37it [01:30,  2.23s/it]"
     ]
    },
    {
     "name": "stdout",
     "output_type": "stream",
     "text": [
      "sklearn.discriminant_analysis.QuadraticDiscriminantAnalysis on 393;non-monotonic: True\n"
     ]
    },
    {
     "name": "stderr",
     "output_type": "stream",
     "text": [
      "38it [01:32,  2.22s/it]"
     ]
    },
    {
     "name": "stdout",
     "output_type": "stream",
     "text": [
      "sklearn.discriminant_analysis.QuadraticDiscriminantAnalysis on 395;non-monotonic: True\n"
     ]
    },
    {
     "name": "stderr",
     "output_type": "stream",
     "text": [
      "39it [01:34,  2.21s/it]"
     ]
    },
    {
     "name": "stdout",
     "output_type": "stream",
     "text": [
      "sklearn.discriminant_analysis.QuadraticDiscriminantAnalysis on 396;non-monotonic: True\n"
     ]
    },
    {
     "name": "stderr",
     "output_type": "stream",
     "text": [
      "40it [01:36,  2.18s/it]"
     ]
    },
    {
     "name": "stdout",
     "output_type": "stream",
     "text": [
      "sklearn.discriminant_analysis.QuadraticDiscriminantAnalysis on 398;non-monotonic: True\n"
     ]
    },
    {
     "name": "stderr",
     "output_type": "stream",
     "text": [
      "41it [01:39,  2.25s/it]"
     ]
    },
    {
     "name": "stdout",
     "output_type": "stream",
     "text": [
      "sklearn.discriminant_analysis.QuadraticDiscriminantAnalysis on 399;non-monotonic: True\n"
     ]
    },
    {
     "name": "stderr",
     "output_type": "stream",
     "text": [
      "42it [01:41,  2.20s/it]"
     ]
    },
    {
     "name": "stdout",
     "output_type": "stream",
     "text": [
      "sklearn.discriminant_analysis.QuadraticDiscriminantAnalysis on 401;non-monotonic: True\n"
     ]
    },
    {
     "name": "stderr",
     "output_type": "stream",
     "text": [
      "43it [01:43,  2.17s/it]"
     ]
    },
    {
     "name": "stdout",
     "output_type": "stream",
     "text": [
      "sklearn.discriminant_analysis.QuadraticDiscriminantAnalysis on 446;non-monotonic: True\n"
     ]
    },
    {
     "name": "stderr",
     "output_type": "stream",
     "text": [
      "44it [01:45,  2.14s/it]"
     ]
    },
    {
     "name": "stdout",
     "output_type": "stream",
     "text": [
      "sklearn.discriminant_analysis.QuadraticDiscriminantAnalysis on 554;non-monotonic: True\n"
     ]
    },
    {
     "name": "stderr",
     "output_type": "stream",
     "text": [
      "45it [01:47,  2.17s/it]"
     ]
    },
    {
     "name": "stdout",
     "output_type": "stream",
     "text": [
      "sklearn.discriminant_analysis.QuadraticDiscriminantAnalysis on 679;non-monotonic: True\n"
     ]
    },
    {
     "name": "stderr",
     "output_type": "stream",
     "text": [
      "46it [01:50,  2.17s/it]"
     ]
    },
    {
     "name": "stdout",
     "output_type": "stream",
     "text": [
      "sklearn.discriminant_analysis.QuadraticDiscriminantAnalysis on 715;non-monotonic: True\n"
     ]
    },
    {
     "name": "stderr",
     "output_type": "stream",
     "text": [
      "47it [01:52,  2.27s/it]"
     ]
    },
    {
     "name": "stdout",
     "output_type": "stream",
     "text": [
      "sklearn.discriminant_analysis.QuadraticDiscriminantAnalysis on 718;non-monotonic: True\n"
     ]
    },
    {
     "name": "stderr",
     "output_type": "stream",
     "text": [
      "48it [01:54,  2.21s/it]"
     ]
    },
    {
     "name": "stdout",
     "output_type": "stream",
     "text": [
      "sklearn.discriminant_analysis.QuadraticDiscriminantAnalysis on 720;non-monotonic: True\n"
     ]
    },
    {
     "name": "stderr",
     "output_type": "stream",
     "text": [
      "49it [01:56,  2.16s/it]"
     ]
    },
    {
     "name": "stdout",
     "output_type": "stream",
     "text": [
      "sklearn.discriminant_analysis.QuadraticDiscriminantAnalysis on 722;non-monotonic: True\n"
     ]
    },
    {
     "name": "stderr",
     "output_type": "stream",
     "text": [
      "50it [01:58,  2.16s/it]"
     ]
    },
    {
     "name": "stdout",
     "output_type": "stream",
     "text": [
      "sklearn.discriminant_analysis.QuadraticDiscriminantAnalysis on 723;non-monotonic: True\n"
     ]
    },
    {
     "name": "stderr",
     "output_type": "stream",
     "text": [
      "51it [02:00,  2.17s/it]"
     ]
    },
    {
     "name": "stdout",
     "output_type": "stream",
     "text": [
      "sklearn.discriminant_analysis.QuadraticDiscriminantAnalysis on 727 is non-monotonic: False, size: 24\n"
     ]
    },
    {
     "name": "stderr",
     "output_type": "stream",
     "text": [
      "52it [02:03,  2.24s/it]"
     ]
    },
    {
     "name": "stdout",
     "output_type": "stream",
     "text": [
      "sklearn.discriminant_analysis.QuadraticDiscriminantAnalysis on 728;non-monotonic: True\n"
     ]
    },
    {
     "name": "stderr",
     "output_type": "stream",
     "text": [
      "53it [02:05,  2.19s/it]"
     ]
    },
    {
     "name": "stdout",
     "output_type": "stream",
     "text": [
      "sklearn.discriminant_analysis.QuadraticDiscriminantAnalysis on 734;non-monotonic: True\n"
     ]
    },
    {
     "name": "stderr",
     "output_type": "stream",
     "text": [
      "54it [02:07,  2.17s/it]"
     ]
    },
    {
     "name": "stdout",
     "output_type": "stream",
     "text": [
      "sklearn.discriminant_analysis.QuadraticDiscriminantAnalysis on 735;non-monotonic: True\n"
     ]
    },
    {
     "name": "stderr",
     "output_type": "stream",
     "text": [
      "55it [02:09,  2.15s/it]"
     ]
    },
    {
     "name": "stdout",
     "output_type": "stream",
     "text": [
      "sklearn.discriminant_analysis.QuadraticDiscriminantAnalysis on 737;non-monotonic: True\n"
     ]
    },
    {
     "name": "stderr",
     "output_type": "stream",
     "text": [
      "56it [02:11,  2.13s/it]"
     ]
    },
    {
     "name": "stdout",
     "output_type": "stream",
     "text": [
      "sklearn.discriminant_analysis.QuadraticDiscriminantAnalysis on 740;non-monotonic: True\n"
     ]
    },
    {
     "name": "stderr",
     "output_type": "stream",
     "text": [
      "57it [02:13,  2.11s/it]"
     ]
    },
    {
     "name": "stdout",
     "output_type": "stream",
     "text": [
      "sklearn.discriminant_analysis.QuadraticDiscriminantAnalysis on 741;non-monotonic: True\n"
     ]
    },
    {
     "name": "stderr",
     "output_type": "stream",
     "text": [
      "58it [02:16,  2.21s/it]"
     ]
    },
    {
     "name": "stdout",
     "output_type": "stream",
     "text": [
      "sklearn.discriminant_analysis.QuadraticDiscriminantAnalysis on 743;non-monotonic: True\n"
     ]
    },
    {
     "name": "stderr",
     "output_type": "stream",
     "text": [
      "59it [02:18,  2.18s/it]"
     ]
    },
    {
     "name": "stdout",
     "output_type": "stream",
     "text": [
      "sklearn.discriminant_analysis.QuadraticDiscriminantAnalysis on 751;non-monotonic: True\n"
     ]
    },
    {
     "name": "stderr",
     "output_type": "stream",
     "text": [
      "60it [02:20,  2.17s/it]"
     ]
    },
    {
     "name": "stdout",
     "output_type": "stream",
     "text": [
      "sklearn.discriminant_analysis.QuadraticDiscriminantAnalysis on 752;non-monotonic: True\n"
     ]
    },
    {
     "name": "stderr",
     "output_type": "stream",
     "text": [
      "61it [02:22,  2.19s/it]"
     ]
    },
    {
     "name": "stdout",
     "output_type": "stream",
     "text": [
      "sklearn.discriminant_analysis.QuadraticDiscriminantAnalysis on 761 is non-monotonic: False, size: 18\n"
     ]
    },
    {
     "name": "stderr",
     "output_type": "stream",
     "text": [
      "62it [02:25,  2.28s/it]"
     ]
    },
    {
     "name": "stdout",
     "output_type": "stream",
     "text": [
      "sklearn.discriminant_analysis.QuadraticDiscriminantAnalysis on 772;non-monotonic: True\n"
     ]
    },
    {
     "name": "stderr",
     "output_type": "stream",
     "text": [
      "63it [02:27,  2.24s/it]"
     ]
    },
    {
     "name": "stdout",
     "output_type": "stream",
     "text": [
      "sklearn.discriminant_analysis.QuadraticDiscriminantAnalysis on 797;non-monotonic: True\n"
     ]
    },
    {
     "name": "stderr",
     "output_type": "stream",
     "text": [
      "64it [02:29,  2.20s/it]"
     ]
    },
    {
     "name": "stdout",
     "output_type": "stream",
     "text": [
      "sklearn.discriminant_analysis.QuadraticDiscriminantAnalysis on 799 is non-monotonic: False, size: 12\n"
     ]
    },
    {
     "name": "stderr",
     "output_type": "stream",
     "text": [
      "65it [02:31,  2.19s/it]"
     ]
    },
    {
     "name": "stdout",
     "output_type": "stream",
     "text": [
      "sklearn.discriminant_analysis.QuadraticDiscriminantAnalysis on 803 is non-monotonic: False, size: 18\n"
     ]
    },
    {
     "name": "stderr",
     "output_type": "stream",
     "text": [
      "66it [02:34,  2.30s/it]"
     ]
    },
    {
     "name": "stdout",
     "output_type": "stream",
     "text": [
      "sklearn.discriminant_analysis.QuadraticDiscriminantAnalysis on 806;non-monotonic: True\n"
     ]
    },
    {
     "name": "stderr",
     "output_type": "stream",
     "text": [
      "67it [02:36,  2.25s/it]"
     ]
    },
    {
     "name": "stdout",
     "output_type": "stream",
     "text": [
      "sklearn.discriminant_analysis.QuadraticDiscriminantAnalysis on 807;non-monotonic: True\n"
     ]
    },
    {
     "name": "stderr",
     "output_type": "stream",
     "text": [
      "68it [02:38,  2.22s/it]"
     ]
    },
    {
     "name": "stdout",
     "output_type": "stream",
     "text": [
      "sklearn.discriminant_analysis.QuadraticDiscriminantAnalysis on 813;non-monotonic: True\n"
     ]
    },
    {
     "name": "stderr",
     "output_type": "stream",
     "text": [
      "69it [02:40,  2.17s/it]"
     ]
    },
    {
     "name": "stdout",
     "output_type": "stream",
     "text": [
      "sklearn.discriminant_analysis.QuadraticDiscriminantAnalysis on 816 is non-monotonic: False, size: 18\n"
     ]
    },
    {
     "name": "stderr",
     "output_type": "stream",
     "text": [
      "70it [02:42,  2.15s/it]"
     ]
    },
    {
     "name": "stdout",
     "output_type": "stream",
     "text": [
      "sklearn.discriminant_analysis.QuadraticDiscriminantAnalysis on 819 is non-monotonic: False, size: 18\n"
     ]
    },
    {
     "name": "stderr",
     "output_type": "stream",
     "text": [
      "71it [02:44,  2.12s/it]"
     ]
    },
    {
     "name": "stdout",
     "output_type": "stream",
     "text": [
      "sklearn.discriminant_analysis.QuadraticDiscriminantAnalysis on 821;non-monotonic: True\n"
     ]
    },
    {
     "name": "stderr",
     "output_type": "stream",
     "text": [
      "72it [02:47,  2.24s/it]"
     ]
    },
    {
     "name": "stdout",
     "output_type": "stream",
     "text": [
      "sklearn.discriminant_analysis.QuadraticDiscriminantAnalysis on 822;non-monotonic: True\n"
     ]
    },
    {
     "name": "stderr",
     "output_type": "stream",
     "text": [
      "73it [02:49,  2.22s/it]"
     ]
    },
    {
     "name": "stdout",
     "output_type": "stream",
     "text": [
      "sklearn.discriminant_analysis.QuadraticDiscriminantAnalysis on 823 is non-monotonic: False, size: 22\n"
     ]
    },
    {
     "name": "stderr",
     "output_type": "stream",
     "text": [
      "74it [02:51,  2.18s/it]"
     ]
    },
    {
     "name": "stdout",
     "output_type": "stream",
     "text": [
      "sklearn.discriminant_analysis.QuadraticDiscriminantAnalysis on 833 is non-monotonic: False, size: 18\n"
     ]
    },
    {
     "name": "stderr",
     "output_type": "stream",
     "text": [
      "75it [02:53,  2.14s/it]"
     ]
    },
    {
     "name": "stdout",
     "output_type": "stream",
     "text": [
      "sklearn.discriminant_analysis.QuadraticDiscriminantAnalysis on 837;non-monotonic: True\n"
     ]
    },
    {
     "name": "stderr",
     "output_type": "stream",
     "text": [
      "76it [02:55,  2.23s/it]"
     ]
    },
    {
     "name": "stdout",
     "output_type": "stream",
     "text": [
      "sklearn.discriminant_analysis.QuadraticDiscriminantAnalysis on 843;non-monotonic: True\n"
     ]
    },
    {
     "name": "stderr",
     "output_type": "stream",
     "text": [
      "77it [02:58,  2.20s/it]"
     ]
    },
    {
     "name": "stdout",
     "output_type": "stream",
     "text": [
      "sklearn.discriminant_analysis.QuadraticDiscriminantAnalysis on 845 is non-monotonic: False, size: 12\n"
     ]
    },
    {
     "name": "stderr",
     "output_type": "stream",
     "text": [
      "78it [03:00,  2.18s/it]"
     ]
    },
    {
     "name": "stdout",
     "output_type": "stream",
     "text": [
      "sklearn.discriminant_analysis.QuadraticDiscriminantAnalysis on 846;non-monotonic: True\n"
     ]
    },
    {
     "name": "stderr",
     "output_type": "stream",
     "text": [
      "79it [03:02,  2.16s/it]"
     ]
    },
    {
     "name": "stdout",
     "output_type": "stream",
     "text": [
      "sklearn.discriminant_analysis.QuadraticDiscriminantAnalysis on 847;non-monotonic: True\n"
     ]
    },
    {
     "name": "stderr",
     "output_type": "stream",
     "text": [
      "80it [03:04,  2.25s/it]"
     ]
    },
    {
     "name": "stdout",
     "output_type": "stream",
     "text": [
      "sklearn.discriminant_analysis.QuadraticDiscriminantAnalysis on 849;non-monotonic: True\n"
     ]
    },
    {
     "name": "stderr",
     "output_type": "stream",
     "text": [
      "81it [03:06,  2.21s/it]"
     ]
    },
    {
     "name": "stdout",
     "output_type": "stream",
     "text": [
      "sklearn.discriminant_analysis.QuadraticDiscriminantAnalysis on 866;non-monotonic: True\n"
     ]
    },
    {
     "name": "stderr",
     "output_type": "stream",
     "text": [
      "82it [03:09,  2.18s/it]"
     ]
    },
    {
     "name": "stdout",
     "output_type": "stream",
     "text": [
      "sklearn.discriminant_analysis.QuadraticDiscriminantAnalysis on 871;non-monotonic: True\n"
     ]
    },
    {
     "name": "stderr",
     "output_type": "stream",
     "text": [
      "83it [03:11,  2.16s/it]"
     ]
    },
    {
     "name": "stdout",
     "output_type": "stream",
     "text": [
      "sklearn.discriminant_analysis.QuadraticDiscriminantAnalysis on 881;non-monotonic: True\n"
     ]
    },
    {
     "name": "stderr",
     "output_type": "stream",
     "text": [
      "84it [03:13,  2.18s/it]"
     ]
    },
    {
     "name": "stdout",
     "output_type": "stream",
     "text": [
      "sklearn.discriminant_analysis.QuadraticDiscriminantAnalysis on 897;non-monotonic: True\n"
     ]
    },
    {
     "name": "stderr",
     "output_type": "stream",
     "text": [
      "85it [03:16,  2.34s/it]"
     ]
    },
    {
     "name": "stdout",
     "output_type": "stream",
     "text": [
      "sklearn.discriminant_analysis.QuadraticDiscriminantAnalysis on 901 is non-monotonic: False, size: 24\n"
     ]
    },
    {
     "name": "stderr",
     "output_type": "stream",
     "text": [
      "86it [03:18,  2.27s/it]"
     ]
    },
    {
     "name": "stdout",
     "output_type": "stream",
     "text": [
      "sklearn.discriminant_analysis.QuadraticDiscriminantAnalysis on 903;non-monotonic: True\n"
     ]
    },
    {
     "name": "stderr",
     "output_type": "stream",
     "text": [
      "87it [03:20,  2.23s/it]"
     ]
    },
    {
     "name": "stdout",
     "output_type": "stream",
     "text": [
      "sklearn.discriminant_analysis.QuadraticDiscriminantAnalysis on 904;non-monotonic: True\n"
     ]
    },
    {
     "name": "stderr",
     "output_type": "stream",
     "text": [
      "88it [03:22,  2.18s/it]"
     ]
    },
    {
     "name": "stdout",
     "output_type": "stream",
     "text": [
      "sklearn.discriminant_analysis.QuadraticDiscriminantAnalysis on 910;non-monotonic: True\n"
     ]
    },
    {
     "name": "stderr",
     "output_type": "stream",
     "text": [
      "89it [03:24,  2.27s/it]"
     ]
    },
    {
     "name": "stdout",
     "output_type": "stream",
     "text": [
      "sklearn.discriminant_analysis.QuadraticDiscriminantAnalysis on 912;non-monotonic: True\n"
     ]
    },
    {
     "name": "stderr",
     "output_type": "stream",
     "text": [
      "90it [03:27,  2.24s/it]"
     ]
    },
    {
     "name": "stdout",
     "output_type": "stream",
     "text": [
      "sklearn.discriminant_analysis.QuadraticDiscriminantAnalysis on 913;non-monotonic: True\n"
     ]
    },
    {
     "name": "stderr",
     "output_type": "stream",
     "text": [
      "91it [03:29,  2.30s/it]"
     ]
    },
    {
     "name": "stdout",
     "output_type": "stream",
     "text": [
      "sklearn.discriminant_analysis.QuadraticDiscriminantAnalysis on 914;non-monotonic: True\n"
     ]
    },
    {
     "name": "stderr",
     "output_type": "stream",
     "text": [
      "92it [03:32,  2.52s/it]"
     ]
    },
    {
     "name": "stdout",
     "output_type": "stream",
     "text": [
      "sklearn.discriminant_analysis.QuadraticDiscriminantAnalysis on 917;non-monotonic: True\n"
     ]
    },
    {
     "name": "stderr",
     "output_type": "stream",
     "text": [
      "93it [03:35,  2.60s/it]"
     ]
    },
    {
     "name": "stdout",
     "output_type": "stream",
     "text": [
      "sklearn.discriminant_analysis.QuadraticDiscriminantAnalysis on 923 is non-monotonic: False, size: 18\n"
     ]
    },
    {
     "name": "stderr",
     "output_type": "stream",
     "text": [
      "94it [03:37,  2.47s/it]"
     ]
    },
    {
     "name": "stdout",
     "output_type": "stream",
     "text": [
      "sklearn.discriminant_analysis.QuadraticDiscriminantAnalysis on 930;non-monotonic: True\n"
     ]
    },
    {
     "name": "stderr",
     "output_type": "stream",
     "text": [
      "95it [03:39,  2.48s/it]"
     ]
    },
    {
     "name": "stdout",
     "output_type": "stream",
     "text": [
      "sklearn.discriminant_analysis.QuadraticDiscriminantAnalysis on 934;non-monotonic: True\n"
     ]
    },
    {
     "name": "stderr",
     "output_type": "stream",
     "text": [
      "96it [03:42,  2.61s/it]"
     ]
    },
    {
     "name": "stdout",
     "output_type": "stream",
     "text": [
      "sklearn.discriminant_analysis.QuadraticDiscriminantAnalysis on 958;non-monotonic: True\n"
     ]
    },
    {
     "name": "stderr",
     "output_type": "stream",
     "text": [
      "97it [03:46,  2.99s/it]"
     ]
    },
    {
     "name": "stdout",
     "output_type": "stream",
     "text": [
      "sklearn.discriminant_analysis.QuadraticDiscriminantAnalysis on 959;non-monotonic: True\n"
     ]
    },
    {
     "name": "stderr",
     "output_type": "stream",
     "text": [
      "98it [03:49,  2.77s/it]"
     ]
    },
    {
     "name": "stdout",
     "output_type": "stream",
     "text": [
      "sklearn.discriminant_analysis.QuadraticDiscriminantAnalysis on 962;non-monotonic: True\n"
     ]
    },
    {
     "name": "stderr",
     "output_type": "stream",
     "text": [
      "99it [03:51,  2.66s/it]"
     ]
    },
    {
     "name": "stdout",
     "output_type": "stream",
     "text": [
      "sklearn.discriminant_analysis.QuadraticDiscriminantAnalysis on 966;non-monotonic: True\n"
     ]
    },
    {
     "name": "stderr",
     "output_type": "stream",
     "text": [
      "100it [03:54,  2.69s/it]"
     ]
    },
    {
     "name": "stdout",
     "output_type": "stream",
     "text": [
      "sklearn.discriminant_analysis.QuadraticDiscriminantAnalysis on 971;non-monotonic: True\n"
     ]
    },
    {
     "name": "stderr",
     "output_type": "stream",
     "text": [
      "101it [03:56,  2.50s/it]"
     ]
    },
    {
     "name": "stdout",
     "output_type": "stream",
     "text": [
      "sklearn.discriminant_analysis.QuadraticDiscriminantAnalysis on 976 is non-monotonic: False, size: 18\n"
     ]
    },
    {
     "name": "stderr",
     "output_type": "stream",
     "text": [
      "102it [03:58,  2.37s/it]"
     ]
    },
    {
     "name": "stdout",
     "output_type": "stream",
     "text": [
      "sklearn.discriminant_analysis.QuadraticDiscriminantAnalysis on 977;non-monotonic: True\n"
     ]
    },
    {
     "name": "stderr",
     "output_type": "stream",
     "text": [
      "103it [04:00,  2.32s/it]"
     ]
    },
    {
     "name": "stdout",
     "output_type": "stream",
     "text": [
      "sklearn.discriminant_analysis.QuadraticDiscriminantAnalysis on 978;non-monotonic: True\n"
     ]
    },
    {
     "name": "stderr",
     "output_type": "stream",
     "text": [
      "104it [04:03,  2.47s/it]"
     ]
    },
    {
     "name": "stdout",
     "output_type": "stream",
     "text": [
      "sklearn.discriminant_analysis.QuadraticDiscriminantAnalysis on 979;non-monotonic: True\n"
     ]
    },
    {
     "name": "stderr",
     "output_type": "stream",
     "text": [
      "105it [04:06,  2.65s/it]"
     ]
    },
    {
     "name": "stdout",
     "output_type": "stream",
     "text": [
      "sklearn.discriminant_analysis.QuadraticDiscriminantAnalysis on 980;non-monotonic: True\n"
     ]
    },
    {
     "name": "stderr",
     "output_type": "stream",
     "text": [
      "106it [04:08,  2.51s/it]"
     ]
    },
    {
     "name": "stdout",
     "output_type": "stream",
     "text": [
      "sklearn.discriminant_analysis.QuadraticDiscriminantAnalysis on 991;non-monotonic: True\n"
     ]
    },
    {
     "name": "stderr",
     "output_type": "stream",
     "text": [
      "107it [04:10,  2.42s/it]"
     ]
    },
    {
     "name": "stdout",
     "output_type": "stream",
     "text": [
      "sklearn.discriminant_analysis.QuadraticDiscriminantAnalysis on 995;non-monotonic: True\n"
     ]
    },
    {
     "name": "stderr",
     "output_type": "stream",
     "text": [
      "108it [04:13,  2.44s/it]"
     ]
    },
    {
     "name": "stdout",
     "output_type": "stream",
     "text": [
      "sklearn.discriminant_analysis.QuadraticDiscriminantAnalysis on 1019 is non-monotonic: False, size: 20\n"
     ]
    },
    {
     "name": "stderr",
     "output_type": "stream",
     "text": [
      "109it [04:15,  2.41s/it]"
     ]
    },
    {
     "name": "stdout",
     "output_type": "stream",
     "text": [
      "sklearn.discriminant_analysis.QuadraticDiscriminantAnalysis on 1020;non-monotonic: True\n"
     ]
    },
    {
     "name": "stderr",
     "output_type": "stream",
     "text": [
      "110it [04:18,  2.46s/it]"
     ]
    },
    {
     "name": "stdout",
     "output_type": "stream",
     "text": [
      "sklearn.discriminant_analysis.QuadraticDiscriminantAnalysis on 1021;non-monotonic: True\n"
     ]
    },
    {
     "name": "stderr",
     "output_type": "stream",
     "text": [
      "111it [04:20,  2.35s/it]"
     ]
    },
    {
     "name": "stdout",
     "output_type": "stream",
     "text": [
      "sklearn.discriminant_analysis.QuadraticDiscriminantAnalysis on 1036;non-monotonic: True\n"
     ]
    },
    {
     "name": "stderr",
     "output_type": "stream",
     "text": [
      "112it [04:22,  2.29s/it]"
     ]
    },
    {
     "name": "stdout",
     "output_type": "stream",
     "text": [
      "sklearn.discriminant_analysis.QuadraticDiscriminantAnalysis on 1040;non-monotonic: True\n"
     ]
    },
    {
     "name": "stderr",
     "output_type": "stream",
     "text": [
      "113it [04:24,  2.23s/it]"
     ]
    },
    {
     "name": "stdout",
     "output_type": "stream",
     "text": [
      "sklearn.discriminant_analysis.QuadraticDiscriminantAnalysis on 1041;non-monotonic: True\n"
     ]
    },
    {
     "name": "stderr",
     "output_type": "stream",
     "text": [
      "114it [04:26,  2.25s/it]"
     ]
    },
    {
     "name": "stdout",
     "output_type": "stream",
     "text": [
      "sklearn.discriminant_analysis.QuadraticDiscriminantAnalysis on 1042;non-monotonic: True\n"
     ]
    },
    {
     "name": "stderr",
     "output_type": "stream",
     "text": [
      "115it [04:29,  2.45s/it]"
     ]
    },
    {
     "name": "stdout",
     "output_type": "stream",
     "text": [
      "sklearn.discriminant_analysis.QuadraticDiscriminantAnalysis on 1049;non-monotonic: True\n"
     ]
    },
    {
     "name": "stderr",
     "output_type": "stream",
     "text": [
      "116it [04:32,  2.45s/it]"
     ]
    },
    {
     "name": "stdout",
     "output_type": "stream",
     "text": [
      "sklearn.discriminant_analysis.QuadraticDiscriminantAnalysis on 1050;non-monotonic: True\n"
     ]
    },
    {
     "name": "stderr",
     "output_type": "stream",
     "text": [
      "117it [04:34,  2.48s/it]"
     ]
    },
    {
     "name": "stdout",
     "output_type": "stream",
     "text": [
      "sklearn.discriminant_analysis.QuadraticDiscriminantAnalysis on 1053;non-monotonic: True\n"
     ]
    },
    {
     "name": "stderr",
     "output_type": "stream",
     "text": [
      "118it [04:36,  2.40s/it]"
     ]
    },
    {
     "name": "stdout",
     "output_type": "stream",
     "text": [
      "sklearn.discriminant_analysis.QuadraticDiscriminantAnalysis on 1056 is non-monotonic: False, size: 16\n"
     ]
    },
    {
     "name": "stderr",
     "output_type": "stream",
     "text": [
      "119it [04:39,  2.33s/it]"
     ]
    },
    {
     "name": "stdout",
     "output_type": "stream",
     "text": [
      "sklearn.discriminant_analysis.QuadraticDiscriminantAnalysis on 1067;non-monotonic: True\n"
     ]
    },
    {
     "name": "stderr",
     "output_type": "stream",
     "text": [
      "120it [04:41,  2.39s/it]"
     ]
    },
    {
     "name": "stdout",
     "output_type": "stream",
     "text": [
      "sklearn.discriminant_analysis.QuadraticDiscriminantAnalysis on 1068;non-monotonic: True\n"
     ]
    },
    {
     "name": "stderr",
     "output_type": "stream",
     "text": [
      "121it [04:43,  2.31s/it]"
     ]
    },
    {
     "name": "stdout",
     "output_type": "stream",
     "text": [
      "sklearn.discriminant_analysis.QuadraticDiscriminantAnalysis on 1069 is non-monotonic: False, size: 10\n"
     ]
    },
    {
     "name": "stderr",
     "output_type": "stream",
     "text": [
      "122it [04:45,  2.27s/it]"
     ]
    },
    {
     "name": "stdout",
     "output_type": "stream",
     "text": [
      "sklearn.discriminant_analysis.QuadraticDiscriminantAnalysis on 1083;non-monotonic: True\n"
     ]
    },
    {
     "name": "stderr",
     "output_type": "stream",
     "text": [
      "123it [04:48,  2.37s/it]"
     ]
    },
    {
     "name": "stdout",
     "output_type": "stream",
     "text": [
      "sklearn.discriminant_analysis.QuadraticDiscriminantAnalysis on 1084;non-monotonic: True\n"
     ]
    },
    {
     "name": "stderr",
     "output_type": "stream",
     "text": [
      "124it [04:50,  2.31s/it]"
     ]
    },
    {
     "name": "stdout",
     "output_type": "stream",
     "text": [
      "sklearn.discriminant_analysis.QuadraticDiscriminantAnalysis on 1085;non-monotonic: True\n"
     ]
    },
    {
     "name": "stderr",
     "output_type": "stream",
     "text": [
      "125it [04:52,  2.26s/it]"
     ]
    },
    {
     "name": "stdout",
     "output_type": "stream",
     "text": [
      "sklearn.discriminant_analysis.QuadraticDiscriminantAnalysis on 1086;non-monotonic: True\n"
     ]
    },
    {
     "name": "stderr",
     "output_type": "stream",
     "text": [
      "126it [04:55,  2.32s/it]"
     ]
    },
    {
     "name": "stdout",
     "output_type": "stream",
     "text": [
      "sklearn.discriminant_analysis.QuadraticDiscriminantAnalysis on 1087;non-monotonic: True\n"
     ]
    },
    {
     "name": "stderr",
     "output_type": "stream",
     "text": [
      "127it [04:57,  2.27s/it]"
     ]
    },
    {
     "name": "stdout",
     "output_type": "stream",
     "text": [
      "sklearn.discriminant_analysis.QuadraticDiscriminantAnalysis on 1088;non-monotonic: True\n"
     ]
    },
    {
     "name": "stderr",
     "output_type": "stream",
     "text": [
      "128it [04:59,  2.24s/it]"
     ]
    },
    {
     "name": "stdout",
     "output_type": "stream",
     "text": [
      "sklearn.discriminant_analysis.QuadraticDiscriminantAnalysis on 1116;non-monotonic: True\n"
     ]
    },
    {
     "name": "stderr",
     "output_type": "stream",
     "text": [
      "129it [05:02,  2.33s/it]"
     ]
    },
    {
     "name": "stdout",
     "output_type": "stream",
     "text": [
      "sklearn.discriminant_analysis.QuadraticDiscriminantAnalysis on 1120;non-monotonic: True\n"
     ]
    },
    {
     "name": "stderr",
     "output_type": "stream",
     "text": [
      "130it [05:04,  2.29s/it]"
     ]
    },
    {
     "name": "stdout",
     "output_type": "stream",
     "text": [
      "sklearn.discriminant_analysis.QuadraticDiscriminantAnalysis on 1128;non-monotonic: True\n"
     ]
    },
    {
     "name": "stderr",
     "output_type": "stream",
     "text": [
      "131it [05:06,  2.23s/it]"
     ]
    },
    {
     "name": "stdout",
     "output_type": "stream",
     "text": [
      "sklearn.discriminant_analysis.QuadraticDiscriminantAnalysis on 1130;non-monotonic: True\n"
     ]
    },
    {
     "name": "stderr",
     "output_type": "stream",
     "text": [
      "132it [05:08,  2.18s/it]"
     ]
    },
    {
     "name": "stdout",
     "output_type": "stream",
     "text": [
      "sklearn.discriminant_analysis.QuadraticDiscriminantAnalysis on 1134;non-monotonic: True\n"
     ]
    },
    {
     "name": "stderr",
     "output_type": "stream",
     "text": [
      "133it [05:11,  2.27s/it]"
     ]
    },
    {
     "name": "stdout",
     "output_type": "stream",
     "text": [
      "sklearn.discriminant_analysis.QuadraticDiscriminantAnalysis on 1138;non-monotonic: True\n"
     ]
    },
    {
     "name": "stderr",
     "output_type": "stream",
     "text": [
      "134it [05:13,  2.21s/it]"
     ]
    },
    {
     "name": "stdout",
     "output_type": "stream",
     "text": [
      "sklearn.discriminant_analysis.QuadraticDiscriminantAnalysis on 1139;non-monotonic: True\n"
     ]
    },
    {
     "name": "stderr",
     "output_type": "stream",
     "text": [
      "135it [05:15,  2.19s/it]"
     ]
    },
    {
     "name": "stdout",
     "output_type": "stream",
     "text": [
      "sklearn.discriminant_analysis.QuadraticDiscriminantAnalysis on 1142;non-monotonic: True\n"
     ]
    },
    {
     "name": "stderr",
     "output_type": "stream",
     "text": [
      "136it [05:17,  2.18s/it]"
     ]
    },
    {
     "name": "stdout",
     "output_type": "stream",
     "text": [
      "sklearn.discriminant_analysis.QuadraticDiscriminantAnalysis on 1146;non-monotonic: True\n"
     ]
    },
    {
     "name": "stderr",
     "output_type": "stream",
     "text": [
      "137it [05:19,  2.27s/it]"
     ]
    },
    {
     "name": "stdout",
     "output_type": "stream",
     "text": [
      "sklearn.discriminant_analysis.QuadraticDiscriminantAnalysis on 1161;non-monotonic: True\n"
     ]
    },
    {
     "name": "stderr",
     "output_type": "stream",
     "text": [
      "138it [05:22,  2.26s/it]"
     ]
    },
    {
     "name": "stdout",
     "output_type": "stream",
     "text": [
      "sklearn.discriminant_analysis.QuadraticDiscriminantAnalysis on 1166;non-monotonic: True\n"
     ]
    },
    {
     "name": "stderr",
     "output_type": "stream",
     "text": [
      "139it [05:24,  2.33s/it]"
     ]
    },
    {
     "name": "stdout",
     "output_type": "stream",
     "text": [
      "sklearn.discriminant_analysis.QuadraticDiscriminantAnalysis on 1216;non-monotonic: True\n"
     ]
    },
    {
     "name": "stderr",
     "output_type": "stream",
     "text": [
      "140it [05:26,  2.27s/it]"
     ]
    },
    {
     "name": "stdout",
     "output_type": "stream",
     "text": [
      "sklearn.discriminant_analysis.QuadraticDiscriminantAnalysis on 1233;non-monotonic: True\n"
     ]
    },
    {
     "name": "stderr",
     "output_type": "stream",
     "text": [
      "141it [05:28,  2.22s/it]"
     ]
    },
    {
     "name": "stdout",
     "output_type": "stream",
     "text": [
      "sklearn.discriminant_analysis.QuadraticDiscriminantAnalysis on 1235;non-monotonic: True\n"
     ]
    },
    {
     "name": "stderr",
     "output_type": "stream",
     "text": [
      "142it [05:31,  2.21s/it]"
     ]
    },
    {
     "name": "stdout",
     "output_type": "stream",
     "text": [
      "sklearn.discriminant_analysis.QuadraticDiscriminantAnalysis on 1236;non-monotonic: True\n"
     ]
    },
    {
     "name": "stderr",
     "output_type": "stream",
     "text": [
      "143it [05:33,  2.31s/it]"
     ]
    },
    {
     "name": "stdout",
     "output_type": "stream",
     "text": [
      "sklearn.discriminant_analysis.QuadraticDiscriminantAnalysis on 1441;non-monotonic: True\n"
     ]
    },
    {
     "name": "stderr",
     "output_type": "stream",
     "text": [
      "144it [05:35,  2.26s/it]"
     ]
    },
    {
     "name": "stdout",
     "output_type": "stream",
     "text": [
      "sklearn.discriminant_analysis.QuadraticDiscriminantAnalysis on 1448 is non-monotonic: False, size: 8\n"
     ]
    },
    {
     "name": "stderr",
     "output_type": "stream",
     "text": [
      "145it [05:37,  2.22s/it]"
     ]
    },
    {
     "name": "stdout",
     "output_type": "stream",
     "text": [
      "sklearn.discriminant_analysis.QuadraticDiscriminantAnalysis on 1450;non-monotonic: True\n"
     ]
    },
    {
     "name": "stderr",
     "output_type": "stream",
     "text": [
      "146it [05:39,  2.19s/it]"
     ]
    },
    {
     "name": "stdout",
     "output_type": "stream",
     "text": [
      "sklearn.discriminant_analysis.QuadraticDiscriminantAnalysis on 1457;non-monotonic: True\n"
     ]
    },
    {
     "name": "stderr",
     "output_type": "stream",
     "text": [
      "147it [05:42,  2.17s/it]"
     ]
    },
    {
     "name": "stdout",
     "output_type": "stream",
     "text": [
      "sklearn.discriminant_analysis.QuadraticDiscriminantAnalysis on 1464;non-monotonic: True\n"
     ]
    },
    {
     "name": "stderr",
     "output_type": "stream",
     "text": [
      "148it [05:44,  2.28s/it]"
     ]
    },
    {
     "name": "stdout",
     "output_type": "stream",
     "text": [
      "sklearn.discriminant_analysis.QuadraticDiscriminantAnalysis on 1465;non-monotonic: True\n"
     ]
    },
    {
     "name": "stderr",
     "output_type": "stream",
     "text": [
      "149it [05:46,  2.24s/it]"
     ]
    },
    {
     "name": "stdout",
     "output_type": "stream",
     "text": [
      "sklearn.discriminant_analysis.QuadraticDiscriminantAnalysis on 1468;non-monotonic: True\n"
     ]
    },
    {
     "name": "stderr",
     "output_type": "stream",
     "text": [
      "150it [05:48,  2.21s/it]"
     ]
    },
    {
     "name": "stdout",
     "output_type": "stream",
     "text": [
      "sklearn.discriminant_analysis.QuadraticDiscriminantAnalysis on 1475;non-monotonic: True\n"
     ]
    },
    {
     "name": "stderr",
     "output_type": "stream",
     "text": [
      "151it [05:51,  2.18s/it]"
     ]
    },
    {
     "name": "stdout",
     "output_type": "stream",
     "text": [
      "sklearn.discriminant_analysis.QuadraticDiscriminantAnalysis on 1477;non-monotonic: True\n"
     ]
    },
    {
     "name": "stderr",
     "output_type": "stream",
     "text": [
      "152it [05:53,  2.26s/it]"
     ]
    },
    {
     "name": "stdout",
     "output_type": "stream",
     "text": [
      "sklearn.discriminant_analysis.QuadraticDiscriminantAnalysis on 1479;non-monotonic: True\n"
     ]
    },
    {
     "name": "stderr",
     "output_type": "stream",
     "text": [
      "153it [05:55,  2.21s/it]"
     ]
    },
    {
     "name": "stdout",
     "output_type": "stream",
     "text": [
      "sklearn.discriminant_analysis.QuadraticDiscriminantAnalysis on 1483;non-monotonic: True\n"
     ]
    },
    {
     "name": "stderr",
     "output_type": "stream",
     "text": [
      "154it [05:57,  2.19s/it]"
     ]
    },
    {
     "name": "stdout",
     "output_type": "stream",
     "text": [
      "sklearn.discriminant_analysis.QuadraticDiscriminantAnalysis on 1485;non-monotonic: True\n"
     ]
    },
    {
     "name": "stderr",
     "output_type": "stream",
     "text": [
      "155it [05:59,  2.15s/it]"
     ]
    },
    {
     "name": "stdout",
     "output_type": "stream",
     "text": [
      "sklearn.discriminant_analysis.QuadraticDiscriminantAnalysis on 1487;non-monotonic: True\n"
     ]
    },
    {
     "name": "stderr",
     "output_type": "stream",
     "text": [
      "156it [06:02,  2.27s/it]"
     ]
    },
    {
     "name": "stdout",
     "output_type": "stream",
     "text": [
      "sklearn.discriminant_analysis.QuadraticDiscriminantAnalysis on 1488;non-monotonic: True\n"
     ]
    },
    {
     "name": "stderr",
     "output_type": "stream",
     "text": [
      "157it [06:04,  2.23s/it]"
     ]
    },
    {
     "name": "stdout",
     "output_type": "stream",
     "text": [
      "sklearn.discriminant_analysis.QuadraticDiscriminantAnalysis on 1489;non-monotonic: True\n"
     ]
    },
    {
     "name": "stderr",
     "output_type": "stream",
     "text": [
      "158it [06:06,  2.20s/it]"
     ]
    },
    {
     "name": "stdout",
     "output_type": "stream",
     "text": [
      "sklearn.discriminant_analysis.QuadraticDiscriminantAnalysis on 1494;non-monotonic: True\n"
     ]
    },
    {
     "name": "stderr",
     "output_type": "stream",
     "text": [
      "159it [06:08,  2.17s/it]"
     ]
    },
    {
     "name": "stdout",
     "output_type": "stream",
     "text": [
      "sklearn.discriminant_analysis.QuadraticDiscriminantAnalysis on 1499 is non-monotonic: False, size: 8\n"
     ]
    },
    {
     "name": "stderr",
     "output_type": "stream",
     "text": [
      "160it [06:11,  2.24s/it]"
     ]
    },
    {
     "name": "stdout",
     "output_type": "stream",
     "text": [
      "sklearn.discriminant_analysis.QuadraticDiscriminantAnalysis on 1503;non-monotonic: True\n"
     ]
    },
    {
     "name": "stderr",
     "output_type": "stream",
     "text": [
      "161it [06:13,  2.19s/it]"
     ]
    },
    {
     "name": "stdout",
     "output_type": "stream",
     "text": [
      "sklearn.discriminant_analysis.QuadraticDiscriminantAnalysis on 1509;non-monotonic: True\n"
     ]
    },
    {
     "name": "stderr",
     "output_type": "stream",
     "text": [
      "162it [06:15,  2.18s/it]"
     ]
    },
    {
     "name": "stdout",
     "output_type": "stream",
     "text": [
      "sklearn.discriminant_analysis.QuadraticDiscriminantAnalysis on 1515;non-monotonic: True\n"
     ]
    },
    {
     "name": "stderr",
     "output_type": "stream",
     "text": [
      "163it [06:17,  2.29s/it]"
     ]
    },
    {
     "name": "stdout",
     "output_type": "stream",
     "text": [
      "sklearn.discriminant_analysis.QuadraticDiscriminantAnalysis on 1566;non-monotonic: True\n"
     ]
    },
    {
     "name": "stderr",
     "output_type": "stream",
     "text": [
      "164it [06:20,  2.26s/it]"
     ]
    },
    {
     "name": "stdout",
     "output_type": "stream",
     "text": [
      "sklearn.discriminant_analysis.QuadraticDiscriminantAnalysis on 1567;non-monotonic: True\n"
     ]
    },
    {
     "name": "stderr",
     "output_type": "stream",
     "text": [
      "165it [06:22,  2.32s/it]"
     ]
    },
    {
     "name": "stdout",
     "output_type": "stream",
     "text": [
      "sklearn.discriminant_analysis.QuadraticDiscriminantAnalysis on 1575;non-monotonic: True\n"
     ]
    },
    {
     "name": "stderr",
     "output_type": "stream",
     "text": [
      "166it [06:24,  2.28s/it]"
     ]
    },
    {
     "name": "stdout",
     "output_type": "stream",
     "text": [
      "sklearn.discriminant_analysis.QuadraticDiscriminantAnalysis on 1597;non-monotonic: True\n"
     ]
    },
    {
     "name": "stderr",
     "output_type": "stream",
     "text": [
      "167it [06:27,  2.34s/it]"
     ]
    },
    {
     "name": "stdout",
     "output_type": "stream",
     "text": [
      "sklearn.discriminant_analysis.QuadraticDiscriminantAnalysis on 4134;non-monotonic: True\n"
     ]
    },
    {
     "name": "stderr",
     "output_type": "stream",
     "text": [
      "168it [06:29,  2.28s/it]"
     ]
    },
    {
     "name": "stdout",
     "output_type": "stream",
     "text": [
      "sklearn.discriminant_analysis.QuadraticDiscriminantAnalysis on 4137;non-monotonic: True\n"
     ]
    },
    {
     "name": "stderr",
     "output_type": "stream",
     "text": [
      "169it [06:31,  2.34s/it]"
     ]
    },
    {
     "name": "stdout",
     "output_type": "stream",
     "text": [
      "sklearn.discriminant_analysis.QuadraticDiscriminantAnalysis on 4538;non-monotonic: True\n"
     ]
    },
    {
     "name": "stderr",
     "output_type": "stream",
     "text": [
      "170it [06:34,  2.36s/it]"
     ]
    },
    {
     "name": "stdout",
     "output_type": "stream",
     "text": [
      "sklearn.discriminant_analysis.QuadraticDiscriminantAnalysis on 23512;non-monotonic: True\n"
     ]
    },
    {
     "name": "stderr",
     "output_type": "stream",
     "text": [
      "171it [06:36,  2.41s/it]"
     ]
    },
    {
     "name": "stdout",
     "output_type": "stream",
     "text": [
      "sklearn.discriminant_analysis.QuadraticDiscriminantAnalysis on 23517;non-monotonic: True\n"
     ]
    },
    {
     "name": "stderr",
     "output_type": "stream",
     "text": [
      "172it [06:38,  2.33s/it]"
     ]
    },
    {
     "name": "stdout",
     "output_type": "stream",
     "text": [
      "sklearn.discriminant_analysis.QuadraticDiscriminantAnalysis on 40498;non-monotonic: True\n"
     ]
    },
    {
     "name": "stderr",
     "output_type": "stream",
     "text": [
      "173it [06:40,  2.25s/it]"
     ]
    },
    {
     "name": "stdout",
     "output_type": "stream",
     "text": [
      "sklearn.discriminant_analysis.QuadraticDiscriminantAnalysis on 40685;non-monotonic: True\n"
     ]
    },
    {
     "name": "stderr",
     "output_type": "stream",
     "text": [
      "174it [06:43,  2.23s/it]"
     ]
    },
    {
     "name": "stdout",
     "output_type": "stream",
     "text": [
      "sklearn.discriminant_analysis.QuadraticDiscriminantAnalysis on 40701;non-monotonic: True\n"
     ]
    },
    {
     "name": "stderr",
     "output_type": "stream",
     "text": [
      "175it [06:45,  2.30s/it]"
     ]
    },
    {
     "name": "stdout",
     "output_type": "stream",
     "text": [
      "sklearn.discriminant_analysis.QuadraticDiscriminantAnalysis on 40900;non-monotonic: True\n"
     ]
    },
    {
     "name": "stderr",
     "output_type": "stream",
     "text": [
      "176it [06:47,  2.28s/it]"
     ]
    },
    {
     "name": "stdout",
     "output_type": "stream",
     "text": [
      "sklearn.discriminant_analysis.QuadraticDiscriminantAnalysis on 40910;non-monotonic: True\n"
     ]
    },
    {
     "name": "stderr",
     "output_type": "stream",
     "text": [
      "177it [06:49,  2.24s/it]"
     ]
    },
    {
     "name": "stdout",
     "output_type": "stream",
     "text": [
      "sklearn.discriminant_analysis.QuadraticDiscriminantAnalysis on 40971 is non-monotonic: False, size: 5\n"
     ]
    },
    {
     "name": "stderr",
     "output_type": "stream",
     "text": [
      "178it [06:52,  2.28s/it]"
     ]
    },
    {
     "name": "stdout",
     "output_type": "stream",
     "text": [
      "sklearn.discriminant_analysis.QuadraticDiscriminantAnalysis on 40975;non-monotonic: True\n"
     ]
    },
    {
     "name": "stderr",
     "output_type": "stream",
     "text": [
      "179it [06:54,  2.24s/it]"
     ]
    },
    {
     "name": "stdout",
     "output_type": "stream",
     "text": [
      "sklearn.discriminant_analysis.QuadraticDiscriminantAnalysis on 40981;non-monotonic: True\n"
     ]
    },
    {
     "name": "stderr",
     "output_type": "stream",
     "text": [
      "180it [06:57,  2.31s/it]"
     ]
    },
    {
     "name": "stdout",
     "output_type": "stream",
     "text": [
      "sklearn.discriminant_analysis.QuadraticDiscriminantAnalysis on 40982;non-monotonic: True\n"
     ]
    },
    {
     "name": "stderr",
     "output_type": "stream",
     "text": [
      "181it [06:59,  2.27s/it]"
     ]
    },
    {
     "name": "stdout",
     "output_type": "stream",
     "text": [
      "sklearn.discriminant_analysis.QuadraticDiscriminantAnalysis on 40983;non-monotonic: True\n"
     ]
    },
    {
     "name": "stderr",
     "output_type": "stream",
     "text": [
      "182it [07:01,  2.25s/it]"
     ]
    },
    {
     "name": "stdout",
     "output_type": "stream",
     "text": [
      "sklearn.discriminant_analysis.QuadraticDiscriminantAnalysis on 40984;non-monotonic: True\n"
     ]
    },
    {
     "name": "stderr",
     "output_type": "stream",
     "text": [
      "183it [07:03,  2.35s/it]"
     ]
    },
    {
     "name": "stdout",
     "output_type": "stream",
     "text": [
      "sklearn.discriminant_analysis.QuadraticDiscriminantAnalysis on 40994 is non-monotonic: False, size: 10\n"
     ]
    },
    {
     "name": "stderr",
     "output_type": "stream",
     "text": [
      "184it [07:06,  2.29s/it]"
     ]
    },
    {
     "name": "stdout",
     "output_type": "stream",
     "text": [
      "sklearn.discriminant_analysis.QuadraticDiscriminantAnalysis on 40996;non-monotonic: True\n"
     ]
    },
    {
     "name": "stderr",
     "output_type": "stream",
     "text": [
      "185it [07:08,  2.37s/it]"
     ]
    },
    {
     "name": "stdout",
     "output_type": "stream",
     "text": [
      "sklearn.discriminant_analysis.QuadraticDiscriminantAnalysis on 41027;non-monotonic: True\n"
     ]
    },
    {
     "name": "stderr",
     "output_type": "stream",
     "text": [
      "186it [07:10,  2.31s/it]"
     ]
    },
    {
     "name": "stdout",
     "output_type": "stream",
     "text": [
      "sklearn.discriminant_analysis.QuadraticDiscriminantAnalysis on 41142;non-monotonic: True\n"
     ]
    },
    {
     "name": "stderr",
     "output_type": "stream",
     "text": [
      "187it [07:13,  2.38s/it]"
     ]
    },
    {
     "name": "stdout",
     "output_type": "stream",
     "text": [
      "sklearn.discriminant_analysis.QuadraticDiscriminantAnalysis on 41144;non-monotonic: True\n"
     ]
    },
    {
     "name": "stderr",
     "output_type": "stream",
     "text": [
      "188it [07:15,  2.41s/it]"
     ]
    },
    {
     "name": "stdout",
     "output_type": "stream",
     "text": [
      "sklearn.discriminant_analysis.QuadraticDiscriminantAnalysis on 41145;non-monotonic: True\n"
     ]
    },
    {
     "name": "stderr",
     "output_type": "stream",
     "text": [
      "189it [07:17,  2.32s/it]"
     ]
    },
    {
     "name": "stdout",
     "output_type": "stream",
     "text": [
      "sklearn.discriminant_analysis.QuadraticDiscriminantAnalysis on 41146;non-monotonic: True\n"
     ]
    },
    {
     "name": "stderr",
     "output_type": "stream",
     "text": [
      "190it [07:20,  2.27s/it]"
     ]
    },
    {
     "name": "stdout",
     "output_type": "stream",
     "text": [
      "sklearn.discriminant_analysis.QuadraticDiscriminantAnalysis on 41150;non-monotonic: True\n"
     ]
    },
    {
     "name": "stderr",
     "output_type": "stream",
     "text": [
      "191it [07:22,  2.34s/it]"
     ]
    },
    {
     "name": "stdout",
     "output_type": "stream",
     "text": [
      "sklearn.discriminant_analysis.QuadraticDiscriminantAnalysis on 41156;non-monotonic: True\n"
     ]
    },
    {
     "name": "stderr",
     "output_type": "stream",
     "text": [
      "192it [07:24,  2.25s/it]"
     ]
    },
    {
     "name": "stdout",
     "output_type": "stream",
     "text": [
      "sklearn.discriminant_analysis.QuadraticDiscriminantAnalysis on 41157;non-monotonic: True\n"
     ]
    },
    {
     "name": "stderr",
     "output_type": "stream",
     "text": [
      "193it [07:27,  2.31s/it]"
     ]
    },
    {
     "name": "stdout",
     "output_type": "stream",
     "text": [
      "sklearn.discriminant_analysis.QuadraticDiscriminantAnalysis on 41158;non-monotonic: True\n"
     ]
    },
    {
     "name": "stderr",
     "output_type": "stream",
     "text": [
      "194it [07:29,  2.29s/it]"
     ]
    },
    {
     "name": "stdout",
     "output_type": "stream",
     "text": [
      "sklearn.discriminant_analysis.QuadraticDiscriminantAnalysis on 41159;non-monotonic: True\n"
     ]
    },
    {
     "name": "stderr",
     "output_type": "stream",
     "text": [
      "195it [07:31,  2.36s/it]"
     ]
    },
    {
     "name": "stdout",
     "output_type": "stream",
     "text": [
      "sklearn.discriminant_analysis.QuadraticDiscriminantAnalysis on 41161;non-monotonic: True\n"
     ]
    },
    {
     "name": "stderr",
     "output_type": "stream",
     "text": [
      "196it [07:33,  2.28s/it]"
     ]
    },
    {
     "name": "stdout",
     "output_type": "stream",
     "text": [
      "sklearn.discriminant_analysis.QuadraticDiscriminantAnalysis on 41163;non-monotonic: True\n"
     ]
    },
    {
     "name": "stderr",
     "output_type": "stream",
     "text": [
      "197it [07:36,  2.35s/it]"
     ]
    },
    {
     "name": "stdout",
     "output_type": "stream",
     "text": [
      "sklearn.discriminant_analysis.QuadraticDiscriminantAnalysis on 41164;non-monotonic: True\n"
     ]
    },
    {
     "name": "stderr",
     "output_type": "stream",
     "text": [
      "198it [07:38,  2.28s/it]"
     ]
    },
    {
     "name": "stdout",
     "output_type": "stream",
     "text": [
      "sklearn.discriminant_analysis.QuadraticDiscriminantAnalysis on 41165;non-monotonic: True\n"
     ]
    },
    {
     "name": "stderr",
     "output_type": "stream",
     "text": [
      "199it [07:40,  2.22s/it]"
     ]
    },
    {
     "name": "stdout",
     "output_type": "stream",
     "text": [
      "sklearn.discriminant_analysis.QuadraticDiscriminantAnalysis on 41166;non-monotonic: True\n"
     ]
    },
    {
     "name": "stderr",
     "output_type": "stream",
     "text": [
      "200it [07:43,  2.31s/it]"
     ]
    },
    {
     "name": "stdout",
     "output_type": "stream",
     "text": [
      "sklearn.discriminant_analysis.QuadraticDiscriminantAnalysis on 41168;non-monotonic: True\n"
     ]
    },
    {
     "name": "stderr",
     "output_type": "stream",
     "text": [
      "201it [07:45,  2.23s/it]"
     ]
    },
    {
     "name": "stdout",
     "output_type": "stream",
     "text": [
      "sklearn.discriminant_analysis.QuadraticDiscriminantAnalysis on 41169 is non-monotonic: False, size: 9\n"
     ]
    },
    {
     "name": "stderr",
     "output_type": "stream",
     "text": [
      "202it [07:47,  2.32s/it]"
     ]
    },
    {
     "name": "stdout",
     "output_type": "stream",
     "text": [
      "sklearn.discriminant_analysis.QuadraticDiscriminantAnalysis on 41228;non-monotonic: True\n"
     ]
    },
    {
     "name": "stderr",
     "output_type": "stream",
     "text": [
      "203it [07:49,  2.26s/it]"
     ]
    },
    {
     "name": "stdout",
     "output_type": "stream",
     "text": [
      "sklearn.discriminant_analysis.QuadraticDiscriminantAnalysis on 41972;non-monotonic: True\n"
     ]
    },
    {
     "name": "stderr",
     "output_type": "stream",
     "text": [
      "204it [07:51,  2.20s/it]"
     ]
    },
    {
     "name": "stdout",
     "output_type": "stream",
     "text": [
      "sklearn.discriminant_analysis.QuadraticDiscriminantAnalysis on 42769;non-monotonic: True\n"
     ]
    },
    {
     "name": "stderr",
     "output_type": "stream",
     "text": [
      "205it [07:54,  2.28s/it]"
     ]
    },
    {
     "name": "stdout",
     "output_type": "stream",
     "text": [
      "sklearn.discriminant_analysis.QuadraticDiscriminantAnalysis on 42809;non-monotonic: True\n"
     ]
    },
    {
     "name": "stderr",
     "output_type": "stream",
     "text": [
      "206it [07:56,  2.31s/it]\n"
     ]
    },
    {
     "name": "stdout",
     "output_type": "stream",
     "text": [
      "sklearn.discriminant_analysis.QuadraticDiscriminantAnalysis on 42810;non-monotonic: True\n"
     ]
    },
    {
     "name": "stderr",
     "output_type": "stream",
     "text": [
      "1it [00:02,  2.13s/it]"
     ]
    },
    {
     "name": "stdout",
     "output_type": "stream",
     "text": [
      "sklearn.linear_model.SGDClassifier on 3;non-monotonic: True\n"
     ]
    },
    {
     "name": "stderr",
     "output_type": "stream",
     "text": [
      "2it [00:04,  2.32s/it]"
     ]
    },
    {
     "name": "stdout",
     "output_type": "stream",
     "text": [
      "sklearn.linear_model.SGDClassifier on 6;non-monotonic: True\n"
     ]
    },
    {
     "name": "stderr",
     "output_type": "stream",
     "text": [
      "3it [00:06,  2.25s/it]"
     ]
    },
    {
     "name": "stdout",
     "output_type": "stream",
     "text": [
      "sklearn.linear_model.SGDClassifier on 11;non-monotonic: True\n"
     ]
    },
    {
     "name": "stderr",
     "output_type": "stream",
     "text": [
      "4it [00:09,  2.35s/it]"
     ]
    },
    {
     "name": "stdout",
     "output_type": "stream",
     "text": [
      "sklearn.linear_model.SGDClassifier on 12;non-monotonic: True\n"
     ]
    },
    {
     "name": "stderr",
     "output_type": "stream",
     "text": [
      "5it [00:11,  2.28s/it]"
     ]
    },
    {
     "name": "stdout",
     "output_type": "stream",
     "text": [
      "sklearn.linear_model.SGDClassifier on 13;non-monotonic: True\n"
     ]
    },
    {
     "name": "stderr",
     "output_type": "stream",
     "text": [
      "6it [00:13,  2.32s/it]"
     ]
    },
    {
     "name": "stdout",
     "output_type": "stream",
     "text": [
      "sklearn.linear_model.SGDClassifier on 14;non-monotonic: True\n"
     ]
    },
    {
     "name": "stderr",
     "output_type": "stream",
     "text": [
      "7it [00:15,  2.27s/it]"
     ]
    },
    {
     "name": "stdout",
     "output_type": "stream",
     "text": [
      "sklearn.linear_model.SGDClassifier on 16 is non-monotonic: False, size: 14\n"
     ]
    },
    {
     "name": "stderr",
     "output_type": "stream",
     "text": [
      "8it [00:18,  2.23s/it]"
     ]
    },
    {
     "name": "stdout",
     "output_type": "stream",
     "text": [
      "sklearn.linear_model.SGDClassifier on 18;non-monotonic: True\n"
     ]
    },
    {
     "name": "stderr",
     "output_type": "stream",
     "text": [
      "9it [00:20,  2.19s/it]"
     ]
    },
    {
     "name": "stdout",
     "output_type": "stream",
     "text": [
      "sklearn.linear_model.SGDClassifier on 21;non-monotonic: True\n"
     ]
    },
    {
     "name": "stderr",
     "output_type": "stream",
     "text": [
      "10it [00:22,  2.27s/it]"
     ]
    },
    {
     "name": "stdout",
     "output_type": "stream",
     "text": [
      "sklearn.linear_model.SGDClassifier on 22;non-monotonic: True\n"
     ]
    },
    {
     "name": "stderr",
     "output_type": "stream",
     "text": [
      "11it [00:24,  2.23s/it]"
     ]
    },
    {
     "name": "stdout",
     "output_type": "stream",
     "text": [
      "sklearn.linear_model.SGDClassifier on 23;non-monotonic: True\n"
     ]
    },
    {
     "name": "stderr",
     "output_type": "stream",
     "text": [
      "12it [00:26,  2.22s/it]"
     ]
    },
    {
     "name": "stdout",
     "output_type": "stream",
     "text": [
      "sklearn.linear_model.SGDClassifier on 24;non-monotonic: True\n"
     ]
    },
    {
     "name": "stderr",
     "output_type": "stream",
     "text": [
      "13it [00:29,  2.27s/it]"
     ]
    },
    {
     "name": "stdout",
     "output_type": "stream",
     "text": [
      "sklearn.linear_model.SGDClassifier on 26;non-monotonic: True\n"
     ]
    },
    {
     "name": "stderr",
     "output_type": "stream",
     "text": [
      "14it [00:31,  2.24s/it]"
     ]
    },
    {
     "name": "stdout",
     "output_type": "stream",
     "text": [
      "sklearn.linear_model.SGDClassifier on 28 is non-monotonic: False, size: 18\n"
     ]
    },
    {
     "name": "stderr",
     "output_type": "stream",
     "text": [
      "15it [00:33,  2.20s/it]"
     ]
    },
    {
     "name": "stdout",
     "output_type": "stream",
     "text": [
      "sklearn.linear_model.SGDClassifier on 30;non-monotonic: True\n"
     ]
    },
    {
     "name": "stderr",
     "output_type": "stream",
     "text": [
      "16it [00:36,  2.29s/it]"
     ]
    },
    {
     "name": "stdout",
     "output_type": "stream",
     "text": [
      "sklearn.linear_model.SGDClassifier on 31;non-monotonic: True\n"
     ]
    },
    {
     "name": "stderr",
     "output_type": "stream",
     "text": [
      "17it [00:38,  2.29s/it]"
     ]
    },
    {
     "name": "stdout",
     "output_type": "stream",
     "text": [
      "sklearn.linear_model.SGDClassifier on 32;non-monotonic: True\n"
     ]
    },
    {
     "name": "stderr",
     "output_type": "stream",
     "text": [
      "18it [00:40,  2.36s/it]"
     ]
    },
    {
     "name": "stdout",
     "output_type": "stream",
     "text": [
      "sklearn.linear_model.SGDClassifier on 36;non-monotonic: True\n"
     ]
    },
    {
     "name": "stderr",
     "output_type": "stream",
     "text": [
      "19it [00:43,  2.32s/it]"
     ]
    },
    {
     "name": "stdout",
     "output_type": "stream",
     "text": [
      "sklearn.linear_model.SGDClassifier on 38;non-monotonic: True\n"
     ]
    },
    {
     "name": "stderr",
     "output_type": "stream",
     "text": [
      "20it [00:45,  2.27s/it]"
     ]
    },
    {
     "name": "stdout",
     "output_type": "stream",
     "text": [
      "sklearn.linear_model.SGDClassifier on 44;non-monotonic: True\n"
     ]
    },
    {
     "name": "stderr",
     "output_type": "stream",
     "text": [
      "21it [00:47,  2.34s/it]"
     ]
    },
    {
     "name": "stdout",
     "output_type": "stream",
     "text": [
      "sklearn.linear_model.SGDClassifier on 46;non-monotonic: True\n"
     ]
    },
    {
     "name": "stderr",
     "output_type": "stream",
     "text": [
      "22it [00:50,  2.35s/it]"
     ]
    },
    {
     "name": "stdout",
     "output_type": "stream",
     "text": [
      "sklearn.linear_model.SGDClassifier on 54;non-monotonic: True\n"
     ]
    },
    {
     "name": "stderr",
     "output_type": "stream",
     "text": [
      "23it [00:52,  2.30s/it]"
     ]
    },
    {
     "name": "stdout",
     "output_type": "stream",
     "text": [
      "sklearn.linear_model.SGDClassifier on 55;non-monotonic: True\n"
     ]
    },
    {
     "name": "stderr",
     "output_type": "stream",
     "text": [
      "24it [00:54,  2.35s/it]"
     ]
    },
    {
     "name": "stdout",
     "output_type": "stream",
     "text": [
      "sklearn.linear_model.SGDClassifier on 57;non-monotonic: True\n"
     ]
    },
    {
     "name": "stderr",
     "output_type": "stream",
     "text": [
      "25it [00:57,  2.30s/it]"
     ]
    },
    {
     "name": "stdout",
     "output_type": "stream",
     "text": [
      "sklearn.linear_model.SGDClassifier on 60;non-monotonic: True\n"
     ]
    },
    {
     "name": "stderr",
     "output_type": "stream",
     "text": [
      "26it [00:59,  2.33s/it]"
     ]
    },
    {
     "name": "stdout",
     "output_type": "stream",
     "text": [
      "sklearn.linear_model.SGDClassifier on 61;non-monotonic: True\n"
     ]
    },
    {
     "name": "stderr",
     "output_type": "stream",
     "text": [
      "27it [01:01,  2.27s/it]"
     ]
    },
    {
     "name": "stdout",
     "output_type": "stream",
     "text": [
      "sklearn.linear_model.SGDClassifier on 179;non-monotonic: True\n"
     ]
    },
    {
     "name": "stderr",
     "output_type": "stream",
     "text": [
      "28it [01:04,  2.34s/it]"
     ]
    },
    {
     "name": "stdout",
     "output_type": "stream",
     "text": [
      "sklearn.linear_model.SGDClassifier on 180;non-monotonic: True\n"
     ]
    },
    {
     "name": "stderr",
     "output_type": "stream",
     "text": [
      "29it [01:06,  2.28s/it]"
     ]
    },
    {
     "name": "stdout",
     "output_type": "stream",
     "text": [
      "sklearn.linear_model.SGDClassifier on 181;non-monotonic: True\n"
     ]
    },
    {
     "name": "stderr",
     "output_type": "stream",
     "text": [
      "30it [01:08,  2.32s/it]"
     ]
    },
    {
     "name": "stdout",
     "output_type": "stream",
     "text": [
      "sklearn.linear_model.SGDClassifier on 182;non-monotonic: True\n"
     ]
    },
    {
     "name": "stderr",
     "output_type": "stream",
     "text": [
      "31it [01:10,  2.28s/it]"
     ]
    },
    {
     "name": "stdout",
     "output_type": "stream",
     "text": [
      "sklearn.linear_model.SGDClassifier on 184;non-monotonic: True\n"
     ]
    },
    {
     "name": "stderr",
     "output_type": "stream",
     "text": [
      "32it [01:13,  2.33s/it]"
     ]
    },
    {
     "name": "stdout",
     "output_type": "stream",
     "text": [
      "sklearn.linear_model.SGDClassifier on 185;non-monotonic: True\n"
     ]
    },
    {
     "name": "stderr",
     "output_type": "stream",
     "text": [
      "33it [01:15,  2.37s/it]"
     ]
    },
    {
     "name": "stdout",
     "output_type": "stream",
     "text": [
      "sklearn.linear_model.SGDClassifier on 188;non-monotonic: True\n"
     ]
    },
    {
     "name": "stderr",
     "output_type": "stream",
     "text": [
      "34it [01:17,  2.32s/it]"
     ]
    },
    {
     "name": "stdout",
     "output_type": "stream",
     "text": [
      "sklearn.linear_model.SGDClassifier on 201;non-monotonic: True\n"
     ]
    },
    {
     "name": "stderr",
     "output_type": "stream",
     "text": [
      "35it [01:20,  2.40s/it]"
     ]
    },
    {
     "name": "stdout",
     "output_type": "stream",
     "text": [
      "sklearn.linear_model.SGDClassifier on 273;non-monotonic: True\n"
     ]
    },
    {
     "name": "stderr",
     "output_type": "stream",
     "text": [
      "36it [01:23,  2.46s/it]"
     ]
    },
    {
     "name": "stdout",
     "output_type": "stream",
     "text": [
      "sklearn.linear_model.SGDClassifier on 293;non-monotonic: True\n"
     ]
    },
    {
     "name": "stderr",
     "output_type": "stream",
     "text": [
      "37it [01:25,  2.50s/it]"
     ]
    },
    {
     "name": "stdout",
     "output_type": "stream",
     "text": [
      "sklearn.linear_model.SGDClassifier on 299;non-monotonic: True\n"
     ]
    },
    {
     "name": "stderr",
     "output_type": "stream",
     "text": [
      "38it [01:28,  2.47s/it]"
     ]
    },
    {
     "name": "stdout",
     "output_type": "stream",
     "text": [
      "sklearn.linear_model.SGDClassifier on 300 is non-monotonic: False, size: 18\n"
     ]
    },
    {
     "name": "stderr",
     "output_type": "stream",
     "text": [
      "39it [01:30,  2.51s/it]"
     ]
    },
    {
     "name": "stdout",
     "output_type": "stream",
     "text": [
      "sklearn.linear_model.SGDClassifier on 336;non-monotonic: True\n"
     ]
    },
    {
     "name": "stderr",
     "output_type": "stream",
     "text": [
      "40it [01:32,  2.41s/it]"
     ]
    },
    {
     "name": "stdout",
     "output_type": "stream",
     "text": [
      "sklearn.linear_model.SGDClassifier on 346 is non-monotonic: False, size: 4\n"
     ]
    },
    {
     "name": "stderr",
     "output_type": "stream",
     "text": [
      "41it [01:35,  2.36s/it]"
     ]
    },
    {
     "name": "stdout",
     "output_type": "stream",
     "text": [
      "sklearn.linear_model.SGDClassifier on 351;non-monotonic: True\n"
     ]
    },
    {
     "name": "stderr",
     "output_type": "stream",
     "text": [
      "42it [01:37,  2.41s/it]"
     ]
    },
    {
     "name": "stdout",
     "output_type": "stream",
     "text": [
      "sklearn.linear_model.SGDClassifier on 354;non-monotonic: True\n"
     ]
    },
    {
     "name": "stderr",
     "output_type": "stream",
     "text": [
      "43it [01:39,  2.34s/it]"
     ]
    },
    {
     "name": "stdout",
     "output_type": "stream",
     "text": [
      "sklearn.linear_model.SGDClassifier on 357;non-monotonic: True\n"
     ]
    },
    {
     "name": "stderr",
     "output_type": "stream",
     "text": [
      "44it [01:41,  2.26s/it]"
     ]
    },
    {
     "name": "stdout",
     "output_type": "stream",
     "text": [
      "sklearn.linear_model.SGDClassifier on 380 is non-monotonic: False, size: 4\n"
     ]
    },
    {
     "name": "stderr",
     "output_type": "stream",
     "text": [
      "45it [01:44,  2.36s/it]"
     ]
    },
    {
     "name": "stdout",
     "output_type": "stream",
     "text": [
      "sklearn.linear_model.SGDClassifier on 389;non-monotonic: True\n"
     ]
    },
    {
     "name": "stderr",
     "output_type": "stream",
     "text": [
      "46it [01:46,  2.29s/it]"
     ]
    },
    {
     "name": "stdout",
     "output_type": "stream",
     "text": [
      "sklearn.linear_model.SGDClassifier on 390 is non-monotonic: False, size: 18\n"
     ]
    },
    {
     "name": "stderr",
     "output_type": "stream",
     "text": [
      "47it [01:49,  2.36s/it]"
     ]
    },
    {
     "name": "stdout",
     "output_type": "stream",
     "text": [
      "sklearn.linear_model.SGDClassifier on 391 is non-monotonic: False, size: 14\n"
     ]
    },
    {
     "name": "stderr",
     "output_type": "stream",
     "text": [
      "48it [01:51,  2.28s/it]"
     ]
    },
    {
     "name": "stdout",
     "output_type": "stream",
     "text": [
      "sklearn.linear_model.SGDClassifier on 392;non-monotonic: True\n"
     ]
    },
    {
     "name": "stderr",
     "output_type": "stream",
     "text": [
      "49it [01:53,  2.25s/it]"
     ]
    },
    {
     "name": "stdout",
     "output_type": "stream",
     "text": [
      "sklearn.linear_model.SGDClassifier on 393 is non-monotonic: False, size: 16\n"
     ]
    },
    {
     "name": "stderr",
     "output_type": "stream",
     "text": [
      "50it [01:56,  2.35s/it]"
     ]
    },
    {
     "name": "stdout",
     "output_type": "stream",
     "text": [
      "sklearn.linear_model.SGDClassifier on 395 is non-monotonic: False, size: 14\n"
     ]
    },
    {
     "name": "stderr",
     "output_type": "stream",
     "text": [
      "51it [01:58,  2.30s/it]"
     ]
    },
    {
     "name": "stdout",
     "output_type": "stream",
     "text": [
      "sklearn.linear_model.SGDClassifier on 396;non-monotonic: True\n"
     ]
    },
    {
     "name": "stderr",
     "output_type": "stream",
     "text": [
      "52it [02:00,  2.26s/it]"
     ]
    },
    {
     "name": "stdout",
     "output_type": "stream",
     "text": [
      "sklearn.linear_model.SGDClassifier on 398 is non-monotonic: False, size: 14\n"
     ]
    },
    {
     "name": "stderr",
     "output_type": "stream",
     "text": [
      "53it [02:02,  2.31s/it]"
     ]
    },
    {
     "name": "stdout",
     "output_type": "stream",
     "text": [
      "sklearn.linear_model.SGDClassifier on 399 is non-monotonic: False, size: 20\n"
     ]
    },
    {
     "name": "stderr",
     "output_type": "stream",
     "text": [
      "54it [02:05,  2.40s/it]"
     ]
    },
    {
     "name": "stdout",
     "output_type": "stream",
     "text": [
      "sklearn.linear_model.SGDClassifier on 401 is non-monotonic: False, size: 12\n"
     ]
    },
    {
     "name": "stderr",
     "output_type": "stream",
     "text": [
      "55it [02:07,  2.32s/it]"
     ]
    },
    {
     "name": "stdout",
     "output_type": "stream",
     "text": [
      "sklearn.linear_model.SGDClassifier on 446 is non-monotonic: False, size: 8\n"
     ]
    },
    {
     "name": "stderr",
     "output_type": "stream",
     "text": [
      "56it [02:10,  2.63s/it]"
     ]
    },
    {
     "name": "stdout",
     "output_type": "stream",
     "text": [
      "sklearn.linear_model.SGDClassifier on 554;non-monotonic: True\n"
     ]
    },
    {
     "name": "stderr",
     "output_type": "stream",
     "text": [
      "57it [02:14,  2.82s/it]"
     ]
    },
    {
     "name": "stdout",
     "output_type": "stream",
     "text": [
      "sklearn.linear_model.SGDClassifier on 679;non-monotonic: True\n"
     ]
    },
    {
     "name": "stderr",
     "output_type": "stream",
     "text": [
      "58it [02:16,  2.68s/it]"
     ]
    },
    {
     "name": "stdout",
     "output_type": "stream",
     "text": [
      "sklearn.linear_model.SGDClassifier on 715;non-monotonic: True\n"
     ]
    },
    {
     "name": "stderr",
     "output_type": "stream",
     "text": [
      "59it [02:19,  2.70s/it]"
     ]
    },
    {
     "name": "stdout",
     "output_type": "stream",
     "text": [
      "sklearn.linear_model.SGDClassifier on 718;non-monotonic: True\n"
     ]
    },
    {
     "name": "stderr",
     "output_type": "stream",
     "text": [
      "60it [02:21,  2.63s/it]"
     ]
    },
    {
     "name": "stdout",
     "output_type": "stream",
     "text": [
      "sklearn.linear_model.SGDClassifier on 720;non-monotonic: True\n"
     ]
    },
    {
     "name": "stderr",
     "output_type": "stream",
     "text": [
      "61it [02:24,  2.60s/it]"
     ]
    },
    {
     "name": "stdout",
     "output_type": "stream",
     "text": [
      "sklearn.linear_model.SGDClassifier on 722;non-monotonic: True\n"
     ]
    },
    {
     "name": "stderr",
     "output_type": "stream",
     "text": [
      "62it [02:27,  2.84s/it]"
     ]
    },
    {
     "name": "stdout",
     "output_type": "stream",
     "text": [
      "sklearn.linear_model.SGDClassifier on 723;non-monotonic: True\n"
     ]
    },
    {
     "name": "stderr",
     "output_type": "stream",
     "text": [
      "63it [02:30,  2.75s/it]"
     ]
    },
    {
     "name": "stdout",
     "output_type": "stream",
     "text": [
      "sklearn.linear_model.SGDClassifier on 727;non-monotonic: True\n"
     ]
    },
    {
     "name": "stderr",
     "output_type": "stream",
     "text": [
      "64it [02:33,  2.79s/it]"
     ]
    },
    {
     "name": "stdout",
     "output_type": "stream",
     "text": [
      "sklearn.linear_model.SGDClassifier on 728;non-monotonic: True\n"
     ]
    },
    {
     "name": "stderr",
     "output_type": "stream",
     "text": [
      "65it [02:35,  2.66s/it]"
     ]
    },
    {
     "name": "stdout",
     "output_type": "stream",
     "text": [
      "sklearn.linear_model.SGDClassifier on 734;non-monotonic: True\n"
     ]
    },
    {
     "name": "stderr",
     "output_type": "stream",
     "text": [
      "66it [02:38,  2.71s/it]"
     ]
    },
    {
     "name": "stdout",
     "output_type": "stream",
     "text": [
      "sklearn.linear_model.SGDClassifier on 735;non-monotonic: True\n"
     ]
    },
    {
     "name": "stderr",
     "output_type": "stream",
     "text": [
      "67it [02:40,  2.63s/it]"
     ]
    },
    {
     "name": "stdout",
     "output_type": "stream",
     "text": [
      "sklearn.linear_model.SGDClassifier on 737;non-monotonic: True\n"
     ]
    },
    {
     "name": "stderr",
     "output_type": "stream",
     "text": [
      "68it [02:43,  2.68s/it]"
     ]
    },
    {
     "name": "stdout",
     "output_type": "stream",
     "text": [
      "sklearn.linear_model.SGDClassifier on 740;non-monotonic: True\n"
     ]
    },
    {
     "name": "stderr",
     "output_type": "stream",
     "text": [
      "69it [02:45,  2.59s/it]"
     ]
    },
    {
     "name": "stdout",
     "output_type": "stream",
     "text": [
      "sklearn.linear_model.SGDClassifier on 741;non-monotonic: True\n"
     ]
    },
    {
     "name": "stderr",
     "output_type": "stream",
     "text": [
      "70it [02:48,  2.58s/it]"
     ]
    },
    {
     "name": "stdout",
     "output_type": "stream",
     "text": [
      "sklearn.linear_model.SGDClassifier on 743;non-monotonic: True\n"
     ]
    },
    {
     "name": "stderr",
     "output_type": "stream",
     "text": [
      "71it [02:51,  2.73s/it]"
     ]
    },
    {
     "name": "stdout",
     "output_type": "stream",
     "text": [
      "sklearn.linear_model.SGDClassifier on 751;non-monotonic: True\n"
     ]
    },
    {
     "name": "stderr",
     "output_type": "stream",
     "text": [
      "72it [02:54,  2.75s/it]"
     ]
    },
    {
     "name": "stdout",
     "output_type": "stream",
     "text": [
      "sklearn.linear_model.SGDClassifier on 752;non-monotonic: True\n"
     ]
    },
    {
     "name": "stderr",
     "output_type": "stream",
     "text": [
      "73it [02:57,  2.82s/it]"
     ]
    },
    {
     "name": "stdout",
     "output_type": "stream",
     "text": [
      "sklearn.linear_model.SGDClassifier on 761;non-monotonic: True\n"
     ]
    },
    {
     "name": "stderr",
     "output_type": "stream",
     "text": [
      "74it [02:59,  2.73s/it]"
     ]
    },
    {
     "name": "stdout",
     "output_type": "stream",
     "text": [
      "sklearn.linear_model.SGDClassifier on 772;non-monotonic: True\n"
     ]
    },
    {
     "name": "stderr",
     "output_type": "stream",
     "text": [
      "75it [03:02,  2.79s/it]"
     ]
    },
    {
     "name": "stdout",
     "output_type": "stream",
     "text": [
      "sklearn.linear_model.SGDClassifier on 797;non-monotonic: True\n"
     ]
    },
    {
     "name": "stderr",
     "output_type": "stream",
     "text": [
      "76it [03:05,  2.84s/it]"
     ]
    },
    {
     "name": "stdout",
     "output_type": "stream",
     "text": [
      "sklearn.linear_model.SGDClassifier on 799;non-monotonic: True\n"
     ]
    },
    {
     "name": "stderr",
     "output_type": "stream",
     "text": [
      "77it [03:08,  2.93s/it]"
     ]
    },
    {
     "name": "stdout",
     "output_type": "stream",
     "text": [
      "sklearn.linear_model.SGDClassifier on 803;non-monotonic: True\n"
     ]
    },
    {
     "name": "stderr",
     "output_type": "stream",
     "text": [
      "78it [03:12,  3.02s/it]"
     ]
    },
    {
     "name": "stdout",
     "output_type": "stream",
     "text": [
      "sklearn.linear_model.SGDClassifier on 806;non-monotonic: True\n"
     ]
    },
    {
     "name": "stderr",
     "output_type": "stream",
     "text": [
      "79it [03:14,  2.87s/it]"
     ]
    },
    {
     "name": "stdout",
     "output_type": "stream",
     "text": [
      "sklearn.linear_model.SGDClassifier on 807;non-monotonic: True\n"
     ]
    },
    {
     "name": "stderr",
     "output_type": "stream",
     "text": [
      "80it [03:17,  2.98s/it]"
     ]
    },
    {
     "name": "stdout",
     "output_type": "stream",
     "text": [
      "sklearn.linear_model.SGDClassifier on 813;non-monotonic: True\n"
     ]
    },
    {
     "name": "stderr",
     "output_type": "stream",
     "text": [
      "81it [03:20,  2.85s/it]"
     ]
    },
    {
     "name": "stdout",
     "output_type": "stream",
     "text": [
      "sklearn.linear_model.SGDClassifier on 816;non-monotonic: True\n"
     ]
    },
    {
     "name": "stderr",
     "output_type": "stream",
     "text": [
      "82it [03:23,  2.92s/it]"
     ]
    },
    {
     "name": "stdout",
     "output_type": "stream",
     "text": [
      "sklearn.linear_model.SGDClassifier on 819;non-monotonic: True\n"
     ]
    },
    {
     "name": "stderr",
     "output_type": "stream",
     "text": [
      "83it [03:26,  2.92s/it]"
     ]
    },
    {
     "name": "stdout",
     "output_type": "stream",
     "text": [
      "sklearn.linear_model.SGDClassifier on 821;non-monotonic: True\n"
     ]
    },
    {
     "name": "stderr",
     "output_type": "stream",
     "text": [
      "84it [03:29,  2.95s/it]"
     ]
    },
    {
     "name": "stdout",
     "output_type": "stream",
     "text": [
      "sklearn.linear_model.SGDClassifier on 822;non-monotonic: True\n"
     ]
    },
    {
     "name": "stderr",
     "output_type": "stream",
     "text": [
      "85it [03:31,  2.77s/it]"
     ]
    },
    {
     "name": "stdout",
     "output_type": "stream",
     "text": [
      "sklearn.linear_model.SGDClassifier on 823;non-monotonic: True\n"
     ]
    },
    {
     "name": "stderr",
     "output_type": "stream",
     "text": [
      "86it [03:34,  2.68s/it]"
     ]
    },
    {
     "name": "stdout",
     "output_type": "stream",
     "text": [
      "sklearn.linear_model.SGDClassifier on 833;non-monotonic: True\n"
     ]
    },
    {
     "name": "stderr",
     "output_type": "stream",
     "text": [
      "87it [03:38,  3.08s/it]"
     ]
    },
    {
     "name": "stdout",
     "output_type": "stream",
     "text": [
      "sklearn.linear_model.SGDClassifier on 837;non-monotonic: True\n"
     ]
    },
    {
     "name": "stderr",
     "output_type": "stream",
     "text": [
      "88it [03:41,  3.10s/it]"
     ]
    },
    {
     "name": "stdout",
     "output_type": "stream",
     "text": [
      "sklearn.linear_model.SGDClassifier on 843;non-monotonic: True\n"
     ]
    },
    {
     "name": "stderr",
     "output_type": "stream",
     "text": [
      "89it [03:44,  3.03s/it]"
     ]
    },
    {
     "name": "stdout",
     "output_type": "stream",
     "text": [
      "sklearn.linear_model.SGDClassifier on 845;non-monotonic: True\n"
     ]
    },
    {
     "name": "stderr",
     "output_type": "stream",
     "text": [
      "90it [03:46,  2.84s/it]"
     ]
    },
    {
     "name": "stdout",
     "output_type": "stream",
     "text": [
      "sklearn.linear_model.SGDClassifier on 846;non-monotonic: True\n"
     ]
    },
    {
     "name": "stderr",
     "output_type": "stream",
     "text": [
      "91it [03:49,  2.86s/it]"
     ]
    },
    {
     "name": "stdout",
     "output_type": "stream",
     "text": [
      "sklearn.linear_model.SGDClassifier on 847;non-monotonic: True\n"
     ]
    },
    {
     "name": "stderr",
     "output_type": "stream",
     "text": [
      "92it [03:52,  2.79s/it]"
     ]
    },
    {
     "name": "stdout",
     "output_type": "stream",
     "text": [
      "sklearn.linear_model.SGDClassifier on 849;non-monotonic: True\n"
     ]
    },
    {
     "name": "stderr",
     "output_type": "stream",
     "text": [
      "93it [03:55,  2.99s/it]"
     ]
    },
    {
     "name": "stdout",
     "output_type": "stream",
     "text": [
      "sklearn.linear_model.SGDClassifier on 866;non-monotonic: True\n"
     ]
    },
    {
     "name": "stderr",
     "output_type": "stream",
     "text": [
      "94it [03:59,  3.18s/it]"
     ]
    },
    {
     "name": "stdout",
     "output_type": "stream",
     "text": [
      "sklearn.linear_model.SGDClassifier on 871;non-monotonic: True\n"
     ]
    },
    {
     "name": "stderr",
     "output_type": "stream",
     "text": [
      "95it [04:02,  3.22s/it]"
     ]
    },
    {
     "name": "stdout",
     "output_type": "stream",
     "text": [
      "sklearn.linear_model.SGDClassifier on 881;non-monotonic: True\n"
     ]
    },
    {
     "name": "stderr",
     "output_type": "stream",
     "text": [
      "96it [04:05,  3.15s/it]"
     ]
    },
    {
     "name": "stdout",
     "output_type": "stream",
     "text": [
      "sklearn.linear_model.SGDClassifier on 897;non-monotonic: True\n"
     ]
    },
    {
     "name": "stderr",
     "output_type": "stream",
     "text": [
      "97it [04:08,  3.10s/it]"
     ]
    },
    {
     "name": "stdout",
     "output_type": "stream",
     "text": [
      "sklearn.linear_model.SGDClassifier on 901;non-monotonic: True\n"
     ]
    },
    {
     "name": "stderr",
     "output_type": "stream",
     "text": [
      "98it [04:11,  3.12s/it]"
     ]
    },
    {
     "name": "stdout",
     "output_type": "stream",
     "text": [
      "sklearn.linear_model.SGDClassifier on 903;non-monotonic: True\n"
     ]
    },
    {
     "name": "stderr",
     "output_type": "stream",
     "text": [
      "99it [04:14,  2.99s/it]"
     ]
    },
    {
     "name": "stdout",
     "output_type": "stream",
     "text": [
      "sklearn.linear_model.SGDClassifier on 904;non-monotonic: True\n"
     ]
    },
    {
     "name": "stderr",
     "output_type": "stream",
     "text": [
      "100it [04:17,  3.11s/it]"
     ]
    },
    {
     "name": "stdout",
     "output_type": "stream",
     "text": [
      "sklearn.linear_model.SGDClassifier on 910;non-monotonic: True\n"
     ]
    },
    {
     "name": "stderr",
     "output_type": "stream",
     "text": [
      "101it [04:20,  2.97s/it]"
     ]
    },
    {
     "name": "stdout",
     "output_type": "stream",
     "text": [
      "sklearn.linear_model.SGDClassifier on 912;non-monotonic: True\n"
     ]
    },
    {
     "name": "stderr",
     "output_type": "stream",
     "text": [
      "102it [04:23,  2.96s/it]"
     ]
    },
    {
     "name": "stdout",
     "output_type": "stream",
     "text": [
      "sklearn.linear_model.SGDClassifier on 913;non-monotonic: True\n"
     ]
    },
    {
     "name": "stderr",
     "output_type": "stream",
     "text": [
      "103it [04:26,  2.95s/it]"
     ]
    },
    {
     "name": "stdout",
     "output_type": "stream",
     "text": [
      "sklearn.linear_model.SGDClassifier on 914;non-monotonic: True\n"
     ]
    },
    {
     "name": "stderr",
     "output_type": "stream",
     "text": [
      "104it [04:29,  3.01s/it]"
     ]
    },
    {
     "name": "stdout",
     "output_type": "stream",
     "text": [
      "sklearn.linear_model.SGDClassifier on 917;non-monotonic: True\n"
     ]
    },
    {
     "name": "stderr",
     "output_type": "stream",
     "text": [
      "105it [04:32,  2.95s/it]"
     ]
    },
    {
     "name": "stdout",
     "output_type": "stream",
     "text": [
      "sklearn.linear_model.SGDClassifier on 923;non-monotonic: True\n"
     ]
    },
    {
     "name": "stderr",
     "output_type": "stream",
     "text": [
      "106it [04:35,  2.97s/it]"
     ]
    },
    {
     "name": "stdout",
     "output_type": "stream",
     "text": [
      "sklearn.linear_model.SGDClassifier on 930;non-monotonic: True\n"
     ]
    },
    {
     "name": "stderr",
     "output_type": "stream",
     "text": [
      "107it [04:37,  2.86s/it]"
     ]
    },
    {
     "name": "stdout",
     "output_type": "stream",
     "text": [
      "sklearn.linear_model.SGDClassifier on 934;non-monotonic: True\n"
     ]
    },
    {
     "name": "stderr",
     "output_type": "stream",
     "text": [
      "108it [04:41,  2.96s/it]"
     ]
    },
    {
     "name": "stdout",
     "output_type": "stream",
     "text": [
      "sklearn.linear_model.SGDClassifier on 953;non-monotonic: True\n"
     ]
    },
    {
     "name": "stderr",
     "output_type": "stream",
     "text": [
      "109it [04:43,  2.81s/it]"
     ]
    },
    {
     "name": "stdout",
     "output_type": "stream",
     "text": [
      "sklearn.linear_model.SGDClassifier on 958;non-monotonic: True\n"
     ]
    },
    {
     "name": "stderr",
     "output_type": "stream",
     "text": [
      "110it [04:47,  3.04s/it]"
     ]
    },
    {
     "name": "stdout",
     "output_type": "stream",
     "text": [
      "sklearn.linear_model.SGDClassifier on 959;non-monotonic: True\n"
     ]
    },
    {
     "name": "stderr",
     "output_type": "stream",
     "text": [
      "111it [04:49,  2.91s/it]"
     ]
    },
    {
     "name": "stdout",
     "output_type": "stream",
     "text": [
      "sklearn.linear_model.SGDClassifier on 962;non-monotonic: True\n"
     ]
    },
    {
     "name": "stderr",
     "output_type": "stream",
     "text": [
      "112it [04:52,  2.93s/it]"
     ]
    },
    {
     "name": "stdout",
     "output_type": "stream",
     "text": [
      "sklearn.linear_model.SGDClassifier on 966;non-monotonic: True\n"
     ]
    },
    {
     "name": "stderr",
     "output_type": "stream",
     "text": [
      "113it [04:55,  2.84s/it]"
     ]
    },
    {
     "name": "stdout",
     "output_type": "stream",
     "text": [
      "sklearn.linear_model.SGDClassifier on 971;non-monotonic: True\n"
     ]
    },
    {
     "name": "stderr",
     "output_type": "stream",
     "text": [
      "114it [04:58,  2.84s/it]"
     ]
    },
    {
     "name": "stdout",
     "output_type": "stream",
     "text": [
      "sklearn.linear_model.SGDClassifier on 976;non-monotonic: True\n"
     ]
    },
    {
     "name": "stderr",
     "output_type": "stream",
     "text": [
      "115it [05:00,  2.79s/it]"
     ]
    },
    {
     "name": "stdout",
     "output_type": "stream",
     "text": [
      "sklearn.linear_model.SGDClassifier on 977;non-monotonic: True\n"
     ]
    },
    {
     "name": "stderr",
     "output_type": "stream",
     "text": [
      "116it [05:04,  2.93s/it]"
     ]
    },
    {
     "name": "stdout",
     "output_type": "stream",
     "text": [
      "sklearn.linear_model.SGDClassifier on 978;non-monotonic: True\n"
     ]
    },
    {
     "name": "stderr",
     "output_type": "stream",
     "text": [
      "117it [05:07,  2.94s/it]"
     ]
    },
    {
     "name": "stdout",
     "output_type": "stream",
     "text": [
      "sklearn.linear_model.SGDClassifier on 979;non-monotonic: True\n"
     ]
    },
    {
     "name": "stderr",
     "output_type": "stream",
     "text": [
      "118it [05:10,  3.18s/it]"
     ]
    },
    {
     "name": "stdout",
     "output_type": "stream",
     "text": [
      "sklearn.linear_model.SGDClassifier on 980;non-monotonic: True\n"
     ]
    },
    {
     "name": "stderr",
     "output_type": "stream",
     "text": [
      "119it [05:13,  3.06s/it]"
     ]
    },
    {
     "name": "stdout",
     "output_type": "stream",
     "text": [
      "sklearn.linear_model.SGDClassifier on 991;non-monotonic: True\n"
     ]
    },
    {
     "name": "stderr",
     "output_type": "stream",
     "text": [
      "120it [05:16,  3.05s/it]"
     ]
    },
    {
     "name": "stdout",
     "output_type": "stream",
     "text": [
      "sklearn.linear_model.SGDClassifier on 993;non-monotonic: True\n"
     ]
    },
    {
     "name": "stderr",
     "output_type": "stream",
     "text": [
      "121it [05:19,  2.87s/it]"
     ]
    },
    {
     "name": "stdout",
     "output_type": "stream",
     "text": [
      "sklearn.linear_model.SGDClassifier on 995;non-monotonic: True\n"
     ]
    },
    {
     "name": "stderr",
     "output_type": "stream",
     "text": [
      "122it [05:21,  2.83s/it]"
     ]
    },
    {
     "name": "stdout",
     "output_type": "stream",
     "text": [
      "sklearn.linear_model.SGDClassifier on 1000;non-monotonic: True\n"
     ]
    },
    {
     "name": "stderr",
     "output_type": "stream",
     "text": [
      "123it [05:24,  2.72s/it]"
     ]
    },
    {
     "name": "stdout",
     "output_type": "stream",
     "text": [
      "sklearn.linear_model.SGDClassifier on 1002;non-monotonic: True\n"
     ]
    },
    {
     "name": "stderr",
     "output_type": "stream",
     "text": [
      "124it [05:27,  2.84s/it]"
     ]
    },
    {
     "name": "stdout",
     "output_type": "stream",
     "text": [
      "sklearn.linear_model.SGDClassifier on 1018;non-monotonic: True\n"
     ]
    },
    {
     "name": "stderr",
     "output_type": "stream",
     "text": [
      "125it [05:30,  2.87s/it]"
     ]
    },
    {
     "name": "stdout",
     "output_type": "stream",
     "text": [
      "sklearn.linear_model.SGDClassifier on 1019;non-monotonic: True\n"
     ]
    },
    {
     "name": "stderr",
     "output_type": "stream",
     "text": [
      "126it [05:33,  2.92s/it]"
     ]
    },
    {
     "name": "stdout",
     "output_type": "stream",
     "text": [
      "sklearn.linear_model.SGDClassifier on 1020;non-monotonic: True\n"
     ]
    },
    {
     "name": "stderr",
     "output_type": "stream",
     "text": [
      "127it [05:35,  2.81s/it]"
     ]
    },
    {
     "name": "stdout",
     "output_type": "stream",
     "text": [
      "sklearn.linear_model.SGDClassifier on 1021;non-monotonic: True\n"
     ]
    },
    {
     "name": "stderr",
     "output_type": "stream",
     "text": [
      "128it [05:38,  2.87s/it]"
     ]
    },
    {
     "name": "stdout",
     "output_type": "stream",
     "text": [
      "sklearn.linear_model.SGDClassifier on 1036;non-monotonic: True\n"
     ]
    },
    {
     "name": "stderr",
     "output_type": "stream",
     "text": [
      "129it [05:41,  2.81s/it]"
     ]
    },
    {
     "name": "stdout",
     "output_type": "stream",
     "text": [
      "sklearn.linear_model.SGDClassifier on 1040;non-monotonic: True\n"
     ]
    },
    {
     "name": "stderr",
     "output_type": "stream",
     "text": [
      "130it [05:44,  2.80s/it]"
     ]
    },
    {
     "name": "stdout",
     "output_type": "stream",
     "text": [
      "sklearn.linear_model.SGDClassifier on 1041 is non-monotonic: False, size: 16\n"
     ]
    },
    {
     "name": "stderr",
     "output_type": "stream",
     "text": [
      "131it [05:47,  2.76s/it]"
     ]
    },
    {
     "name": "stdout",
     "output_type": "stream",
     "text": [
      "sklearn.linear_model.SGDClassifier on 1042;non-monotonic: True\n"
     ]
    },
    {
     "name": "stderr",
     "output_type": "stream",
     "text": [
      "132it [05:50,  2.88s/it]"
     ]
    },
    {
     "name": "stdout",
     "output_type": "stream",
     "text": [
      "sklearn.linear_model.SGDClassifier on 1049;non-monotonic: True\n"
     ]
    },
    {
     "name": "stderr",
     "output_type": "stream",
     "text": [
      "133it [05:54,  3.19s/it]"
     ]
    },
    {
     "name": "stdout",
     "output_type": "stream",
     "text": [
      "sklearn.linear_model.SGDClassifier on 1050;non-monotonic: True\n"
     ]
    },
    {
     "name": "stderr",
     "output_type": "stream",
     "text": [
      "134it [05:57,  3.31s/it]"
     ]
    },
    {
     "name": "stdout",
     "output_type": "stream",
     "text": [
      "sklearn.linear_model.SGDClassifier on 1053;non-monotonic: True\n"
     ]
    },
    {
     "name": "stderr",
     "output_type": "stream",
     "text": [
      "135it [06:01,  3.38s/it]"
     ]
    },
    {
     "name": "stdout",
     "output_type": "stream",
     "text": [
      "sklearn.linear_model.SGDClassifier on 1056;non-monotonic: True\n"
     ]
    },
    {
     "name": "stderr",
     "output_type": "stream",
     "text": [
      "136it [06:04,  3.20s/it]"
     ]
    },
    {
     "name": "stdout",
     "output_type": "stream",
     "text": [
      "sklearn.linear_model.SGDClassifier on 1067;non-monotonic: True\n"
     ]
    },
    {
     "name": "stderr",
     "output_type": "stream",
     "text": [
      "137it [06:06,  3.10s/it]"
     ]
    },
    {
     "name": "stdout",
     "output_type": "stream",
     "text": [
      "sklearn.linear_model.SGDClassifier on 1068;non-monotonic: True\n"
     ]
    },
    {
     "name": "stderr",
     "output_type": "stream",
     "text": [
      "138it [06:09,  2.91s/it]"
     ]
    },
    {
     "name": "stdout",
     "output_type": "stream",
     "text": [
      "sklearn.linear_model.SGDClassifier on 1069;non-monotonic: True\n"
     ]
    },
    {
     "name": "stderr",
     "output_type": "stream",
     "text": [
      "139it [06:12,  2.84s/it]"
     ]
    },
    {
     "name": "stdout",
     "output_type": "stream",
     "text": [
      "sklearn.linear_model.SGDClassifier on 1083;non-monotonic: True\n"
     ]
    },
    {
     "name": "stderr",
     "output_type": "stream",
     "text": [
      "140it [06:14,  2.64s/it]"
     ]
    },
    {
     "name": "stdout",
     "output_type": "stream",
     "text": [
      "sklearn.linear_model.SGDClassifier on 1084;non-monotonic: True\n"
     ]
    },
    {
     "name": "stderr",
     "output_type": "stream",
     "text": [
      "141it [06:16,  2.63s/it]"
     ]
    },
    {
     "name": "stdout",
     "output_type": "stream",
     "text": [
      "sklearn.linear_model.SGDClassifier on 1085;non-monotonic: True\n"
     ]
    },
    {
     "name": "stderr",
     "output_type": "stream",
     "text": [
      "142it [06:19,  2.49s/it]"
     ]
    },
    {
     "name": "stdout",
     "output_type": "stream",
     "text": [
      "sklearn.linear_model.SGDClassifier on 1086;non-monotonic: True\n"
     ]
    },
    {
     "name": "stderr",
     "output_type": "stream",
     "text": [
      "143it [06:21,  2.41s/it]"
     ]
    },
    {
     "name": "stdout",
     "output_type": "stream",
     "text": [
      "sklearn.linear_model.SGDClassifier on 1087;non-monotonic: True\n"
     ]
    },
    {
     "name": "stderr",
     "output_type": "stream",
     "text": [
      "144it [06:23,  2.31s/it]"
     ]
    },
    {
     "name": "stdout",
     "output_type": "stream",
     "text": [
      "sklearn.linear_model.SGDClassifier on 1088;non-monotonic: True\n"
     ]
    },
    {
     "name": "stderr",
     "output_type": "stream",
     "text": [
      "145it [06:25,  2.39s/it]"
     ]
    },
    {
     "name": "stdout",
     "output_type": "stream",
     "text": [
      "sklearn.linear_model.SGDClassifier on 1111;non-monotonic: True\n"
     ]
    },
    {
     "name": "stderr",
     "output_type": "stream",
     "text": [
      "146it [06:28,  2.34s/it]"
     ]
    },
    {
     "name": "stdout",
     "output_type": "stream",
     "text": [
      "sklearn.linear_model.SGDClassifier on 1112;non-monotonic: True\n"
     ]
    },
    {
     "name": "stderr",
     "output_type": "stream",
     "text": [
      "147it [06:30,  2.38s/it]"
     ]
    },
    {
     "name": "stdout",
     "output_type": "stream",
     "text": [
      "sklearn.linear_model.SGDClassifier on 1114;non-monotonic: True\n"
     ]
    },
    {
     "name": "stderr",
     "output_type": "stream",
     "text": [
      "148it [06:32,  2.34s/it]"
     ]
    },
    {
     "name": "stdout",
     "output_type": "stream",
     "text": [
      "sklearn.linear_model.SGDClassifier on 1116;non-monotonic: True\n"
     ]
    },
    {
     "name": "stderr",
     "output_type": "stream",
     "text": [
      "149it [06:35,  2.42s/it]"
     ]
    },
    {
     "name": "stdout",
     "output_type": "stream",
     "text": [
      "sklearn.linear_model.SGDClassifier on 1119;non-monotonic: True\n"
     ]
    },
    {
     "name": "stderr",
     "output_type": "stream",
     "text": [
      "150it [06:37,  2.37s/it]"
     ]
    },
    {
     "name": "stdout",
     "output_type": "stream",
     "text": [
      "sklearn.linear_model.SGDClassifier on 1120;non-monotonic: True\n"
     ]
    },
    {
     "name": "stderr",
     "output_type": "stream",
     "text": [
      "151it [06:40,  2.45s/it]"
     ]
    },
    {
     "name": "stdout",
     "output_type": "stream",
     "text": [
      "sklearn.linear_model.SGDClassifier on 1128;non-monotonic: True\n"
     ]
    },
    {
     "name": "stderr",
     "output_type": "stream",
     "text": [
      "152it [06:42,  2.39s/it]"
     ]
    },
    {
     "name": "stdout",
     "output_type": "stream",
     "text": [
      "sklearn.linear_model.SGDClassifier on 1130 is non-monotonic: False, size: 14\n"
     ]
    },
    {
     "name": "stderr",
     "output_type": "stream",
     "text": [
      "153it [06:45,  2.42s/it]"
     ]
    },
    {
     "name": "stdout",
     "output_type": "stream",
     "text": [
      "sklearn.linear_model.SGDClassifier on 1134;non-monotonic: True\n"
     ]
    },
    {
     "name": "stderr",
     "output_type": "stream",
     "text": [
      "154it [06:47,  2.38s/it]"
     ]
    },
    {
     "name": "stdout",
     "output_type": "stream",
     "text": [
      "sklearn.linear_model.SGDClassifier on 1138;non-monotonic: True\n"
     ]
    },
    {
     "name": "stderr",
     "output_type": "stream",
     "text": [
      "155it [06:49,  2.41s/it]"
     ]
    },
    {
     "name": "stdout",
     "output_type": "stream",
     "text": [
      "sklearn.linear_model.SGDClassifier on 1139;non-monotonic: True\n"
     ]
    },
    {
     "name": "stderr",
     "output_type": "stream",
     "text": [
      "156it [06:52,  2.34s/it]"
     ]
    },
    {
     "name": "stdout",
     "output_type": "stream",
     "text": [
      "sklearn.linear_model.SGDClassifier on 1142;non-monotonic: True\n"
     ]
    },
    {
     "name": "stderr",
     "output_type": "stream",
     "text": [
      "157it [06:54,  2.40s/it]"
     ]
    },
    {
     "name": "stdout",
     "output_type": "stream",
     "text": [
      "sklearn.linear_model.SGDClassifier on 1146;non-monotonic: True\n"
     ]
    },
    {
     "name": "stderr",
     "output_type": "stream",
     "text": [
      "158it [06:56,  2.37s/it]"
     ]
    },
    {
     "name": "stdout",
     "output_type": "stream",
     "text": [
      "sklearn.linear_model.SGDClassifier on 1161;non-monotonic: True\n"
     ]
    },
    {
     "name": "stderr",
     "output_type": "stream",
     "text": [
      "159it [06:59,  2.53s/it]"
     ]
    },
    {
     "name": "stdout",
     "output_type": "stream",
     "text": [
      "sklearn.linear_model.SGDClassifier on 1166;non-monotonic: True\n"
     ]
    },
    {
     "name": "stderr",
     "output_type": "stream",
     "text": [
      "160it [07:02,  2.47s/it]"
     ]
    },
    {
     "name": "stdout",
     "output_type": "stream",
     "text": [
      "sklearn.linear_model.SGDClassifier on 1216;non-monotonic: True\n"
     ]
    },
    {
     "name": "stderr",
     "output_type": "stream",
     "text": [
      "161it [07:04,  2.44s/it]"
     ]
    },
    {
     "name": "stdout",
     "output_type": "stream",
     "text": [
      "sklearn.linear_model.SGDClassifier on 1233;non-monotonic: True\n"
     ]
    },
    {
     "name": "stderr",
     "output_type": "stream",
     "text": [
      "162it [07:07,  2.56s/it]"
     ]
    },
    {
     "name": "stdout",
     "output_type": "stream",
     "text": [
      "sklearn.linear_model.SGDClassifier on 1235;non-monotonic: True\n"
     ]
    },
    {
     "name": "stderr",
     "output_type": "stream",
     "text": [
      "163it [07:09,  2.45s/it]"
     ]
    },
    {
     "name": "stdout",
     "output_type": "stream",
     "text": [
      "sklearn.linear_model.SGDClassifier on 1236 is non-monotonic: False, size: 32\n"
     ]
    },
    {
     "name": "stderr",
     "output_type": "stream",
     "text": [
      "164it [07:12,  2.49s/it]"
     ]
    },
    {
     "name": "stdout",
     "output_type": "stream",
     "text": [
      "sklearn.linear_model.SGDClassifier on 1441;non-monotonic: True\n"
     ]
    },
    {
     "name": "stderr",
     "output_type": "stream",
     "text": [
      "165it [07:14,  2.43s/it]"
     ]
    },
    {
     "name": "stdout",
     "output_type": "stream",
     "text": [
      "sklearn.linear_model.SGDClassifier on 1448;non-monotonic: True\n"
     ]
    },
    {
     "name": "stderr",
     "output_type": "stream",
     "text": [
      "166it [07:16,  2.44s/it]"
     ]
    },
    {
     "name": "stdout",
     "output_type": "stream",
     "text": [
      "sklearn.linear_model.SGDClassifier on 1450;non-monotonic: True\n"
     ]
    },
    {
     "name": "stderr",
     "output_type": "stream",
     "text": [
      "167it [07:19,  2.38s/it]"
     ]
    },
    {
     "name": "stdout",
     "output_type": "stream",
     "text": [
      "sklearn.linear_model.SGDClassifier on 1457 is non-monotonic: False, size: 14\n"
     ]
    },
    {
     "name": "stderr",
     "output_type": "stream",
     "text": [
      "168it [07:21,  2.44s/it]"
     ]
    },
    {
     "name": "stdout",
     "output_type": "stream",
     "text": [
      "sklearn.linear_model.SGDClassifier on 1461;non-monotonic: True\n"
     ]
    },
    {
     "name": "stderr",
     "output_type": "stream",
     "text": [
      "169it [07:23,  2.38s/it]"
     ]
    },
    {
     "name": "stdout",
     "output_type": "stream",
     "text": [
      "sklearn.linear_model.SGDClassifier on 1464;non-monotonic: True\n"
     ]
    },
    {
     "name": "stderr",
     "output_type": "stream",
     "text": [
      "170it [07:26,  2.46s/it]"
     ]
    },
    {
     "name": "stdout",
     "output_type": "stream",
     "text": [
      "sklearn.linear_model.SGDClassifier on 1465;non-monotonic: True\n"
     ]
    },
    {
     "name": "stderr",
     "output_type": "stream",
     "text": [
      "171it [07:28,  2.43s/it]"
     ]
    },
    {
     "name": "stdout",
     "output_type": "stream",
     "text": [
      "sklearn.linear_model.SGDClassifier on 1468 is non-monotonic: False, size: 12\n"
     ]
    },
    {
     "name": "stderr",
     "output_type": "stream",
     "text": [
      "172it [07:31,  2.47s/it]"
     ]
    },
    {
     "name": "stdout",
     "output_type": "stream",
     "text": [
      "sklearn.linear_model.SGDClassifier on 1475;non-monotonic: True\n"
     ]
    },
    {
     "name": "stderr",
     "output_type": "stream",
     "text": [
      "173it [07:33,  2.39s/it]"
     ]
    },
    {
     "name": "stdout",
     "output_type": "stream",
     "text": [
      "sklearn.linear_model.SGDClassifier on 1477;non-monotonic: True\n"
     ]
    },
    {
     "name": "stderr",
     "output_type": "stream",
     "text": [
      "174it [07:36,  2.43s/it]"
     ]
    },
    {
     "name": "stdout",
     "output_type": "stream",
     "text": [
      "sklearn.linear_model.SGDClassifier on 1479;non-monotonic: True\n"
     ]
    },
    {
     "name": "stderr",
     "output_type": "stream",
     "text": [
      "175it [07:38,  2.38s/it]"
     ]
    },
    {
     "name": "stdout",
     "output_type": "stream",
     "text": [
      "sklearn.linear_model.SGDClassifier on 1483;non-monotonic: True\n"
     ]
    },
    {
     "name": "stderr",
     "output_type": "stream",
     "text": [
      "176it [07:40,  2.43s/it]"
     ]
    },
    {
     "name": "stdout",
     "output_type": "stream",
     "text": [
      "sklearn.linear_model.SGDClassifier on 1485;non-monotonic: True\n"
     ]
    },
    {
     "name": "stderr",
     "output_type": "stream",
     "text": [
      "177it [07:43,  2.37s/it]"
     ]
    },
    {
     "name": "stdout",
     "output_type": "stream",
     "text": [
      "sklearn.linear_model.SGDClassifier on 1486;non-monotonic: True\n"
     ]
    },
    {
     "name": "stderr",
     "output_type": "stream",
     "text": [
      "178it [07:45,  2.45s/it]"
     ]
    },
    {
     "name": "stdout",
     "output_type": "stream",
     "text": [
      "sklearn.linear_model.SGDClassifier on 1487;non-monotonic: True\n"
     ]
    },
    {
     "name": "stderr",
     "output_type": "stream",
     "text": [
      "179it [07:48,  2.39s/it]"
     ]
    },
    {
     "name": "stdout",
     "output_type": "stream",
     "text": [
      "sklearn.linear_model.SGDClassifier on 1488;non-monotonic: True\n"
     ]
    },
    {
     "name": "stderr",
     "output_type": "stream",
     "text": [
      "180it [07:50,  2.48s/it]"
     ]
    },
    {
     "name": "stdout",
     "output_type": "stream",
     "text": [
      "sklearn.linear_model.SGDClassifier on 1489;non-monotonic: True\n"
     ]
    },
    {
     "name": "stderr",
     "output_type": "stream",
     "text": [
      "181it [07:53,  2.42s/it]"
     ]
    },
    {
     "name": "stdout",
     "output_type": "stream",
     "text": [
      "sklearn.linear_model.SGDClassifier on 1494;non-monotonic: True\n"
     ]
    },
    {
     "name": "stderr",
     "output_type": "stream",
     "text": [
      "182it [07:55,  2.46s/it]"
     ]
    },
    {
     "name": "stdout",
     "output_type": "stream",
     "text": [
      "sklearn.linear_model.SGDClassifier on 1499;non-monotonic: True\n"
     ]
    },
    {
     "name": "stderr",
     "output_type": "stream",
     "text": [
      "183it [07:57,  2.40s/it]"
     ]
    },
    {
     "name": "stdout",
     "output_type": "stream",
     "text": [
      "sklearn.linear_model.SGDClassifier on 1503;non-monotonic: True\n"
     ]
    },
    {
     "name": "stderr",
     "output_type": "stream",
     "text": [
      "184it [08:00,  2.39s/it]"
     ]
    },
    {
     "name": "stdout",
     "output_type": "stream",
     "text": [
      "sklearn.linear_model.SGDClassifier on 1509;non-monotonic: True\n"
     ]
    },
    {
     "name": "stderr",
     "output_type": "stream",
     "text": [
      "185it [08:02,  2.31s/it]"
     ]
    },
    {
     "name": "stdout",
     "output_type": "stream",
     "text": [
      "sklearn.linear_model.SGDClassifier on 1515 is non-monotonic: False, size: 10\n"
     ]
    },
    {
     "name": "stderr",
     "output_type": "stream",
     "text": [
      "186it [08:04,  2.39s/it]"
     ]
    },
    {
     "name": "stdout",
     "output_type": "stream",
     "text": [
      "sklearn.linear_model.SGDClassifier on 1566;non-monotonic: True\n"
     ]
    },
    {
     "name": "stderr",
     "output_type": "stream",
     "text": [
      "187it [08:07,  2.32s/it]"
     ]
    },
    {
     "name": "stdout",
     "output_type": "stream",
     "text": [
      "sklearn.linear_model.SGDClassifier on 1567;non-monotonic: True\n"
     ]
    },
    {
     "name": "stderr",
     "output_type": "stream",
     "text": [
      "188it [08:09,  2.40s/it]"
     ]
    },
    {
     "name": "stdout",
     "output_type": "stream",
     "text": [
      "sklearn.linear_model.SGDClassifier on 1575;non-monotonic: True\n"
     ]
    },
    {
     "name": "stderr",
     "output_type": "stream",
     "text": [
      "189it [08:11,  2.33s/it]"
     ]
    },
    {
     "name": "stdout",
     "output_type": "stream",
     "text": [
      "sklearn.linear_model.SGDClassifier on 1590;non-monotonic: True\n"
     ]
    },
    {
     "name": "stderr",
     "output_type": "stream",
     "text": [
      "190it [08:14,  2.42s/it]"
     ]
    },
    {
     "name": "stdout",
     "output_type": "stream",
     "text": [
      "sklearn.linear_model.SGDClassifier on 1592 is non-monotonic: False, size: 26\n"
     ]
    },
    {
     "name": "stderr",
     "output_type": "stream",
     "text": [
      "191it [08:16,  2.35s/it]"
     ]
    },
    {
     "name": "stdout",
     "output_type": "stream",
     "text": [
      "sklearn.linear_model.SGDClassifier on 1597;non-monotonic: True\n"
     ]
    },
    {
     "name": "stderr",
     "output_type": "stream",
     "text": [
      "192it [08:19,  2.40s/it]"
     ]
    },
    {
     "name": "stdout",
     "output_type": "stream",
     "text": [
      "sklearn.linear_model.SGDClassifier on 4134;non-monotonic: True\n"
     ]
    },
    {
     "name": "stderr",
     "output_type": "stream",
     "text": [
      "193it [08:21,  2.35s/it]"
     ]
    },
    {
     "name": "stdout",
     "output_type": "stream",
     "text": [
      "sklearn.linear_model.SGDClassifier on 4135;non-monotonic: True\n"
     ]
    },
    {
     "name": "stderr",
     "output_type": "stream",
     "text": [
      "194it [08:23,  2.30s/it]"
     ]
    },
    {
     "name": "stdout",
     "output_type": "stream",
     "text": [
      "sklearn.linear_model.SGDClassifier on 4137;non-monotonic: True\n"
     ]
    },
    {
     "name": "stderr",
     "output_type": "stream",
     "text": [
      "195it [08:26,  2.42s/it]"
     ]
    },
    {
     "name": "stdout",
     "output_type": "stream",
     "text": [
      "sklearn.linear_model.SGDClassifier on 4534;non-monotonic: True\n"
     ]
    },
    {
     "name": "stderr",
     "output_type": "stream",
     "text": [
      "196it [08:28,  2.34s/it]"
     ]
    },
    {
     "name": "stdout",
     "output_type": "stream",
     "text": [
      "sklearn.linear_model.SGDClassifier on 4538;non-monotonic: True\n"
     ]
    },
    {
     "name": "stderr",
     "output_type": "stream",
     "text": [
      "197it [08:31,  2.42s/it]"
     ]
    },
    {
     "name": "stdout",
     "output_type": "stream",
     "text": [
      "sklearn.linear_model.SGDClassifier on 4541;non-monotonic: True\n"
     ]
    },
    {
     "name": "stderr",
     "output_type": "stream",
     "text": [
      "198it [08:33,  2.34s/it]"
     ]
    },
    {
     "name": "stdout",
     "output_type": "stream",
     "text": [
      "sklearn.linear_model.SGDClassifier on 23512;non-monotonic: True\n"
     ]
    },
    {
     "name": "stderr",
     "output_type": "stream",
     "text": [
      "199it [08:35,  2.29s/it]"
     ]
    },
    {
     "name": "stdout",
     "output_type": "stream",
     "text": [
      "sklearn.linear_model.SGDClassifier on 23517;non-monotonic: True\n"
     ]
    },
    {
     "name": "stderr",
     "output_type": "stream",
     "text": [
      "200it [08:37,  2.38s/it]"
     ]
    },
    {
     "name": "stdout",
     "output_type": "stream",
     "text": [
      "sklearn.linear_model.SGDClassifier on 40498;non-monotonic: True\n"
     ]
    },
    {
     "name": "stderr",
     "output_type": "stream",
     "text": [
      "201it [08:40,  2.35s/it]"
     ]
    },
    {
     "name": "stdout",
     "output_type": "stream",
     "text": [
      "sklearn.linear_model.SGDClassifier on 40664;non-monotonic: True\n"
     ]
    },
    {
     "name": "stderr",
     "output_type": "stream",
     "text": [
      "202it [08:42,  2.41s/it]"
     ]
    },
    {
     "name": "stdout",
     "output_type": "stream",
     "text": [
      "sklearn.linear_model.SGDClassifier on 40668;non-monotonic: True\n"
     ]
    },
    {
     "name": "stderr",
     "output_type": "stream",
     "text": [
      "203it [08:45,  2.38s/it]"
     ]
    },
    {
     "name": "stdout",
     "output_type": "stream",
     "text": [
      "sklearn.linear_model.SGDClassifier on 40670 is non-monotonic: False, size: 16\n"
     ]
    },
    {
     "name": "stderr",
     "output_type": "stream",
     "text": [
      "204it [08:47,  2.40s/it]"
     ]
    },
    {
     "name": "stdout",
     "output_type": "stream",
     "text": [
      "sklearn.linear_model.SGDClassifier on 40672;non-monotonic: True\n"
     ]
    },
    {
     "name": "stderr",
     "output_type": "stream",
     "text": [
      "205it [08:49,  2.36s/it]"
     ]
    },
    {
     "name": "stdout",
     "output_type": "stream",
     "text": [
      "sklearn.linear_model.SGDClassifier on 40677;non-monotonic: True\n"
     ]
    },
    {
     "name": "stderr",
     "output_type": "stream",
     "text": [
      "206it [08:52,  2.44s/it]"
     ]
    },
    {
     "name": "stdout",
     "output_type": "stream",
     "text": [
      "sklearn.linear_model.SGDClassifier on 40685;non-monotonic: True\n"
     ]
    },
    {
     "name": "stderr",
     "output_type": "stream",
     "text": [
      "207it [08:54,  2.36s/it]"
     ]
    },
    {
     "name": "stdout",
     "output_type": "stream",
     "text": [
      "sklearn.linear_model.SGDClassifier on 40687;non-monotonic: True\n"
     ]
    },
    {
     "name": "stderr",
     "output_type": "stream",
     "text": [
      "208it [08:57,  2.40s/it]"
     ]
    },
    {
     "name": "stdout",
     "output_type": "stream",
     "text": [
      "sklearn.linear_model.SGDClassifier on 40701;non-monotonic: True\n"
     ]
    },
    {
     "name": "stderr",
     "output_type": "stream",
     "text": [
      "209it [08:59,  2.37s/it]"
     ]
    },
    {
     "name": "stdout",
     "output_type": "stream",
     "text": [
      "sklearn.linear_model.SGDClassifier on 40713 is non-monotonic: False, size: 16\n"
     ]
    },
    {
     "name": "stderr",
     "output_type": "stream",
     "text": [
      "210it [09:02,  2.47s/it]"
     ]
    },
    {
     "name": "stdout",
     "output_type": "stream",
     "text": [
      "sklearn.linear_model.SGDClassifier on 40900;non-monotonic: True\n"
     ]
    },
    {
     "name": "stderr",
     "output_type": "stream",
     "text": [
      "211it [09:04,  2.40s/it]"
     ]
    },
    {
     "name": "stdout",
     "output_type": "stream",
     "text": [
      "sklearn.linear_model.SGDClassifier on 40910;non-monotonic: True\n"
     ]
    },
    {
     "name": "stderr",
     "output_type": "stream",
     "text": [
      "212it [09:07,  2.67s/it]"
     ]
    },
    {
     "name": "stdout",
     "output_type": "stream",
     "text": [
      "sklearn.linear_model.SGDClassifier on 40971;non-monotonic: True\n"
     ]
    },
    {
     "name": "stderr",
     "output_type": "stream",
     "text": [
      "213it [09:10,  2.65s/it]"
     ]
    },
    {
     "name": "stdout",
     "output_type": "stream",
     "text": [
      "sklearn.linear_model.SGDClassifier on 40975;non-monotonic: True\n"
     ]
    },
    {
     "name": "stderr",
     "output_type": "stream",
     "text": [
      "214it [09:12,  2.63s/it]"
     ]
    },
    {
     "name": "stdout",
     "output_type": "stream",
     "text": [
      "sklearn.linear_model.SGDClassifier on 40978;non-monotonic: True\n"
     ]
    },
    {
     "name": "stderr",
     "output_type": "stream",
     "text": [
      "215it [09:15,  2.51s/it]"
     ]
    },
    {
     "name": "stdout",
     "output_type": "stream",
     "text": [
      "sklearn.linear_model.SGDClassifier on 40981;non-monotonic: True\n"
     ]
    },
    {
     "name": "stderr",
     "output_type": "stream",
     "text": [
      "216it [09:17,  2.54s/it]"
     ]
    },
    {
     "name": "stdout",
     "output_type": "stream",
     "text": [
      "sklearn.linear_model.SGDClassifier on 40982;non-monotonic: True\n"
     ]
    },
    {
     "name": "stderr",
     "output_type": "stream",
     "text": [
      "217it [09:20,  2.47s/it]"
     ]
    },
    {
     "name": "stdout",
     "output_type": "stream",
     "text": [
      "sklearn.linear_model.SGDClassifier on 40983;non-monotonic: True\n"
     ]
    },
    {
     "name": "stderr",
     "output_type": "stream",
     "text": [
      "218it [09:22,  2.47s/it]"
     ]
    },
    {
     "name": "stdout",
     "output_type": "stream",
     "text": [
      "sklearn.linear_model.SGDClassifier on 40984;non-monotonic: True\n"
     ]
    },
    {
     "name": "stderr",
     "output_type": "stream",
     "text": [
      "219it [09:24,  2.41s/it]"
     ]
    },
    {
     "name": "stdout",
     "output_type": "stream",
     "text": [
      "sklearn.linear_model.SGDClassifier on 40994;non-monotonic: True\n"
     ]
    },
    {
     "name": "stderr",
     "output_type": "stream",
     "text": [
      "220it [09:27,  2.43s/it]"
     ]
    },
    {
     "name": "stdout",
     "output_type": "stream",
     "text": [
      "sklearn.linear_model.SGDClassifier on 40996;non-monotonic: True\n"
     ]
    },
    {
     "name": "stderr",
     "output_type": "stream",
     "text": [
      "221it [09:29,  2.40s/it]"
     ]
    },
    {
     "name": "stdout",
     "output_type": "stream",
     "text": [
      "sklearn.linear_model.SGDClassifier on 41027;non-monotonic: True\n"
     ]
    },
    {
     "name": "stderr",
     "output_type": "stream",
     "text": [
      "222it [09:32,  2.42s/it]"
     ]
    },
    {
     "name": "stdout",
     "output_type": "stream",
     "text": [
      "sklearn.linear_model.SGDClassifier on 41142;non-monotonic: True\n"
     ]
    },
    {
     "name": "stderr",
     "output_type": "stream",
     "text": [
      "223it [09:34,  2.35s/it]"
     ]
    },
    {
     "name": "stdout",
     "output_type": "stream",
     "text": [
      "sklearn.linear_model.SGDClassifier on 41143;non-monotonic: True\n"
     ]
    },
    {
     "name": "stderr",
     "output_type": "stream",
     "text": [
      "224it [09:36,  2.43s/it]"
     ]
    },
    {
     "name": "stdout",
     "output_type": "stream",
     "text": [
      "sklearn.linear_model.SGDClassifier on 41144;non-monotonic: True\n"
     ]
    },
    {
     "name": "stderr",
     "output_type": "stream",
     "text": [
      "225it [09:38,  2.35s/it]"
     ]
    },
    {
     "name": "stdout",
     "output_type": "stream",
     "text": [
      "sklearn.linear_model.SGDClassifier on 41145;non-monotonic: True\n"
     ]
    },
    {
     "name": "stderr",
     "output_type": "stream",
     "text": [
      "226it [09:41,  2.40s/it]"
     ]
    },
    {
     "name": "stdout",
     "output_type": "stream",
     "text": [
      "sklearn.linear_model.SGDClassifier on 41146;non-monotonic: True\n"
     ]
    },
    {
     "name": "stderr",
     "output_type": "stream",
     "text": [
      "227it [09:43,  2.36s/it]"
     ]
    },
    {
     "name": "stdout",
     "output_type": "stream",
     "text": [
      "sklearn.linear_model.SGDClassifier on 41150;non-monotonic: True\n"
     ]
    },
    {
     "name": "stderr",
     "output_type": "stream",
     "text": [
      "228it [09:46,  2.39s/it]"
     ]
    },
    {
     "name": "stdout",
     "output_type": "stream",
     "text": [
      "sklearn.linear_model.SGDClassifier on 41156;non-monotonic: True\n"
     ]
    },
    {
     "name": "stderr",
     "output_type": "stream",
     "text": [
      "229it [09:48,  2.36s/it]"
     ]
    },
    {
     "name": "stdout",
     "output_type": "stream",
     "text": [
      "sklearn.linear_model.SGDClassifier on 41157;non-monotonic: True\n"
     ]
    },
    {
     "name": "stderr",
     "output_type": "stream",
     "text": [
      "230it [09:51,  2.46s/it]"
     ]
    },
    {
     "name": "stdout",
     "output_type": "stream",
     "text": [
      "sklearn.linear_model.SGDClassifier on 41158;non-monotonic: True\n"
     ]
    },
    {
     "name": "stderr",
     "output_type": "stream",
     "text": [
      "231it [09:53,  2.36s/it]"
     ]
    },
    {
     "name": "stdout",
     "output_type": "stream",
     "text": [
      "sklearn.linear_model.SGDClassifier on 41159;non-monotonic: True\n"
     ]
    },
    {
     "name": "stderr",
     "output_type": "stream",
     "text": [
      "232it [09:55,  2.43s/it]"
     ]
    },
    {
     "name": "stdout",
     "output_type": "stream",
     "text": [
      "sklearn.linear_model.SGDClassifier on 41161;non-monotonic: True\n"
     ]
    },
    {
     "name": "stderr",
     "output_type": "stream",
     "text": [
      "233it [09:58,  2.37s/it]"
     ]
    },
    {
     "name": "stdout",
     "output_type": "stream",
     "text": [
      "sklearn.linear_model.SGDClassifier on 41163;non-monotonic: True\n"
     ]
    },
    {
     "name": "stderr",
     "output_type": "stream",
     "text": [
      "234it [10:00,  2.40s/it]"
     ]
    },
    {
     "name": "stdout",
     "output_type": "stream",
     "text": [
      "sklearn.linear_model.SGDClassifier on 41164;non-monotonic: True\n"
     ]
    },
    {
     "name": "stderr",
     "output_type": "stream",
     "text": [
      "235it [10:02,  2.33s/it]"
     ]
    },
    {
     "name": "stdout",
     "output_type": "stream",
     "text": [
      "sklearn.linear_model.SGDClassifier on 41165;non-monotonic: True\n"
     ]
    },
    {
     "name": "stderr",
     "output_type": "stream",
     "text": [
      "236it [10:05,  2.42s/it]"
     ]
    },
    {
     "name": "stdout",
     "output_type": "stream",
     "text": [
      "sklearn.linear_model.SGDClassifier on 41166;non-monotonic: True\n"
     ]
    },
    {
     "name": "stderr",
     "output_type": "stream",
     "text": [
      "237it [10:07,  2.34s/it]"
     ]
    },
    {
     "name": "stdout",
     "output_type": "stream",
     "text": [
      "sklearn.linear_model.SGDClassifier on 41167;non-monotonic: True\n"
     ]
    },
    {
     "name": "stderr",
     "output_type": "stream",
     "text": [
      "238it [10:10,  2.43s/it]"
     ]
    },
    {
     "name": "stdout",
     "output_type": "stream",
     "text": [
      "sklearn.linear_model.SGDClassifier on 41168;non-monotonic: True\n"
     ]
    },
    {
     "name": "stderr",
     "output_type": "stream",
     "text": [
      "239it [10:12,  2.34s/it]"
     ]
    },
    {
     "name": "stdout",
     "output_type": "stream",
     "text": [
      "sklearn.linear_model.SGDClassifier on 41169;non-monotonic: True\n"
     ]
    },
    {
     "name": "stderr",
     "output_type": "stream",
     "text": [
      "240it [10:15,  2.45s/it]"
     ]
    },
    {
     "name": "stdout",
     "output_type": "stream",
     "text": [
      "sklearn.linear_model.SGDClassifier on 41228;non-monotonic: True\n"
     ]
    },
    {
     "name": "stderr",
     "output_type": "stream",
     "text": [
      "241it [10:17,  2.39s/it]"
     ]
    },
    {
     "name": "stdout",
     "output_type": "stream",
     "text": [
      "sklearn.linear_model.SGDClassifier on 41972;non-monotonic: True\n"
     ]
    },
    {
     "name": "stderr",
     "output_type": "stream",
     "text": [
      "242it [10:19,  2.44s/it]"
     ]
    },
    {
     "name": "stdout",
     "output_type": "stream",
     "text": [
      "sklearn.linear_model.SGDClassifier on 42732;non-monotonic: True\n"
     ]
    },
    {
     "name": "stderr",
     "output_type": "stream",
     "text": [
      "243it [10:22,  2.39s/it]"
     ]
    },
    {
     "name": "stdout",
     "output_type": "stream",
     "text": [
      "sklearn.linear_model.SGDClassifier on 42733;non-monotonic: True\n"
     ]
    },
    {
     "name": "stderr",
     "output_type": "stream",
     "text": [
      "244it [10:24,  2.42s/it]"
     ]
    },
    {
     "name": "stdout",
     "output_type": "stream",
     "text": [
      "sklearn.linear_model.SGDClassifier on 42734;non-monotonic: True\n"
     ]
    },
    {
     "name": "stderr",
     "output_type": "stream",
     "text": [
      "245it [10:26,  2.37s/it]"
     ]
    },
    {
     "name": "stdout",
     "output_type": "stream",
     "text": [
      "sklearn.linear_model.SGDClassifier on 42742;non-monotonic: True\n"
     ]
    },
    {
     "name": "stderr",
     "output_type": "stream",
     "text": [
      "246it [10:29,  2.45s/it]"
     ]
    },
    {
     "name": "stdout",
     "output_type": "stream",
     "text": [
      "sklearn.linear_model.SGDClassifier on 42769;non-monotonic: True\n"
     ]
    },
    {
     "name": "stderr",
     "output_type": "stream",
     "text": [
      "247it [10:31,  2.41s/it]"
     ]
    },
    {
     "name": "stdout",
     "output_type": "stream",
     "text": [
      "sklearn.linear_model.SGDClassifier on 42809;non-monotonic: True\n"
     ]
    },
    {
     "name": "stderr",
     "output_type": "stream",
     "text": [
      "248it [10:34,  2.56s/it]"
     ]
    },
    {
     "name": "stdout",
     "output_type": "stream",
     "text": [
      "sklearn.linear_model.SGDClassifier on 42810;non-monotonic: True\n",
      "Class 0: (Monotone) 77\n",
      "Class 1: (Non-Monotone) 549\n",
      "Occurances LDA: [1, 1, 1, 1, 2, 1, 2, 2, 2, 1, 1, 3, 1, 1, 2, 4, 2, 1, 1, 1, 1, 7, 2, 2, 2, 3, 1, 2, 2, 2, 1, 1, 1, 2, 3, 3, 1, 2, 2, 1, 1, 3, 1, 1, 1, 2, 1, 1, 2, 2, 2, 1, 1, 3, 3, 1, 2, 3, 1, 2, 1, 2, 1, 2, 3, 4, 1, 1, 1, 2, 1, 1, 3, 2, 1, 1, 4, 1, 1, 1, 2, 1, 2, 1, 1, 3, 2, 1, 1, 1, 1, 3, 1, 1, 1, 1, 2, 2, 1, 1, 1, 1, 3, 3, 4, 1, 2, 1, 5, 3, 2, 4, 3, 2, 1, 5, 2, 4, 1, 1, 2, 1, 1, 1, 3, 2, 1, 1, 1, 1, 1, 3, 3, 2, 1, 3, 1, 1, 2, 2, 2, 3, 3]\n",
      "Significances LDA: [0.07991360691144708, 0.14290962527553266, 0.07264397905759161, 0.1818367764368991, 0.24335010783608907, 0.5179518254809877, 0.6816143497757852, 0.72662568747978, 0.15615976900866232, 1.0, 0.492686170212766, 0.33370535714285754, 0.5407202216066481, 0.1288056206088994, 0.1254632080465855, 0.6293604651162792, 0.094890510948905, 0.4544091181763648, 0.21954374412041391, 0.33333333333333326, 0.468944099378882, 0.5765306122448988, 0.3796898449224611, 0.6164171399070728, 0.5867217280813215, 0.5457543281121185, 0.09893455098934544, 1.0, 0.3125000000000001, 0.9772508811278436, 0.2850702731370989, 0.4389639019013503, 0.35006973500697347, 0.3633387888707038, 0.4445, 0.26764436296975364, 0.437570303712036, 0.04803073967339098, 0.3750000000000001, 0.5541379310344827, 0.08755426917510854, 0.4096692111959288, 0.37514060742407196, 0.4000000000000002, 0.7133676092544988, 0.7002700270027002, 0.23370233702337048, 0.6331602373887242, 0.5384615384615392, 0.4619113573407202, 0.42857142857142855, 0.2639378969654199, 0.5262908574135481, 0.6594594594594609, 0.875140607424072, 0.06467013888888898, 0.14381270903010057, 0.08365758754863756, 0.4745762711864406, 0.7141020145735105, 0.058588548601864146, 0.19065981148243347, 1.0, 0.2963333333333332, 0.5881418740074114, 0.8578512396694223, 0.03887055372203867, 0.705991352686844, 0.0826383623957545, 0.8183306055646481, 0.1725636250775915, 0.599880023995201, 1.0, 1.0, 0.3333333333333324, 0.2914478619654914, 0.29411764705882504, 0.5356089338390222, 0.8, 0.07124125874125892, 0.21019108280254792, 0.39532449406838827, 0.3508713136729223, 0.21448467966573806, 0.4977643155920958, 0.6489001692047378, 0.11174089068825895, 0.707136237256719, 1.0, 0.15674891146589315, 0.16682113067655252, 0.35024322446143147, 0.3002084781097985, 0.1429516876240904, 0.12494687632809172, 0.7333333333333333, 0.7499999999999998, 1.0, 0.528991262907069, 0.10459332943241663, 0.5027392845633257, 0.2445397815912636, 0.5769392033542977, 0.39512195121951216, 0.3752743233357719, 0.4998499849984997, 0.6928838951310865, 0.6249752622204631, 0.40594059405940597, 0.4220183486238531, 0.6668529904974847, 0.5974683544303796, 0.4768081761006293, 0.41614608361364724, 0.24368499257058, 0.6637931034482786, 0.14083710407239836, 0.6187499999999994, 0.27280163599182006, 0.0691007845503922, 0.2860326894502226, 0.6379170056956875, 0.08883455582722101, 0.6996515679442507, 0.4400452488687783, 0.34413453650533254, 0.12114845938375335, 0.3181299885974912, 0.39809160305343533, 0.5002249212775527, 0.7936182669789227, 0.363207547169811, 0.24821917808219182, 0.3426156141223271, 0.08925619834710745, 0.32044975404075904, 0.624538745387454, 0.3352459016393442, 0.27840909090909094, 0.2704890387858349, 0.05514705882352946, 0.6252110298255487, 1.0]\n",
      "Occurances QDA: [2, 2, 2, 1, 2, 1, 3, 2, 2, 1, 1, 3, 3, 1, 2, 3, 2, 1, 1, 4, 6, 1, 1, 3, 2, 1, 1, 2, 2, 2, 4, 1, 3, 1, 3, 2, 1, 1, 2, 1, 2, 2, 3, 1, 1, 3, 3, 1, 2, 2, 3, 1, 2, 4, 2, 2, 2, 1, 4, 1, 2, 1, 2, 1, 1, 3, 3, 1, 3, 2, 2, 2, 3, 1, 2, 1, 3, 1, 2, 1, 1, 2, 1, 1, 2, 1, 2, 2, 1, 1, 2, 1, 3, 1, 2, 1, 1, 2, 1, 1, 1, 2, 2, 2, 2, 1, 3, 2, 1, 2, 2, 3, 3, 2, 1, 3, 1, 2, 2, 5, 1, 1, 1, 1, 1, 1, 2, 2, 2, 2, 5, 4, 1, 1, 2, 2, 4, 1, 1, 2, 3, 5, 2, 3, 2, 2, 3, 6, 3, 3, 1, 2, 2, 2, 2, 1, 1, 3, 2, 2, 3, 3, 4, 1, 4, 4, 2, 3, 4, 3, 3, 4, 4, 4, 2, 7, 4, 1, 4, 4]\n",
      "Significances QDA: [0.3784046692607003, 0.26927869306382385, 0.14004560182407297, 1.0, 1.0, 0.30894189960485874, 0.571496437054632, 0.12199124726477037, 0.11523178807947015, 0.9978750531236719, 1.0, 0.443127962085308, 0.07974594213126306, 0.22215884785398549, 0.0807102502017757, 0.9129041654529565, 0.3482258064516131, 1.0, 1.0, 0.9599287622439893, 0.5664206642066425, 0.33333333333333326, 0.4988290398126463, 0.21581196581196574, 0.17503136762860716, 0.33340000000000003, 0.15771028037383175, 1.0, 0.43755310110450285, 0.5551061678463094, 0.7191448007774539, 0.5009380863039399, 1.0, 0.6261022927689593, 1.0, 0.8464912280701755, 0.6666000000000001, 0.2356020942408377, 0.43469470279013334, 0.39123630672926446, 0.8943628612032213, 0.7046186895810959, 0.31815830315571664, 0.6816693944353519, 0.7548251748251749, 0.6714785651793527, 0.16426512968299695, 0.068876729964596, 0.5, 1.0, 0.5293806246691372, 0.24010079193664496, 0.2732606873428333, 0.3999999999999994, 0.6666666666666666, 0.40899795501022496, 0.14255588359342072, 0.5450081833060557, 0.3037383177570093, 0.11735121542330268, 1.0, 0.08655446643240236, 1.0, 0.27845363611786966, 0.7499196399871422, 0.5790719696969697, 0.9520661157024791, 1.0, 0.394860458690246, 0.1762837480148227, 0.5770162686050536, 1.0, 0.7330533893221352, 0.3121484814398199, 0.5832083958020998, 0.3810544363480497, 0.8095505617977529, 0.9152124096597919, 1.0, 0.0862455197132616, 1.0, 1.0, 0.5802222222222223, 0.06940063091482597, 1.0, 0.6977507029053421, 0.7376229892238013, 0.41996879875194987, 0.3599712023038156, 0.30394167236272496, 0.10739436619718286, 0.7620843332190606, 0.47022900763358855, 0.21733212341197822, 0.48869565217391325, 1.0, 0.9383947939262473, 0.9964824120603017, 0.3126236644242187, 1.0, 0.14285714285714282, 0.7142857142857143, 0.42863266180882975, 0.6314997263273125, 0.6314997263273125, 0.5002915451895045, 0.4767299448867116, 0.2285115303983225, 0.11119691119691123, 0.2812047494931943, 1.0, 0.601889338731444, 0.8095048980672491, 0.47839226352372327, 0.6693195830063894, 0.9031390134529145, 0.07783783783783785, 1.0, 1.0, 0.9680811115283516, 1.0, 0.5556098753361036, 0.6667999999999998, 0.33632286995515703, 0.611069134869664, 0.25, 0.44420250408274364, 0.7705510388437219, 0.26683591662212724, 0.5, 0.8082901554404145, 0.8287625418060204, 0.9717405266538214, 0.6668000000000001, 0.6412500000000004, 0.6870546318289787, 0.7819548872180451, 0.8295918367346938, 0.4002079002079002, 0.8260663507109002, 0.9480614484272127, 0.49204301075268814, 0.8125000000000007, 0.5714285714285714, 1.0, 0.40847941296371787, 0.1605667060212515, 0.5887096774193561, 0.32292145153881474, 0.9995905834186285, 0.9753671245855045, 0.8320610687022888, 0.5494442861214021, 1.0, 1.0, 0.5154498222586821, 0.19126819126819086, 0.48601142522337776, 0.06429712460063897, 0.08066896212493835, 0.2979821679962459, 0.7551963048498845, 0.444574095682614, 0.4198570699336395, 0.5192592592592594, 0.9943901932266777, 1.0, 0.20873634945397837, 0.78448275862069, 0.36503581771071486, 0.251451800232288, 0.21370967741935482, 1.0, 0.3301540719002201, 0.13519313304721028, 0.24852941176470544, 0.31611862013314507, 0.144578313253012, 0.7274959083469722, 0.9775999999999998]\n",
      "Occurances SGD: [3, 3, 1, 3, 1, 1, 3, 1, 1, 3, 2, 2, 4, 1, 5, 2, 1, 4, 2, 2, 1, 2, 3, 1, 3, 4, 3, 3, 4, 1, 3, 4, 3, 4, 2, 1, 3, 6, 5, 1, 1, 1, 2, 3, 2, 3, 4, 4, 4, 3, 2, 3, 3, 4, 2, 3, 3, 4, 4, 3, 4, 2, 2, 4, 2, 3, 3, 2, 5, 6, 7, 7, 2, 2, 2, 2, 4, 4, 1, 3, 4, 4, 3, 3, 3, 2, 2, 3, 3, 1, 2, 3, 3, 2, 1, 1, 2, 1, 1, 1, 4, 4, 2, 4, 2, 1, 3, 3, 2, 4, 4, 2, 1, 1, 4, 1, 3, 2, 2, 2, 2, 2, 3, 2, 2, 2, 1, 1, 1, 2, 2, 4, 5, 3, 5, 2, 1, 1, 2, 3, 3, 3, 2, 3, 2, 3, 6, 1, 2, 2, 3, 2, 1, 2, 3, 1, 7, 3, 3, 1, 1, 3, 2, 1, 3, 4, 1, 1, 3, 3, 1, 3, 4, 3, 2, 4, 4, 5, 7, 4, 3, 3, 4, 1, 5, 3, 2, 3, 1, 2, 3, 1, 2, 4, 2, 3, 2, 2, 4, 4, 2, 3, 4, 3, 7, 3, 1, 2, 4, 2, 1, 1, 3, 6, 7, 4, 5, 6, 2, 2, 3, 3, 4, 4, 3, 3]\n",
      "Significances SGD: [0.578417765440666, 0.2423337315810435, 0.11770623742454735, 0.28975791433891984, 1.0, 0.09648742411101471, 0.6293333333333333, 0.16104680422747877, 0.11892007713734731, 0.9706687524442706, 0.2823639774859288, 0.2132526067944837, 0.9755511022044089, 1.0, 0.27292656192911946, 0.14559773828756045, 1.0, 0.5389191869112543, 0.17573333333333352, 0.4998519395913532, 0.7500875043752186, 0.9353070175438595, 0.22708674304418988, 0.3998879865583868, 0.7694545454545454, 0.8394568690095846, 0.3702233250620348, 0.39184807781380276, 0.2841648590021692, 0.18518933452834418, 0.5001675041876047, 0.6659771066059855, 0.3098927294398089, 0.5885341074020319, 0.4998350379412736, 1.0, 0.7677053824362603, 0.8271604938271588, 0.585714285714286, 0.08903055616619032, 0.11354705274043446, 0.11715575620767484, 0.10718685831622182, 0.9330440173589585, 1.0, 1.0, 0.5592356687898091, 0.6102167182662538, 0.6920415224913495, 0.22662337662337614, 1.0, 0.5786585365853658, 1.0, 1.0, 1.0, 1.0, 0.9048435490784398, 0.7853470437017995, 0.6179450072358896, 0.8823053589484329, 0.9090909090909092, 0.7274959083469722, 0.5336134453781516, 0.9498596068993183, 0.42112742775935574, 0.7472434266327401, 0.4282958199356913, 0.9700315457413248, 0.8231245698554718, 1.0, 0.615573267933783, 0.9813486370157816, 0.9425904977375567, 0.889, 0.9216173480912583, 0.4500450045004503, 0.48345784418356463, 0.8801515869256277, 0.347809076682316, 0.4445, 0.862776025236594, 0.7994853523357088, 0.7055555555555556, 0.27849686847599153, 1.0, 0.3000449842555109, 0.8750703432751828, 0.9714579583440474, 0.9091653027823241, 0.9166666666666667, 0.8183306055646481, 0.4222862632084534, 0.7894409937888197, 0.9667244367417676, 0.06734137796808132, 0.2999168053244591, 0.10714285714285729, 0.3074792243767316, 0.6019736842105262, 1.0, 0.4372549019607844, 0.9851885098743269, 0.7573609596510361, 0.49238227146814373, 0.5888456549935167, 0.3333333333333333, 0.1446886446886439, 0.7146529562982009, 1.0, 0.6042319749216295, 0.8373983739837397, 0.2525597269624574, 0.18963376784605845, 0.3790569503980405, 0.527551020408163, 0.8226102941176467, 0.2544731610337973, 1.0, 0.7701981707317073, 1.0, 1.0, 0.9835113065326634, 1.0, 1.0, 0.6, 1.0, 0.7499062617172854, 1.0, 1.0, 0.38476036618201415, 0.9972789115646247, 0.9721792890262765, 1.0, 0.3441890166028099, 0.3803216650898771, 0.7240303165403477, 0.44993045897079326, 0.299513551077137, 0.7149950347567037, 0.33371958285052056, 1.0, 0.2084539664157501, 0.5710029791459786, 0.7877000842459982, 1.0, 1.0, 1.0, 1.0, 1.0, 1.0, 0.8717948717948715, 0.9231037489102009, 1.0, 0.5506772536198038, 0.3873612297181896, 0.43993895792456944, 0.9467275494672758, 0.3497076023391814, 0.4593881856540088, 1.0, 0.19996400287976954, 1.0, 0.9440633245382583, 0.38468284127448116, 0.5974025974025975, 0.8195991091314029, 0.14911873840445264, 0.28474042999475613, 0.7221711131554741, 0.6135265700483089, 0.13793103448276192, 0.3945729537366548, 0.6816406249999983, 0.33294797687861316, 0.36378378378378345, 0.9101956135151156, 0.7669291338582676, 0.3836565096952908, 0.5677966101694899, 0.876737160120846, 0.17213555675094155, 0.5672797676669892, 0.37074401008827196, 0.07088866189989776, 0.6489698890649761, 0.7005758157389633, 0.563128003494976, 1.0, 0.3020050125313285, 0.42802056555269924, 0.2802746566791507, 0.34263959390862936, 0.33342084536623784, 1.0, 1.0, 0.4415961305925032, 0.40000000000000063, 0.12048192771084347, 0.4135044642857145, 0.7680339462517676, 0.5382626680455014, 0.3814016172506735, 1.0, 0.407136030582988, 0.6395468589083423, 0.9851135094901379, 0.24994375703037125, 0.15268960908787194, 0.4896161107614855, 0.12123385939741727, 0.08382823206943799, 0.14145907473309607, 0.17579075425790774, 0.26992896606156264, 0.9292929292929292, 0.7170989433237274, 0.5659259259259258, 0.35047361299052787, 0.2822530285999751, 1.0, 1.0, 0.5473766640563831, 1.0, 0.3014416775884669, 0.36415711947626833, 0.9823232323232322]\n"
     ]
    },
    {
     "name": "stderr",
     "output_type": "stream",
     "text": [
      "\n"
     ]
    }
   ],
   "source": [
    "to_consider = ['sklearn.discriminant_analysis.LinearDiscriminantAnalysis', 'sklearn.discriminant_analysis.QuadraticDiscriminantAnalysis', 'sklearn.linear_model.SGDClassifier']\n",
    "exp_df = lcdb.get_all_curves('accuracy')\n",
    "exp_df = exp_df.loc[exp_df.groupby(['openmlid', 'learner'])['size_train'].idxmax()]\n",
    "\n",
    "lda = exp_df[exp_df['learner'] == to_consider[0]]\n",
    "\n",
    "\n",
    "class_1 = 0  # monotonic\n",
    "class_0 = 0  # non-monotonic\n",
    "occurancesLDA = []\n",
    "significancesLDA = []\n",
    "occurancesQDA = []\n",
    "significancesQDA = []\n",
    "occurancesSGD = []\n",
    "significancesSGD = []\n",
    "\n",
    "rows = []\n",
    "\n",
    "\n",
    "for el in to_consider:\n",
    "    lda = exp_df[exp_df['learner'] == el]\n",
    "    for idx, row in tqdm(lda.iterrows()):\n",
    "        curve = lcdb.get_curve(row['openmlid'], row['learner'])\n",
    "        anchors, scores_train, scores_valid, scores_test = curve\n",
    "        actual_curve = [sub[1] for sub in scores_valid]\n",
    "        flag, occurances, significance = evaluate_learningcurve(actual_curve, 0.8)\n",
    "        rows.append([row['learner'], row['openmlid'], flag, occurances, significance])\n",
    "        if flag:\n",
    "            print(f\"{row['learner']} on {row['openmlid']};non-monotonic: {flag}\")\n",
    "            class_1 += 1\n",
    "\n",
    "            match row['learner']:\n",
    "                case 'sklearn.discriminant_analysis.LinearDiscriminantAnalysis':\n",
    "                     occurancesLDA.append(occurances)\n",
    "                     significancesLDA.append(significance)\n",
    "                case 'sklearn.discriminant_analysis.QuadraticDiscriminantAnalysis':\n",
    "                     occurancesQDA.append(occurances)\n",
    "                     significancesQDA.append(significance)\n",
    "                case 'sklearn.linear_model.SGDClassifier':\n",
    "                     occurancesSGD.append(occurances)\n",
    "                     significancesSGD.append(significance)\n",
    "\n",
    "        else:\n",
    "            print(f\"{row['learner']} on {row['openmlid']} is non-monotonic: {flag}, size: {len(anchors)}\")\n",
    "            class_0 += 1\n",
    "\n",
    "print(\"Class 0: (Monotone)\", class_0)\n",
    "print(\"Class 1: (Non-Monotone)\", class_1)\n",
    "print(\"Occurances LDA:\", occurancesLDA)\n",
    "print(\"Significances LDA:\", significancesLDA)\n",
    "print(\"Occurances QDA:\", occurancesQDA)\n",
    "print(\"Significances QDA:\", significancesQDA)\n",
    "print(\"Occurances SGD:\", occurancesSGD)\n",
    "print(\"Significances SGD:\", significancesSGD)"
   ],
   "metadata": {
    "collapsed": false,
    "ExecuteTime": {
     "end_time": "2024-01-27T09:24:09.633247300Z",
     "start_time": "2024-01-27T08:58:48.456431400Z"
    }
   }
  },
  {
   "cell_type": "code",
   "execution_count": 7,
   "outputs": [],
   "source": [
    "occLDA1, occLDA2, occLDA3, occLDA4 = compute_data_occurences(occurancesLDA)\n",
    "signLDA1, signLDA2, signLDA3, signLDA4 = compute_data_significances(significancesLDA)\n",
    "occQDA1, occQDA2, occQDA3, occQDA4 = compute_data_occurences(occurancesQDA)\n",
    "signQDA1, signQDA2, signQDA3, signQDA4 = compute_data_significances(significancesQDA)\n",
    "occSGD1, occSGD2, occSGD3, occSGD4 = compute_data_occurences(occurancesSGD)\n",
    "signSGD1, signSGD2, signSGD3, signSGD4 = compute_data_significances(significancesSGD)"
   ],
   "metadata": {
    "collapsed": false,
    "ExecuteTime": {
     "end_time": "2024-01-27T09:30:34.852562700Z",
     "start_time": "2024-01-27T09:30:34.780956Z"
    }
   }
  },
  {
   "cell_type": "code",
   "execution_count": 8,
   "outputs": [],
   "source": [
    "def plot_histogram_occurrences(data_LDA, data_QDA, data_SGD):\n",
    "    fig, ax = plt.subplots(layout='constrained',figsize=(5,4))\n",
    "    columns = ['n <= 2', '3 <= n <= 4', '5 <= n <= 6', 'n >= 7']\n",
    "    plot_LDA = [data_LDA[0], data_LDA[1], data_LDA[2], data_LDA[3]]\n",
    "    plot_QDA = [data_QDA[0], data_QDA[1], data_QDA[2], data_QDA[3]]\n",
    "    plot_SGD = [data_SGD[0], data_SGD[1], data_SGD[2], data_SGD[3]]\n",
    "    plot_SGDy = [data_LDA[0]+data_QDA[0], data_LDA[1]+data_QDA[1], data_LDA[2]+data_QDA[2], data_LDA[3]+data_QDA[3]]\n",
    "\n",
    "    plt.bar(columns, plot_LDA, label='LDA', width=0.4)\n",
    "    plt.bar(columns, plot_QDA, bottom=plot_LDA, label='QDA', width=0.4)\n",
    "    plt.bar(columns, plot_SGD, bottom=plot_SGDy, label='SGD', width=0.4)\n",
    "\n",
    "    # Set labels and title\n",
    "    # plt.xlabel('Monotonicity ')\n",
    "    plt.ylabel('Number of Non-Monotone Learning Curves')\n",
    "    plt.title('Number of times a non-monotone interval was identified on a LC')\n",
    "\n",
    "    # Show the legend\n",
    "    plt.legend()\n",
    "\n",
    "    # Show the plot\n",
    "    plt.show()\n",
    "\n",
    "def plot_histogram_significances(data_LDA, data_QDA, data_SGD):\n",
    "    fig, ax = plt.subplots(layout='constrained',figsize=(5,4))\n",
    "    columns = ['S <= 0.25', 'S <= 0.5', 'S <= 0.75', 'S > 0.75']\n",
    "    plot_LDA = [data_LDA[0], data_LDA[1], data_LDA[2], data_LDA[3]]\n",
    "    plot_QDA = [data_QDA[0], data_QDA[1], data_QDA[2], data_QDA[3]]\n",
    "    plot_SGD = [data_SGD[0], data_SGD[1], data_SGD[2], data_SGD[3]]\n",
    "    plot_SGDy = [data_LDA[0]+data_QDA[0], data_LDA[1]+data_QDA[1], data_LDA[2]+data_QDA[2], data_LDA[3]+data_QDA[3]]\n",
    "\n",
    "    plt.bar(columns, plot_LDA, label='LDA', width=0.4)\n",
    "    for i in range(len(columns)):\n",
    "        plt.text(i, plot_LDA[i]//2, plot_LDA[i], ha = 'center')\n",
    "    plt.bar(columns, plot_QDA, bottom=plot_LDA, label='QDA', width=0.4)\n",
    "    for i in range(len(columns)):\n",
    "        plt.text(i, plot_QDA[i]//2 + plot_LDA[i], plot_QDA[i], ha = 'center')\n",
    "    plt.bar(columns, plot_SGD, bottom=plot_SGDy, label='SGD', width=0.4)\n",
    "    for i in range(len(columns)):\n",
    "        plt.text(i, plot_SGD[i]//2 + plot_QDA[i] + plot_LDA[i], plot_SGD[i], ha = 'center')\n",
    "\n",
    "    # Set labels and title\n",
    "    # plt.xlabel('Monotonicity ')\n",
    "    plt.ylabel('Number of Non-Monotone Learning Curves')\n",
    "    plt.title('Ranges for significance level found in LCs')\n",
    "\n",
    "    # Show the legend\n",
    "    plt.legend()\n",
    "\n",
    "    # Show the plot\n",
    "    plt.show()"
   ],
   "metadata": {
    "collapsed": false,
    "ExecuteTime": {
     "end_time": "2024-01-27T09:30:36.233334400Z",
     "start_time": "2024-01-27T09:30:36.194979700Z"
    }
   }
  },
  {
   "cell_type": "code",
   "execution_count": 9,
   "outputs": [
    {
     "data": {
      "text/plain": "<Figure size 500x400 with 1 Axes>",
      "image/png": "[encoded data removed]"
     },
     "metadata": {},
     "output_type": "display_data"
    },
    {
     "data": {
      "text/plain": "<Figure size 500x400 with 1 Axes>",
      "image/png": "[encoded data removed]"
     },
     "metadata": {},
     "output_type": "display_data"
    }
   ],
   "source": [
    "occurances_LDA = [occLDA1, occLDA2, occLDA3, occLDA4]\n",
    "significances_LDA = [signLDA1, signLDA2, signLDA3, signLDA4]\n",
    "occurances_QDA = [occQDA1, occQDA2, occQDA3, occQDA4]\n",
    "significances_QDA = [signQDA1, signQDA2, signQDA3, signQDA4]\n",
    "occurances_SGD = [occSGD1, occSGD2, occSGD3, occSGD4]\n",
    "significances_SGD = [signSGD1, signSGD2, signSGD3, signSGD4]\n",
    "\n",
    "plot_histogram_occurrences(occurances_LDA,occurances_QDA, occurances_SGD)\n",
    "plot_histogram_significances(significances_LDA, significances_QDA, significances_SGD)"
   ],
   "metadata": {
    "collapsed": false,
    "ExecuteTime": {
     "end_time": "2024-01-27T09:30:39.599925600Z",
     "start_time": "2024-01-27T09:30:38.876603400Z"
    }
   }
  },
  {
   "cell_type": "code",
   "execution_count": 10,
   "outputs": [
    {
     "name": "stdout",
     "output_type": "stream",
     "text": [
      "[[1.         0.21167576]\n",
      " [0.21167576 1.        ]]\n",
      "[[1.         0.07559451]\n",
      " [0.07559451 1.        ]]\n",
      "[[1.         0.20767266]\n",
      " [0.20767266 1.        ]]\n"
     ]
    }
   ],
   "source": [
    "print(np.corrcoef(occurancesLDA, significancesLDA))\n",
    "print(np.corrcoef(occurancesQDA, significancesQDA))\n",
    "print(np.corrcoef(occurancesSGD, significancesSGD))"
   ],
   "metadata": {
    "collapsed": false,
    "ExecuteTime": {
     "end_time": "2024-01-27T09:30:52.293054900Z",
     "start_time": "2024-01-27T09:30:52.222107100Z"
    }
   }
  },
  {
   "cell_type": "code",
   "execution_count": 11,
   "outputs": [
    {
     "data": {
      "text/plain": "                                               learner  dataset_id  \\\n0    sklearn.discriminant_analysis.LinearDiscrimina...           6   \n1    sklearn.discriminant_analysis.LinearDiscrimina...          11   \n2    sklearn.discriminant_analysis.LinearDiscrimina...          12   \n3    sklearn.discriminant_analysis.LinearDiscrimina...          14   \n4    sklearn.discriminant_analysis.LinearDiscrimina...          16   \n..                                                 ...         ...   \n621                 sklearn.linear_model.SGDClassifier       42734   \n622                 sklearn.linear_model.SGDClassifier       42742   \n623                 sklearn.linear_model.SGDClassifier       42769   \n624                 sklearn.linear_model.SGDClassifier       42809   \n625                 sklearn.linear_model.SGDClassifier       42810   \n\n     non-monotone  occurrences  significance  \n0           False            0      0.000000  \n1           False            0      0.000000  \n2            True            1      0.079914  \n3            True            1      0.142910  \n4           False            0      0.000000  \n..            ...          ...           ...  \n621          True            3      0.547377  \n622          True            4      1.000000  \n623          True            4      0.301442  \n624          True            3      0.364157  \n625          True            3      0.982323  \n\n[626 rows x 5 columns]",
      "text/html": "<div>\n<style scoped>\n    .dataframe tbody tr th:only-of-type {\n        vertical-align: middle;\n    }\n\n    .dataframe tbody tr th {\n        vertical-align: top;\n    }\n\n    .dataframe thead th {\n        text-align: right;\n    }\n</style>\n<table border=\"1\" class=\"dataframe\">\n  <thead>\n    <tr style=\"text-align: right;\">\n      <th></th>\n      <th>learner</th>\n      <th>dataset_id</th>\n      <th>non-monotone</th>\n      <th>occurrences</th>\n      <th>significance</th>\n    </tr>\n  </thead>\n  <tbody>\n    <tr>\n      <th>0</th>\n      <td>sklearn.discriminant_analysis.LinearDiscrimina...</td>\n      <td>6</td>\n      <td>False</td>\n      <td>0</td>\n      <td>0.000000</td>\n    </tr>\n    <tr>\n      <th>1</th>\n      <td>sklearn.discriminant_analysis.LinearDiscrimina...</td>\n      <td>11</td>\n      <td>False</td>\n      <td>0</td>\n      <td>0.000000</td>\n    </tr>\n    <tr>\n      <th>2</th>\n      <td>sklearn.discriminant_analysis.LinearDiscrimina...</td>\n      <td>12</td>\n      <td>True</td>\n      <td>1</td>\n      <td>0.079914</td>\n    </tr>\n    <tr>\n      <th>3</th>\n      <td>sklearn.discriminant_analysis.LinearDiscrimina...</td>\n      <td>14</td>\n      <td>True</td>\n      <td>1</td>\n      <td>0.142910</td>\n    </tr>\n    <tr>\n      <th>4</th>\n      <td>sklearn.discriminant_analysis.LinearDiscrimina...</td>\n      <td>16</td>\n      <td>False</td>\n      <td>0</td>\n      <td>0.000000</td>\n    </tr>\n    <tr>\n      <th>...</th>\n      <td>...</td>\n      <td>...</td>\n      <td>...</td>\n      <td>...</td>\n      <td>...</td>\n    </tr>\n    <tr>\n      <th>621</th>\n      <td>sklearn.linear_model.SGDClassifier</td>\n      <td>42734</td>\n      <td>True</td>\n      <td>3</td>\n      <td>0.547377</td>\n    </tr>\n    <tr>\n      <th>622</th>\n      <td>sklearn.linear_model.SGDClassifier</td>\n      <td>42742</td>\n      <td>True</td>\n      <td>4</td>\n      <td>1.000000</td>\n    </tr>\n    <tr>\n      <th>623</th>\n      <td>sklearn.linear_model.SGDClassifier</td>\n      <td>42769</td>\n      <td>True</td>\n      <td>4</td>\n      <td>0.301442</td>\n    </tr>\n    <tr>\n      <th>624</th>\n      <td>sklearn.linear_model.SGDClassifier</td>\n      <td>42809</td>\n      <td>True</td>\n      <td>3</td>\n      <td>0.364157</td>\n    </tr>\n    <tr>\n      <th>625</th>\n      <td>sklearn.linear_model.SGDClassifier</td>\n      <td>42810</td>\n      <td>True</td>\n      <td>3</td>\n      <td>0.982323</td>\n    </tr>\n  </tbody>\n</table>\n<p>626 rows × 5 columns</p>\n</div>"
     },
     "execution_count": 11,
     "metadata": {},
     "output_type": "execute_result"
    }
   ],
   "source": [
    "experiment2_results = pd.DataFrame(rows, columns=['learner', 'dataset_id', 'non-monotone', 'occurrences', 'significance'])\n",
    "experiment2_results"
   ],
   "metadata": {
    "collapsed": false,
    "ExecuteTime": {
     "end_time": "2024-01-27T09:31:00.759865400Z",
     "start_time": "2024-01-27T09:31:00.686745600Z"
    }
   }
  },
  {
   "cell_type": "code",
   "outputs": [],
   "source": [
    "experiment2_results.to_csv('experiment2_results.csv')"
   ],
   "metadata": {
    "collapsed": false,
    "ExecuteTime": {
     "end_time": "2024-01-27T09:31:43.041407400Z",
     "start_time": "2024-01-27T09:31:42.981608900Z"
    }
   },
   "execution_count": 13
  },
  {
   "cell_type": "code",
   "outputs": [],
   "source": [],
   "metadata": {
    "collapsed": false
   }
  }
 ],
 "metadata": {
  "kernelspec": {
   "display_name": "Python 3",
   "language": "python",
   "name": "python3"
  },
  "language_info": {
   "codemirror_mode": {
    "name": "ipython",
    "version": 2
   },
   "file_extension": ".py",
   "mimetype": "text/x-python",
   "name": "python",
   "nbconvert_exporter": "python",
   "pygments_lexer": "ipython2",
   "version": "2.7.6"
  }
 },
 "nbformat": 4,
 "nbformat_minor": 0
}
